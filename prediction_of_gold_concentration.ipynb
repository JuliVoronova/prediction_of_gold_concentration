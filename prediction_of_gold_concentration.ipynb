{
  "cells": [
    {
      "cell_type": "markdown",
      "metadata": {
        "id": "KodXAmEZTvPo"
      },
      "source": [
        "# Цель проекта\n"
      ]
    },
    {
      "cell_type": "markdown",
      "metadata": {
        "id": "KU2_D_ZsTvPo"
      },
      "source": [
        "Предсказать коэффициент восстановления золота из золотосодержащей руды."
      ]
    },
    {
      "cell_type": "markdown",
      "source": [
        "# Описание данных"
      ],
      "metadata": {
        "id": "GwFpAVUdVAkv"
      }
    },
    {
      "cell_type": "markdown",
      "source": [
        "\n",
        "**Rougher feed** — исходное сырье\n",
        "\n",
        "**Rougher additions (или reagent additions)** — флотационные реагенты: Xanthate, Sulphate, Depressant\n",
        "\n",
        "**Xanthate** — ксантогенат (промотер, или активатор флотации);\n",
        "\n",
        "**Sulphate** — сульфат (на данном производстве сульфид натрия);\n",
        "\n",
        "**Depressant** — депрессант (силикат натрия).\n",
        "\n",
        "**Rougher process** (англ. «грубый процесс») — флотация\n",
        "\n",
        "**Rougher tails** — отвальные хвосты\n",
        "\n",
        "**Float banks** — флотационная установка\n",
        "\n",
        "**Cleaner process** — очистка\n",
        "\n",
        "**Rougher Au** — черновой концентрат золота\n",
        "\n",
        "**Final Au** — финальный концентрат золота\n",
        "\n",
        "Параметры этапов\n",
        "\n",
        "**air amount** — объём воздуха\n",
        "\n",
        "**fluid levels** — уровень жидкости\n",
        "\n",
        "**feed size** — размер гранул сырья\n",
        "\n",
        "**feed rate** — скорость подачи"
      ],
      "metadata": {
        "id": "OkIqzKmyVAhF"
      }
    },
    {
      "cell_type": "markdown",
      "metadata": {
        "id": "n_7Q2J8ITvPo"
      },
      "source": [
        "## Подготовка данных"
      ]
    },
    {
      "cell_type": "markdown",
      "metadata": {
        "id": "7a7jKcl9TvPo"
      },
      "source": [
        "### Содержание таблиц"
      ]
    },
    {
      "cell_type": "code",
      "execution_count": null,
      "metadata": {
        "id": "334jUPRWTvPp"
      },
      "outputs": [],
      "source": [
        "import pandas as pd\n",
        "import numpy as np\n",
        "import seaborn as sns\n",
        "import matplotlib.pyplot as plt\n",
        "from numpy.random import RandomState\n",
        "\n",
        "from sklearn import tree\n",
        "from sklearn import linear_model\n",
        "from sklearn import ensemble\n",
        "from sklearn.model_selection import cross_val_score\n",
        "from sklearn.model_selection import train_test_split\n",
        "from sklearn.model_selection import GridSearchCV\n",
        "from sklearn.dummy import DummyRegressor\n",
        "\n",
        "from sklearn.metrics import mean_absolute_error\n",
        "from sklearn.metrics import make_scorer"
      ]
    },
    {
      "cell_type": "code",
      "execution_count": null,
      "metadata": {
        "id": "9RqfCXXrTvPp"
      },
      "outputs": [],
      "source": [
        "# данные\n",
        "try:\n",
        "    df_train = pd.read_csv('/content/gold_recovery_full_new.csv')\n",
        "    df_test =  pd.read_csv('/content/gold_recovery_test_new.csv')\n",
        "    df_full = pd.read_csv('/content/gold_recovery_full_new.csv')\n",
        "except:\n",
        "    df_train = pd.read_csv('/datasets/gold_recovery_train_new.csv')\n",
        "    df_test =  pd.read_csv('/datasets/gold_recovery_test_new.csv')\n",
        "    df_full = pd.read_csv('/datasets/gold_recovery_full_new.csv')"
      ]
    },
    {
      "cell_type": "code",
      "execution_count": null,
      "metadata": {
        "id": "EhQwdb4DTvPq",
        "outputId": "b41f289d-fef0-4e02-9440-20178a2a2f29"
      },
      "outputs": [
        {
          "data": {
            "text/html": [
              "<div>\n",
              "<style scoped>\n",
              "    .dataframe tbody tr th:only-of-type {\n",
              "        vertical-align: middle;\n",
              "    }\n",
              "\n",
              "    .dataframe tbody tr th {\n",
              "        vertical-align: top;\n",
              "    }\n",
              "\n",
              "    .dataframe thead th {\n",
              "        text-align: right;\n",
              "    }\n",
              "</style>\n",
              "<table border=\"1\" class=\"dataframe\">\n",
              "  <thead>\n",
              "    <tr style=\"text-align: right;\">\n",
              "      <th></th>\n",
              "      <th>date</th>\n",
              "      <th>final.output.concentrate_ag</th>\n",
              "      <th>final.output.concentrate_pb</th>\n",
              "      <th>final.output.concentrate_sol</th>\n",
              "      <th>final.output.concentrate_au</th>\n",
              "      <th>final.output.recovery</th>\n",
              "      <th>final.output.tail_ag</th>\n",
              "      <th>final.output.tail_pb</th>\n",
              "      <th>final.output.tail_sol</th>\n",
              "      <th>final.output.tail_au</th>\n",
              "      <th>...</th>\n",
              "      <th>secondary_cleaner.state.floatbank4_a_air</th>\n",
              "      <th>secondary_cleaner.state.floatbank4_a_level</th>\n",
              "      <th>secondary_cleaner.state.floatbank4_b_air</th>\n",
              "      <th>secondary_cleaner.state.floatbank4_b_level</th>\n",
              "      <th>secondary_cleaner.state.floatbank5_a_air</th>\n",
              "      <th>secondary_cleaner.state.floatbank5_a_level</th>\n",
              "      <th>secondary_cleaner.state.floatbank5_b_air</th>\n",
              "      <th>secondary_cleaner.state.floatbank5_b_level</th>\n",
              "      <th>secondary_cleaner.state.floatbank6_a_air</th>\n",
              "      <th>secondary_cleaner.state.floatbank6_a_level</th>\n",
              "    </tr>\n",
              "  </thead>\n",
              "  <tbody>\n",
              "    <tr>\n",
              "      <th>0</th>\n",
              "      <td>2016-01-15 00:00:00</td>\n",
              "      <td>6.055403</td>\n",
              "      <td>9.889648</td>\n",
              "      <td>5.507324</td>\n",
              "      <td>42.192020</td>\n",
              "      <td>70.541216</td>\n",
              "      <td>10.411962</td>\n",
              "      <td>0.895447</td>\n",
              "      <td>16.904297</td>\n",
              "      <td>2.143149</td>\n",
              "      <td>...</td>\n",
              "      <td>14.016835</td>\n",
              "      <td>-502.488007</td>\n",
              "      <td>12.099931</td>\n",
              "      <td>-504.715942</td>\n",
              "      <td>9.925633</td>\n",
              "      <td>-498.310211</td>\n",
              "      <td>8.079666</td>\n",
              "      <td>-500.470978</td>\n",
              "      <td>14.151341</td>\n",
              "      <td>-605.841980</td>\n",
              "    </tr>\n",
              "    <tr>\n",
              "      <th>1</th>\n",
              "      <td>2016-01-15 01:00:00</td>\n",
              "      <td>6.029369</td>\n",
              "      <td>9.968944</td>\n",
              "      <td>5.257781</td>\n",
              "      <td>42.701629</td>\n",
              "      <td>69.266198</td>\n",
              "      <td>10.462676</td>\n",
              "      <td>0.927452</td>\n",
              "      <td>16.634514</td>\n",
              "      <td>2.224930</td>\n",
              "      <td>...</td>\n",
              "      <td>13.992281</td>\n",
              "      <td>-505.503262</td>\n",
              "      <td>11.950531</td>\n",
              "      <td>-501.331529</td>\n",
              "      <td>10.039245</td>\n",
              "      <td>-500.169983</td>\n",
              "      <td>7.984757</td>\n",
              "      <td>-500.582168</td>\n",
              "      <td>13.998353</td>\n",
              "      <td>-599.787184</td>\n",
              "    </tr>\n",
              "    <tr>\n",
              "      <th>2</th>\n",
              "      <td>2016-01-15 02:00:00</td>\n",
              "      <td>6.055926</td>\n",
              "      <td>10.213995</td>\n",
              "      <td>5.383759</td>\n",
              "      <td>42.657501</td>\n",
              "      <td>68.116445</td>\n",
              "      <td>10.507046</td>\n",
              "      <td>0.953716</td>\n",
              "      <td>16.208849</td>\n",
              "      <td>2.257889</td>\n",
              "      <td>...</td>\n",
              "      <td>14.015015</td>\n",
              "      <td>-502.520901</td>\n",
              "      <td>11.912783</td>\n",
              "      <td>-501.133383</td>\n",
              "      <td>10.070913</td>\n",
              "      <td>-500.129135</td>\n",
              "      <td>8.013877</td>\n",
              "      <td>-500.517572</td>\n",
              "      <td>14.028663</td>\n",
              "      <td>-601.427363</td>\n",
              "    </tr>\n",
              "    <tr>\n",
              "      <th>3</th>\n",
              "      <td>2016-01-15 03:00:00</td>\n",
              "      <td>6.047977</td>\n",
              "      <td>9.977019</td>\n",
              "      <td>4.858634</td>\n",
              "      <td>42.689819</td>\n",
              "      <td>68.347543</td>\n",
              "      <td>10.422762</td>\n",
              "      <td>0.883763</td>\n",
              "      <td>16.532835</td>\n",
              "      <td>2.146849</td>\n",
              "      <td>...</td>\n",
              "      <td>14.036510</td>\n",
              "      <td>-500.857308</td>\n",
              "      <td>11.999550</td>\n",
              "      <td>-501.193686</td>\n",
              "      <td>9.970366</td>\n",
              "      <td>-499.201640</td>\n",
              "      <td>7.977324</td>\n",
              "      <td>-500.255908</td>\n",
              "      <td>14.005551</td>\n",
              "      <td>-599.996129</td>\n",
              "    </tr>\n",
              "    <tr>\n",
              "      <th>4</th>\n",
              "      <td>2016-01-15 04:00:00</td>\n",
              "      <td>6.148599</td>\n",
              "      <td>10.142511</td>\n",
              "      <td>4.939416</td>\n",
              "      <td>42.774141</td>\n",
              "      <td>66.927016</td>\n",
              "      <td>10.360302</td>\n",
              "      <td>0.792826</td>\n",
              "      <td>16.525686</td>\n",
              "      <td>2.055292</td>\n",
              "      <td>...</td>\n",
              "      <td>14.027298</td>\n",
              "      <td>-499.838632</td>\n",
              "      <td>11.953070</td>\n",
              "      <td>-501.053894</td>\n",
              "      <td>9.925709</td>\n",
              "      <td>-501.686727</td>\n",
              "      <td>7.894242</td>\n",
              "      <td>-500.356035</td>\n",
              "      <td>13.996647</td>\n",
              "      <td>-601.496691</td>\n",
              "    </tr>\n",
              "  </tbody>\n",
              "</table>\n",
              "<p>5 rows × 87 columns</p>\n",
              "</div>"
            ],
            "text/plain": [
              "                  date  final.output.concentrate_ag  \\\n",
              "0  2016-01-15 00:00:00                     6.055403   \n",
              "1  2016-01-15 01:00:00                     6.029369   \n",
              "2  2016-01-15 02:00:00                     6.055926   \n",
              "3  2016-01-15 03:00:00                     6.047977   \n",
              "4  2016-01-15 04:00:00                     6.148599   \n",
              "\n",
              "   final.output.concentrate_pb  final.output.concentrate_sol  \\\n",
              "0                     9.889648                      5.507324   \n",
              "1                     9.968944                      5.257781   \n",
              "2                    10.213995                      5.383759   \n",
              "3                     9.977019                      4.858634   \n",
              "4                    10.142511                      4.939416   \n",
              "\n",
              "   final.output.concentrate_au  final.output.recovery  final.output.tail_ag  \\\n",
              "0                    42.192020              70.541216             10.411962   \n",
              "1                    42.701629              69.266198             10.462676   \n",
              "2                    42.657501              68.116445             10.507046   \n",
              "3                    42.689819              68.347543             10.422762   \n",
              "4                    42.774141              66.927016             10.360302   \n",
              "\n",
              "   final.output.tail_pb  final.output.tail_sol  final.output.tail_au  ...  \\\n",
              "0              0.895447              16.904297              2.143149  ...   \n",
              "1              0.927452              16.634514              2.224930  ...   \n",
              "2              0.953716              16.208849              2.257889  ...   \n",
              "3              0.883763              16.532835              2.146849  ...   \n",
              "4              0.792826              16.525686              2.055292  ...   \n",
              "\n",
              "   secondary_cleaner.state.floatbank4_a_air  \\\n",
              "0                                 14.016835   \n",
              "1                                 13.992281   \n",
              "2                                 14.015015   \n",
              "3                                 14.036510   \n",
              "4                                 14.027298   \n",
              "\n",
              "   secondary_cleaner.state.floatbank4_a_level  \\\n",
              "0                                 -502.488007   \n",
              "1                                 -505.503262   \n",
              "2                                 -502.520901   \n",
              "3                                 -500.857308   \n",
              "4                                 -499.838632   \n",
              "\n",
              "   secondary_cleaner.state.floatbank4_b_air  \\\n",
              "0                                 12.099931   \n",
              "1                                 11.950531   \n",
              "2                                 11.912783   \n",
              "3                                 11.999550   \n",
              "4                                 11.953070   \n",
              "\n",
              "   secondary_cleaner.state.floatbank4_b_level  \\\n",
              "0                                 -504.715942   \n",
              "1                                 -501.331529   \n",
              "2                                 -501.133383   \n",
              "3                                 -501.193686   \n",
              "4                                 -501.053894   \n",
              "\n",
              "   secondary_cleaner.state.floatbank5_a_air  \\\n",
              "0                                  9.925633   \n",
              "1                                 10.039245   \n",
              "2                                 10.070913   \n",
              "3                                  9.970366   \n",
              "4                                  9.925709   \n",
              "\n",
              "   secondary_cleaner.state.floatbank5_a_level  \\\n",
              "0                                 -498.310211   \n",
              "1                                 -500.169983   \n",
              "2                                 -500.129135   \n",
              "3                                 -499.201640   \n",
              "4                                 -501.686727   \n",
              "\n",
              "   secondary_cleaner.state.floatbank5_b_air  \\\n",
              "0                                  8.079666   \n",
              "1                                  7.984757   \n",
              "2                                  8.013877   \n",
              "3                                  7.977324   \n",
              "4                                  7.894242   \n",
              "\n",
              "   secondary_cleaner.state.floatbank5_b_level  \\\n",
              "0                                 -500.470978   \n",
              "1                                 -500.582168   \n",
              "2                                 -500.517572   \n",
              "3                                 -500.255908   \n",
              "4                                 -500.356035   \n",
              "\n",
              "   secondary_cleaner.state.floatbank6_a_air  \\\n",
              "0                                 14.151341   \n",
              "1                                 13.998353   \n",
              "2                                 14.028663   \n",
              "3                                 14.005551   \n",
              "4                                 13.996647   \n",
              "\n",
              "   secondary_cleaner.state.floatbank6_a_level  \n",
              "0                                 -605.841980  \n",
              "1                                 -599.787184  \n",
              "2                                 -601.427363  \n",
              "3                                 -599.996129  \n",
              "4                                 -601.496691  \n",
              "\n",
              "[5 rows x 87 columns]"
            ]
          },
          "execution_count": 3,
          "metadata": {},
          "output_type": "execute_result"
        }
      ],
      "source": [
        "df_train.head()"
      ]
    },
    {
      "cell_type": "code",
      "execution_count": null,
      "metadata": {
        "id": "gBV9jFcrTvPq",
        "outputId": "0b08a5bb-5787-4431-f372-df1ea4692222"
      },
      "outputs": [
        {
          "name": "stdout",
          "output_type": "stream",
          "text": [
            "<class 'pandas.core.frame.DataFrame'>\n",
            "RangeIndex: 14149 entries, 0 to 14148\n",
            "Data columns (total 87 columns):\n",
            " #   Column                                              Non-Null Count  Dtype  \n",
            "---  ------                                              --------------  -----  \n",
            " 0   date                                                14149 non-null  object \n",
            " 1   final.output.concentrate_ag                         14148 non-null  float64\n",
            " 2   final.output.concentrate_pb                         14148 non-null  float64\n",
            " 3   final.output.concentrate_sol                        13938 non-null  float64\n",
            " 4   final.output.concentrate_au                         14149 non-null  float64\n",
            " 5   final.output.recovery                               14149 non-null  float64\n",
            " 6   final.output.tail_ag                                14149 non-null  float64\n",
            " 7   final.output.tail_pb                                14049 non-null  float64\n",
            " 8   final.output.tail_sol                               14144 non-null  float64\n",
            " 9   final.output.tail_au                                14149 non-null  float64\n",
            " 10  primary_cleaner.input.sulfate                       14129 non-null  float64\n",
            " 11  primary_cleaner.input.depressant                    14117 non-null  float64\n",
            " 12  primary_cleaner.input.feed_size                     14149 non-null  float64\n",
            " 13  primary_cleaner.input.xanthate                      14049 non-null  float64\n",
            " 14  primary_cleaner.output.concentrate_ag               14149 non-null  float64\n",
            " 15  primary_cleaner.output.concentrate_pb               14063 non-null  float64\n",
            " 16  primary_cleaner.output.concentrate_sol              13863 non-null  float64\n",
            " 17  primary_cleaner.output.concentrate_au               14149 non-null  float64\n",
            " 18  primary_cleaner.output.tail_ag                      14148 non-null  float64\n",
            " 19  primary_cleaner.output.tail_pb                      14134 non-null  float64\n",
            " 20  primary_cleaner.output.tail_sol                     14103 non-null  float64\n",
            " 21  primary_cleaner.output.tail_au                      14149 non-null  float64\n",
            " 22  primary_cleaner.state.floatbank8_a_air              14145 non-null  float64\n",
            " 23  primary_cleaner.state.floatbank8_a_level            14148 non-null  float64\n",
            " 24  primary_cleaner.state.floatbank8_b_air              14145 non-null  float64\n",
            " 25  primary_cleaner.state.floatbank8_b_level            14148 non-null  float64\n",
            " 26  primary_cleaner.state.floatbank8_c_air              14147 non-null  float64\n",
            " 27  primary_cleaner.state.floatbank8_c_level            14148 non-null  float64\n",
            " 28  primary_cleaner.state.floatbank8_d_air              14146 non-null  float64\n",
            " 29  primary_cleaner.state.floatbank8_d_level            14148 non-null  float64\n",
            " 30  rougher.calculation.sulfate_to_au_concentrate       14148 non-null  float64\n",
            " 31  rougher.calculation.floatbank10_sulfate_to_au_feed  14148 non-null  float64\n",
            " 32  rougher.calculation.floatbank11_sulfate_to_au_feed  14148 non-null  float64\n",
            " 33  rougher.calculation.au_pb_ratio                     14149 non-null  float64\n",
            " 34  rougher.input.feed_ag                               14149 non-null  float64\n",
            " 35  rougher.input.feed_pb                               14049 non-null  float64\n",
            " 36  rougher.input.feed_rate                             14141 non-null  float64\n",
            " 37  rougher.input.feed_size                             14005 non-null  float64\n",
            " 38  rougher.input.feed_sol                              14071 non-null  float64\n",
            " 39  rougher.input.feed_au                               14149 non-null  float64\n",
            " 40  rougher.input.floatbank10_sulfate                   14120 non-null  float64\n",
            " 41  rougher.input.floatbank10_xanthate                  14141 non-null  float64\n",
            " 42  rougher.input.floatbank11_sulfate                   14113 non-null  float64\n",
            " 43  rougher.input.floatbank11_xanthate                  13721 non-null  float64\n",
            " 44  rougher.output.concentrate_ag                       14149 non-null  float64\n",
            " 45  rougher.output.concentrate_pb                       14149 non-null  float64\n",
            " 46  rougher.output.concentrate_sol                      14127 non-null  float64\n",
            " 47  rougher.output.concentrate_au                       14149 non-null  float64\n",
            " 48  rougher.output.recovery                             14149 non-null  float64\n",
            " 49  rougher.output.tail_ag                              14148 non-null  float64\n",
            " 50  rougher.output.tail_pb                              14149 non-null  float64\n",
            " 51  rougher.output.tail_sol                             14149 non-null  float64\n",
            " 52  rougher.output.tail_au                              14149 non-null  float64\n",
            " 53  rougher.state.floatbank10_a_air                     14148 non-null  float64\n",
            " 54  rougher.state.floatbank10_a_level                   14148 non-null  float64\n",
            " 55  rougher.state.floatbank10_b_air                     14148 non-null  float64\n",
            " 56  rougher.state.floatbank10_b_level                   14148 non-null  float64\n",
            " 57  rougher.state.floatbank10_c_air                     14148 non-null  float64\n",
            " 58  rougher.state.floatbank10_c_level                   14148 non-null  float64\n",
            " 59  rougher.state.floatbank10_d_air                     14149 non-null  float64\n",
            " 60  rougher.state.floatbank10_d_level                   14149 non-null  float64\n",
            " 61  rougher.state.floatbank10_e_air                     13713 non-null  float64\n",
            " 62  rougher.state.floatbank10_e_level                   14149 non-null  float64\n",
            " 63  rougher.state.floatbank10_f_air                     14149 non-null  float64\n",
            " 64  rougher.state.floatbank10_f_level                   14149 non-null  float64\n",
            " 65  secondary_cleaner.output.tail_ag                    14147 non-null  float64\n",
            " 66  secondary_cleaner.output.tail_pb                    14139 non-null  float64\n",
            " 67  secondary_cleaner.output.tail_sol                   12544 non-null  float64\n",
            " 68  secondary_cleaner.output.tail_au                    14149 non-null  float64\n",
            " 69  secondary_cleaner.state.floatbank2_a_air            13932 non-null  float64\n",
            " 70  secondary_cleaner.state.floatbank2_a_level          14148 non-null  float64\n",
            " 71  secondary_cleaner.state.floatbank2_b_air            14128 non-null  float64\n",
            " 72  secondary_cleaner.state.floatbank2_b_level          14148 non-null  float64\n",
            " 73  secondary_cleaner.state.floatbank3_a_air            14145 non-null  float64\n",
            " 74  secondary_cleaner.state.floatbank3_a_level          14148 non-null  float64\n",
            " 75  secondary_cleaner.state.floatbank3_b_air            14148 non-null  float64\n",
            " 76  secondary_cleaner.state.floatbank3_b_level          14148 non-null  float64\n",
            " 77  secondary_cleaner.state.floatbank4_a_air            14143 non-null  float64\n",
            " 78  secondary_cleaner.state.floatbank4_a_level          14148 non-null  float64\n",
            " 79  secondary_cleaner.state.floatbank4_b_air            14148 non-null  float64\n",
            " 80  secondary_cleaner.state.floatbank4_b_level          14148 non-null  float64\n",
            " 81  secondary_cleaner.state.floatbank5_a_air            14148 non-null  float64\n",
            " 82  secondary_cleaner.state.floatbank5_a_level          14148 non-null  float64\n",
            " 83  secondary_cleaner.state.floatbank5_b_air            14148 non-null  float64\n",
            " 84  secondary_cleaner.state.floatbank5_b_level          14148 non-null  float64\n",
            " 85  secondary_cleaner.state.floatbank6_a_air            14147 non-null  float64\n",
            " 86  secondary_cleaner.state.floatbank6_a_level          14148 non-null  float64\n",
            "dtypes: float64(86), object(1)\n",
            "memory usage: 9.4+ MB\n"
          ]
        }
      ],
      "source": [
        "df_train.info()"
      ]
    },
    {
      "cell_type": "code",
      "execution_count": null,
      "metadata": {
        "id": "8WtGEMlhTvPq",
        "outputId": "adbc2bed-91d5-4848-e519-d5640d202ece"
      },
      "outputs": [
        {
          "name": "stdout",
          "output_type": "stream",
          "text": [
            "<class 'pandas.core.frame.DataFrame'>\n",
            "RangeIndex: 5290 entries, 0 to 5289\n",
            "Data columns (total 53 columns):\n",
            " #   Column                                      Non-Null Count  Dtype  \n",
            "---  ------                                      --------------  -----  \n",
            " 0   date                                        5290 non-null   object \n",
            " 1   primary_cleaner.input.sulfate               5286 non-null   float64\n",
            " 2   primary_cleaner.input.depressant            5285 non-null   float64\n",
            " 3   primary_cleaner.input.feed_size             5290 non-null   float64\n",
            " 4   primary_cleaner.input.xanthate              5286 non-null   float64\n",
            " 5   primary_cleaner.state.floatbank8_a_air      5290 non-null   float64\n",
            " 6   primary_cleaner.state.floatbank8_a_level    5290 non-null   float64\n",
            " 7   primary_cleaner.state.floatbank8_b_air      5290 non-null   float64\n",
            " 8   primary_cleaner.state.floatbank8_b_level    5290 non-null   float64\n",
            " 9   primary_cleaner.state.floatbank8_c_air      5290 non-null   float64\n",
            " 10  primary_cleaner.state.floatbank8_c_level    5290 non-null   float64\n",
            " 11  primary_cleaner.state.floatbank8_d_air      5290 non-null   float64\n",
            " 12  primary_cleaner.state.floatbank8_d_level    5290 non-null   float64\n",
            " 13  rougher.input.feed_ag                       5290 non-null   float64\n",
            " 14  rougher.input.feed_pb                       5290 non-null   float64\n",
            " 15  rougher.input.feed_rate                     5287 non-null   float64\n",
            " 16  rougher.input.feed_size                     5289 non-null   float64\n",
            " 17  rougher.input.feed_sol                      5269 non-null   float64\n",
            " 18  rougher.input.feed_au                       5290 non-null   float64\n",
            " 19  rougher.input.floatbank10_sulfate           5285 non-null   float64\n",
            " 20  rougher.input.floatbank10_xanthate          5290 non-null   float64\n",
            " 21  rougher.input.floatbank11_sulfate           5282 non-null   float64\n",
            " 22  rougher.input.floatbank11_xanthate          5265 non-null   float64\n",
            " 23  rougher.state.floatbank10_a_air             5290 non-null   float64\n",
            " 24  rougher.state.floatbank10_a_level           5290 non-null   float64\n",
            " 25  rougher.state.floatbank10_b_air             5290 non-null   float64\n",
            " 26  rougher.state.floatbank10_b_level           5290 non-null   float64\n",
            " 27  rougher.state.floatbank10_c_air             5290 non-null   float64\n",
            " 28  rougher.state.floatbank10_c_level           5290 non-null   float64\n",
            " 29  rougher.state.floatbank10_d_air             5290 non-null   float64\n",
            " 30  rougher.state.floatbank10_d_level           5290 non-null   float64\n",
            " 31  rougher.state.floatbank10_e_air             5290 non-null   float64\n",
            " 32  rougher.state.floatbank10_e_level           5290 non-null   float64\n",
            " 33  rougher.state.floatbank10_f_air             5290 non-null   float64\n",
            " 34  rougher.state.floatbank10_f_level           5290 non-null   float64\n",
            " 35  secondary_cleaner.state.floatbank2_a_air    5287 non-null   float64\n",
            " 36  secondary_cleaner.state.floatbank2_a_level  5290 non-null   float64\n",
            " 37  secondary_cleaner.state.floatbank2_b_air    5288 non-null   float64\n",
            " 38  secondary_cleaner.state.floatbank2_b_level  5290 non-null   float64\n",
            " 39  secondary_cleaner.state.floatbank3_a_air    5281 non-null   float64\n",
            " 40  secondary_cleaner.state.floatbank3_a_level  5290 non-null   float64\n",
            " 41  secondary_cleaner.state.floatbank3_b_air    5290 non-null   float64\n",
            " 42  secondary_cleaner.state.floatbank3_b_level  5290 non-null   float64\n",
            " 43  secondary_cleaner.state.floatbank4_a_air    5290 non-null   float64\n",
            " 44  secondary_cleaner.state.floatbank4_a_level  5290 non-null   float64\n",
            " 45  secondary_cleaner.state.floatbank4_b_air    5290 non-null   float64\n",
            " 46  secondary_cleaner.state.floatbank4_b_level  5290 non-null   float64\n",
            " 47  secondary_cleaner.state.floatbank5_a_air    5290 non-null   float64\n",
            " 48  secondary_cleaner.state.floatbank5_a_level  5290 non-null   float64\n",
            " 49  secondary_cleaner.state.floatbank5_b_air    5290 non-null   float64\n",
            " 50  secondary_cleaner.state.floatbank5_b_level  5290 non-null   float64\n",
            " 51  secondary_cleaner.state.floatbank6_a_air    5290 non-null   float64\n",
            " 52  secondary_cleaner.state.floatbank6_a_level  5290 non-null   float64\n",
            "dtypes: float64(52), object(1)\n",
            "memory usage: 2.1+ MB\n"
          ]
        }
      ],
      "source": [
        "df_test.info()"
      ]
    },
    {
      "cell_type": "code",
      "execution_count": null,
      "metadata": {
        "id": "gg51owluTvPr",
        "outputId": "556d1ad6-0489-4e3f-a74a-5050ef779892"
      },
      "outputs": [
        {
          "name": "stdout",
          "output_type": "stream",
          "text": [
            "<class 'pandas.core.frame.DataFrame'>\n",
            "RangeIndex: 19439 entries, 0 to 19438\n",
            "Data columns (total 87 columns):\n",
            " #   Column                                              Non-Null Count  Dtype  \n",
            "---  ------                                              --------------  -----  \n",
            " 0   date                                                19439 non-null  object \n",
            " 1   final.output.concentrate_ag                         19438 non-null  float64\n",
            " 2   final.output.concentrate_pb                         19438 non-null  float64\n",
            " 3   final.output.concentrate_sol                        19228 non-null  float64\n",
            " 4   final.output.concentrate_au                         19439 non-null  float64\n",
            " 5   final.output.recovery                               19439 non-null  float64\n",
            " 6   final.output.tail_ag                                19438 non-null  float64\n",
            " 7   final.output.tail_pb                                19338 non-null  float64\n",
            " 8   final.output.tail_sol                               19433 non-null  float64\n",
            " 9   final.output.tail_au                                19439 non-null  float64\n",
            " 10  primary_cleaner.input.sulfate                       19415 non-null  float64\n",
            " 11  primary_cleaner.input.depressant                    19402 non-null  float64\n",
            " 12  primary_cleaner.input.feed_size                     19439 non-null  float64\n",
            " 13  primary_cleaner.input.xanthate                      19335 non-null  float64\n",
            " 14  primary_cleaner.output.concentrate_ag               19439 non-null  float64\n",
            " 15  primary_cleaner.output.concentrate_pb               19323 non-null  float64\n",
            " 16  primary_cleaner.output.concentrate_sol              19069 non-null  float64\n",
            " 17  primary_cleaner.output.concentrate_au               19439 non-null  float64\n",
            " 18  primary_cleaner.output.tail_ag                      19435 non-null  float64\n",
            " 19  primary_cleaner.output.tail_pb                      19418 non-null  float64\n",
            " 20  primary_cleaner.output.tail_sol                     19377 non-null  float64\n",
            " 21  primary_cleaner.output.tail_au                      19439 non-null  float64\n",
            " 22  primary_cleaner.state.floatbank8_a_air              19435 non-null  float64\n",
            " 23  primary_cleaner.state.floatbank8_a_level            19438 non-null  float64\n",
            " 24  primary_cleaner.state.floatbank8_b_air              19435 non-null  float64\n",
            " 25  primary_cleaner.state.floatbank8_b_level            19438 non-null  float64\n",
            " 26  primary_cleaner.state.floatbank8_c_air              19437 non-null  float64\n",
            " 27  primary_cleaner.state.floatbank8_c_level            19438 non-null  float64\n",
            " 28  primary_cleaner.state.floatbank8_d_air              19436 non-null  float64\n",
            " 29  primary_cleaner.state.floatbank8_d_level            19438 non-null  float64\n",
            " 30  rougher.calculation.sulfate_to_au_concentrate       19437 non-null  float64\n",
            " 31  rougher.calculation.floatbank10_sulfate_to_au_feed  19437 non-null  float64\n",
            " 32  rougher.calculation.floatbank11_sulfate_to_au_feed  19437 non-null  float64\n",
            " 33  rougher.calculation.au_pb_ratio                     19439 non-null  float64\n",
            " 34  rougher.input.feed_ag                               19439 non-null  float64\n",
            " 35  rougher.input.feed_pb                               19339 non-null  float64\n",
            " 36  rougher.input.feed_rate                             19428 non-null  float64\n",
            " 37  rougher.input.feed_size                             19294 non-null  float64\n",
            " 38  rougher.input.feed_sol                              19340 non-null  float64\n",
            " 39  rougher.input.feed_au                               19439 non-null  float64\n",
            " 40  rougher.input.floatbank10_sulfate                   19405 non-null  float64\n",
            " 41  rougher.input.floatbank10_xanthate                  19431 non-null  float64\n",
            " 42  rougher.input.floatbank11_sulfate                   19395 non-null  float64\n",
            " 43  rougher.input.floatbank11_xanthate                  18986 non-null  float64\n",
            " 44  rougher.output.concentrate_ag                       19439 non-null  float64\n",
            " 45  rougher.output.concentrate_pb                       19439 non-null  float64\n",
            " 46  rougher.output.concentrate_sol                      19416 non-null  float64\n",
            " 47  rougher.output.concentrate_au                       19439 non-null  float64\n",
            " 48  rougher.output.recovery                             19439 non-null  float64\n",
            " 49  rougher.output.tail_ag                              19438 non-null  float64\n",
            " 50  rougher.output.tail_pb                              19439 non-null  float64\n",
            " 51  rougher.output.tail_sol                             19439 non-null  float64\n",
            " 52  rougher.output.tail_au                              19439 non-null  float64\n",
            " 53  rougher.state.floatbank10_a_air                     19438 non-null  float64\n",
            " 54  rougher.state.floatbank10_a_level                   19438 non-null  float64\n",
            " 55  rougher.state.floatbank10_b_air                     19438 non-null  float64\n",
            " 56  rougher.state.floatbank10_b_level                   19438 non-null  float64\n",
            " 57  rougher.state.floatbank10_c_air                     19438 non-null  float64\n",
            " 58  rougher.state.floatbank10_c_level                   19438 non-null  float64\n",
            " 59  rougher.state.floatbank10_d_air                     19439 non-null  float64\n",
            " 60  rougher.state.floatbank10_d_level                   19439 non-null  float64\n",
            " 61  rougher.state.floatbank10_e_air                     19003 non-null  float64\n",
            " 62  rougher.state.floatbank10_e_level                   19439 non-null  float64\n",
            " 63  rougher.state.floatbank10_f_air                     19439 non-null  float64\n",
            " 64  rougher.state.floatbank10_f_level                   19439 non-null  float64\n",
            " 65  secondary_cleaner.output.tail_ag                    19437 non-null  float64\n",
            " 66  secondary_cleaner.output.tail_pb                    19427 non-null  float64\n",
            " 67  secondary_cleaner.output.tail_sol                   17691 non-null  float64\n",
            " 68  secondary_cleaner.output.tail_au                    19439 non-null  float64\n",
            " 69  secondary_cleaner.state.floatbank2_a_air            19219 non-null  float64\n",
            " 70  secondary_cleaner.state.floatbank2_a_level          19438 non-null  float64\n",
            " 71  secondary_cleaner.state.floatbank2_b_air            19416 non-null  float64\n",
            " 72  secondary_cleaner.state.floatbank2_b_level          19438 non-null  float64\n",
            " 73  secondary_cleaner.state.floatbank3_a_air            19426 non-null  float64\n",
            " 74  secondary_cleaner.state.floatbank3_a_level          19438 non-null  float64\n",
            " 75  secondary_cleaner.state.floatbank3_b_air            19438 non-null  float64\n",
            " 76  secondary_cleaner.state.floatbank3_b_level          19438 non-null  float64\n",
            " 77  secondary_cleaner.state.floatbank4_a_air            19433 non-null  float64\n",
            " 78  secondary_cleaner.state.floatbank4_a_level          19438 non-null  float64\n",
            " 79  secondary_cleaner.state.floatbank4_b_air            19438 non-null  float64\n",
            " 80  secondary_cleaner.state.floatbank4_b_level          19438 non-null  float64\n",
            " 81  secondary_cleaner.state.floatbank5_a_air            19438 non-null  float64\n",
            " 82  secondary_cleaner.state.floatbank5_a_level          19438 non-null  float64\n",
            " 83  secondary_cleaner.state.floatbank5_b_air            19438 non-null  float64\n",
            " 84  secondary_cleaner.state.floatbank5_b_level          19438 non-null  float64\n",
            " 85  secondary_cleaner.state.floatbank6_a_air            19437 non-null  float64\n",
            " 86  secondary_cleaner.state.floatbank6_a_level          19438 non-null  float64\n",
            "dtypes: float64(86), object(1)\n",
            "memory usage: 12.9+ MB\n"
          ]
        }
      ],
      "source": [
        "df_full.info()"
      ]
    },
    {
      "cell_type": "markdown",
      "metadata": {
        "id": "oTUHM7DjTvPr"
      },
      "source": [
        "В данных есть пропуски, причём в тестовой выборке меньше признаков, чем в обучающей. Можно предположить, что не все признаки в исходной таблице влияют на целевой признак, поэтому в тестовой выборке 54 из 88 (а может и не так).\n",
        "Все признаки (кроме даты) - числовые.\n",
        "Пропуски могут быть так как эти ячейки заполняются позже."
      ]
    },
    {
      "cell_type": "markdown",
      "metadata": {
        "id": "cgwgpIFGTvPr"
      },
      "source": [
        "### Проверка правильности расчёта эффективности обогащения"
      ]
    },
    {
      "cell_type": "code",
      "execution_count": null,
      "metadata": {
        "id": "jvo3FoVSTvPr"
      },
      "outputs": [],
      "source": [
        "# чтобы при расчётах не было ошибок, удалим из обучающей выборки пропуски\n",
        "\n",
        "df_train = df_train.dropna()"
      ]
    },
    {
      "cell_type": "code",
      "execution_count": null,
      "metadata": {
        "id": "3j_Tk9ySTvPr"
      },
      "outputs": [],
      "source": [
        "# будем считать эффективность по процессу флотации\n",
        "# Для расчёта эффективности (rougher.output.recovery) понадобятся следующие величины:\n",
        "\n",
        "# C — доля золота в концентрате после флотации/очистки: rougher.output.concentrate_au\n",
        "# F — доля золота в сырье/концентрате до флотации/очистки: rougher.input.feed_au\n",
        "# T — доля золота в отвальных хвостах после флотации/очистки: rougher.output.tail_au\n",
        "\n",
        "\n",
        "rougher_output_recovery = df_train['rougher.output.recovery']\n",
        "\n",
        "rougher_output_concentrate_au = df_train['rougher.output.concentrate_au']\n",
        "rougher_input_feed_au = df_train['rougher.input.feed_au']\n",
        "rougher_output_tail_au = df_train['rougher.output.tail_au']"
      ]
    },
    {
      "cell_type": "code",
      "execution_count": null,
      "metadata": {
        "id": "at3ze4B-TvPr"
      },
      "outputs": [],
      "source": [
        "# посчитаю эффективность обогащения\n",
        "\n",
        "calc_rougher_output_recovery=(rougher_output_concentrate_au*(rougher_input_feed_au - rougher_output_tail_au))/(rougher_input_feed_au*(rougher_output_concentrate_au - rougher_output_tail_au))*100"
      ]
    },
    {
      "cell_type": "code",
      "execution_count": null,
      "metadata": {
        "id": "hS-MsZ_YTvPr"
      },
      "outputs": [],
      "source": [
        "# сравню табличный и рассчитанный результат\n",
        "\n",
        "difference_table = pd.DataFrame(\n",
        "    {'Рассчитанная recovery': calc_rougher_output_recovery,\n",
        "    'Табличная recovery': rougher_output_recovery}\n",
        ")"
      ]
    },
    {
      "cell_type": "code",
      "execution_count": null,
      "metadata": {
        "id": "h6vaZBbYTvPr",
        "outputId": "b6e8af6d-ed79-4b13-81d6-f2c5497978aa"
      },
      "outputs": [
        {
          "data": {
            "text/html": [
              "<div>\n",
              "<style scoped>\n",
              "    .dataframe tbody tr th:only-of-type {\n",
              "        vertical-align: middle;\n",
              "    }\n",
              "\n",
              "    .dataframe tbody tr th {\n",
              "        vertical-align: top;\n",
              "    }\n",
              "\n",
              "    .dataframe thead th {\n",
              "        text-align: right;\n",
              "    }\n",
              "</style>\n",
              "<table border=\"1\" class=\"dataframe\">\n",
              "  <thead>\n",
              "    <tr style=\"text-align: right;\">\n",
              "      <th></th>\n",
              "      <th>Рассчитанная recovery</th>\n",
              "      <th>Табличная recovery</th>\n",
              "    </tr>\n",
              "  </thead>\n",
              "  <tbody>\n",
              "    <tr>\n",
              "      <th>0</th>\n",
              "      <td>87.107763</td>\n",
              "      <td>87.107763</td>\n",
              "    </tr>\n",
              "    <tr>\n",
              "      <th>1</th>\n",
              "      <td>86.843261</td>\n",
              "      <td>86.843261</td>\n",
              "    </tr>\n",
              "    <tr>\n",
              "      <th>2</th>\n",
              "      <td>86.842308</td>\n",
              "      <td>86.842308</td>\n",
              "    </tr>\n",
              "    <tr>\n",
              "      <th>3</th>\n",
              "      <td>87.226430</td>\n",
              "      <td>87.226430</td>\n",
              "    </tr>\n",
              "    <tr>\n",
              "      <th>4</th>\n",
              "      <td>86.688794</td>\n",
              "      <td>86.688794</td>\n",
              "    </tr>\n",
              "    <tr>\n",
              "      <th>5</th>\n",
              "      <td>88.156912</td>\n",
              "      <td>88.156912</td>\n",
              "    </tr>\n",
              "    <tr>\n",
              "      <th>6</th>\n",
              "      <td>88.168065</td>\n",
              "      <td>88.168065</td>\n",
              "    </tr>\n",
              "    <tr>\n",
              "      <th>7</th>\n",
              "      <td>87.668336</td>\n",
              "      <td>87.668336</td>\n",
              "    </tr>\n",
              "    <tr>\n",
              "      <th>8</th>\n",
              "      <td>87.035862</td>\n",
              "      <td>87.035862</td>\n",
              "    </tr>\n",
              "    <tr>\n",
              "      <th>9</th>\n",
              "      <td>87.650868</td>\n",
              "      <td>87.650868</td>\n",
              "    </tr>\n",
              "  </tbody>\n",
              "</table>\n",
              "</div>"
            ],
            "text/plain": [
              "   Рассчитанная recovery  Табличная recovery\n",
              "0              87.107763           87.107763\n",
              "1              86.843261           86.843261\n",
              "2              86.842308           86.842308\n",
              "3              87.226430           87.226430\n",
              "4              86.688794           86.688794\n",
              "5              88.156912           88.156912\n",
              "6              88.168065           88.168065\n",
              "7              87.668336           87.668336\n",
              "8              87.035862           87.035862\n",
              "9              87.650868           87.650868"
            ]
          },
          "execution_count": 11,
          "metadata": {},
          "output_type": "execute_result"
        }
      ],
      "source": [
        "difference_table.head(10)"
      ]
    },
    {
      "cell_type": "code",
      "execution_count": null,
      "metadata": {
        "id": "Bl3Bsk5OTvPs",
        "outputId": "4ad60a10-db3e-45ec-dcdf-a92a06f1c50f"
      },
      "outputs": [
        {
          "data": {
            "text/html": [
              "<div>\n",
              "<style scoped>\n",
              "    .dataframe tbody tr th:only-of-type {\n",
              "        vertical-align: middle;\n",
              "    }\n",
              "\n",
              "    .dataframe tbody tr th {\n",
              "        vertical-align: top;\n",
              "    }\n",
              "\n",
              "    .dataframe thead th {\n",
              "        text-align: right;\n",
              "    }\n",
              "</style>\n",
              "<table border=\"1\" class=\"dataframe\">\n",
              "  <thead>\n",
              "    <tr style=\"text-align: right;\">\n",
              "      <th></th>\n",
              "      <th>Рассчитанная recovery</th>\n",
              "      <th>Табличная recovery</th>\n",
              "    </tr>\n",
              "  </thead>\n",
              "  <tbody>\n",
              "    <tr>\n",
              "      <th>14134</th>\n",
              "      <td>90.577495</td>\n",
              "      <td>90.577495</td>\n",
              "    </tr>\n",
              "    <tr>\n",
              "      <th>14140</th>\n",
              "      <td>89.946627</td>\n",
              "      <td>89.946627</td>\n",
              "    </tr>\n",
              "    <tr>\n",
              "      <th>14141</th>\n",
              "      <td>87.684717</td>\n",
              "      <td>87.684717</td>\n",
              "    </tr>\n",
              "    <tr>\n",
              "      <th>14142</th>\n",
              "      <td>90.677361</td>\n",
              "      <td>90.677361</td>\n",
              "    </tr>\n",
              "    <tr>\n",
              "      <th>14143</th>\n",
              "      <td>91.816623</td>\n",
              "      <td>91.816623</td>\n",
              "    </tr>\n",
              "    <tr>\n",
              "      <th>14144</th>\n",
              "      <td>89.574376</td>\n",
              "      <td>89.574376</td>\n",
              "    </tr>\n",
              "    <tr>\n",
              "      <th>14145</th>\n",
              "      <td>87.724007</td>\n",
              "      <td>87.724007</td>\n",
              "    </tr>\n",
              "    <tr>\n",
              "      <th>14146</th>\n",
              "      <td>88.890579</td>\n",
              "      <td>88.890579</td>\n",
              "    </tr>\n",
              "    <tr>\n",
              "      <th>14147</th>\n",
              "      <td>89.858126</td>\n",
              "      <td>89.858126</td>\n",
              "    </tr>\n",
              "    <tr>\n",
              "      <th>14148</th>\n",
              "      <td>89.514960</td>\n",
              "      <td>89.514960</td>\n",
              "    </tr>\n",
              "  </tbody>\n",
              "</table>\n",
              "</div>"
            ],
            "text/plain": [
              "       Рассчитанная recovery  Табличная recovery\n",
              "14134              90.577495           90.577495\n",
              "14140              89.946627           89.946627\n",
              "14141              87.684717           87.684717\n",
              "14142              90.677361           90.677361\n",
              "14143              91.816623           91.816623\n",
              "14144              89.574376           89.574376\n",
              "14145              87.724007           87.724007\n",
              "14146              88.890579           88.890579\n",
              "14147              89.858126           89.858126\n",
              "14148              89.514960           89.514960"
            ]
          },
          "execution_count": 12,
          "metadata": {},
          "output_type": "execute_result"
        }
      ],
      "source": [
        "difference_table.tail(10)"
      ]
    },
    {
      "cell_type": "code",
      "execution_count": null,
      "metadata": {
        "scrolled": true,
        "id": "0BZzFyIiTvPs",
        "outputId": "b0899a92-34ad-4f8c-c0b7-8f4d63046c43"
      },
      "outputs": [
        {
          "data": {
            "text/plain": [
              "100.0"
            ]
          },
          "execution_count": 13,
          "metadata": {},
          "output_type": "execute_result"
        }
      ],
      "source": [
        "calc_rougher_output_recovery.max()"
      ]
    },
    {
      "cell_type": "code",
      "execution_count": null,
      "metadata": {
        "id": "dKvl00E8TvPs",
        "outputId": "c53e531f-66c2-4ac2-f3b2-5d79b37be501"
      },
      "outputs": [
        {
          "data": {
            "text/plain": [
              "100.0"
            ]
          },
          "execution_count": 14,
          "metadata": {},
          "output_type": "execute_result"
        }
      ],
      "source": [
        "rougher_output_recovery.max()"
      ]
    },
    {
      "cell_type": "code",
      "execution_count": null,
      "metadata": {
        "id": "fDXJCuloTvPs",
        "outputId": "4296188b-2277-4f06-bdb0-f75f41168f89"
      },
      "outputs": [
        {
          "data": {
            "text/plain": [
              "-0.0"
            ]
          },
          "execution_count": 15,
          "metadata": {},
          "output_type": "execute_result"
        }
      ],
      "source": [
        "calc_rougher_output_recovery.min()"
      ]
    },
    {
      "cell_type": "code",
      "execution_count": null,
      "metadata": {
        "id": "ie239uX7TvPs",
        "outputId": "0ff3f61b-156a-40a8-dc7e-e2a957d6dbe2"
      },
      "outputs": [
        {
          "data": {
            "text/plain": [
              "0.0"
            ]
          },
          "execution_count": 16,
          "metadata": {},
          "output_type": "execute_result"
        }
      ],
      "source": [
        "rougher_output_recovery.min()"
      ]
    },
    {
      "cell_type": "code",
      "execution_count": null,
      "metadata": {
        "id": "A5KbSWwGTvPs",
        "outputId": "1cec56b4-e89e-48e4-ab81-0ad4f78f5736"
      },
      "outputs": [
        {
          "data": {
            "text/plain": [
              "9.82970122149377e-15"
            ]
          },
          "execution_count": 17,
          "metadata": {},
          "output_type": "execute_result"
        }
      ],
      "source": [
        "# посчитаю MAE между расчётами и значением признака\n",
        "\n",
        "mean_absolute_error(calc_rougher_output_recovery, rougher_output_recovery)"
      ]
    },
    {
      "cell_type": "markdown",
      "metadata": {
        "id": "1RZtJCpHTvPs"
      },
      "source": [
        "Проверка проведена. Эффективность обогащения рассчитана правильно. Нет значений меньше 0 и больше 100, что верно. Эффективность не может быть отрицательным числом и не может быть больше 100. MAE между табличными и расчётными значениями очень мала (9.8 * 10^-15), что ещё раз подтверждает правильность расчётов."
      ]
    },
    {
      "cell_type": "markdown",
      "metadata": {
        "id": "daqNKKmtTvPs"
      },
      "source": [
        "### Признаки, недоступные в тестовой выборке"
      ]
    },
    {
      "cell_type": "code",
      "execution_count": null,
      "metadata": {
        "id": "6-0mEip1TvPt",
        "outputId": "bce9eddc-f086-4eca-a23e-3121ac51cab7"
      },
      "outputs": [
        {
          "data": {
            "text/plain": [
              "16                          final.output.concentrate_ag\n",
              "6                           final.output.concentrate_au\n",
              "7                           final.output.concentrate_pb\n",
              "17                         final.output.concentrate_sol\n",
              "3                                 final.output.recovery\n",
              "2                                  final.output.tail_ag\n",
              "19                                 final.output.tail_au\n",
              "9                                  final.output.tail_pb\n",
              "24                                final.output.tail_sol\n",
              "20                primary_cleaner.output.concentrate_ag\n",
              "30                primary_cleaner.output.concentrate_au\n",
              "13                primary_cleaner.output.concentrate_pb\n",
              "23               primary_cleaner.output.concentrate_sol\n",
              "26                       primary_cleaner.output.tail_ag\n",
              "14                       primary_cleaner.output.tail_au\n",
              "11                       primary_cleaner.output.tail_pb\n",
              "15                      primary_cleaner.output.tail_sol\n",
              "21                      rougher.calculation.au_pb_ratio\n",
              "0     rougher.calculation.floatbank10_sulfate_to_au_...\n",
              "10    rougher.calculation.floatbank11_sulfate_to_au_...\n",
              "1         rougher.calculation.sulfate_to_au_concentrate\n",
              "32                        rougher.output.concentrate_ag\n",
              "12                        rougher.output.concentrate_au\n",
              "8                         rougher.output.concentrate_pb\n",
              "25                       rougher.output.concentrate_sol\n",
              "5                               rougher.output.recovery\n",
              "29                               rougher.output.tail_ag\n",
              "22                               rougher.output.tail_au\n",
              "28                               rougher.output.tail_pb\n",
              "18                              rougher.output.tail_sol\n",
              "31                     secondary_cleaner.output.tail_ag\n",
              "33                     secondary_cleaner.output.tail_au\n",
              "27                     secondary_cleaner.output.tail_pb\n",
              "4                     secondary_cleaner.output.tail_sol\n",
              "dtype: object"
            ]
          },
          "metadata": {},
          "output_type": "display_data"
        },
        {
          "name": "stdout",
          "output_type": "stream",
          "text": [
            "В тестовой выборке отсутствуют 34 признака\n"
          ]
        }
      ],
      "source": [
        "# разница между признаками в full и test\n",
        "\n",
        "dif_col = pd.Series(list(set(df_full.columns) - set(df_test.columns)))\n",
        "display(dif_col.sort_values())\n",
        "print(f'В тестовой выборке отсутствуют {dif_col.count()} признака')"
      ]
    },
    {
      "cell_type": "markdown",
      "metadata": {
        "id": "N2zGN3fjTvPt"
      },
      "source": [
        "Бросается в глаза, что все эти признаки из категории \"output\", то есть выходные значения после кажого технологического процесса. Но так как у нас есть выборка обучающая с полным набором признаков, при необходимости отсутствующие значения можно предсказать."
      ]
    },
    {
      "cell_type": "markdown",
      "metadata": {
        "id": "u3Uqgmf_TvPt"
      },
      "source": [
        "### Предобработка данных"
      ]
    },
    {
      "cell_type": "code",
      "execution_count": null,
      "metadata": {
        "id": "ccDvAilKTvPt",
        "outputId": "4ff62f37-7627-4fc9-86b4-d96cdb3c0fc1"
      },
      "outputs": [
        {
          "data": {
            "text/plain": [
              "date                                          0\n",
              "final.output.concentrate_ag                   0\n",
              "final.output.concentrate_pb                   0\n",
              "final.output.concentrate_sol                  0\n",
              "final.output.concentrate_au                   0\n",
              "                                             ..\n",
              "secondary_cleaner.state.floatbank5_a_level    0\n",
              "secondary_cleaner.state.floatbank5_b_air      0\n",
              "secondary_cleaner.state.floatbank5_b_level    0\n",
              "secondary_cleaner.state.floatbank6_a_air      0\n",
              "secondary_cleaner.state.floatbank6_a_level    0\n",
              "Length: 87, dtype: int64"
            ]
          },
          "execution_count": 19,
          "metadata": {},
          "output_type": "execute_result"
        }
      ],
      "source": [
        "# смотрим количество пропусков\n",
        "\n",
        "df_train.isna().sum()\n",
        "\n",
        "# на этапе 1.2 мы удалили все пропуски из train, логично, что везде 0"
      ]
    },
    {
      "cell_type": "code",
      "execution_count": null,
      "metadata": {
        "id": "IutA9xSXTvPt",
        "outputId": "3bf19444-1932-4ea2-ff4f-67e2c2241234"
      },
      "outputs": [
        {
          "data": {
            "text/plain": [
              "date                                           0\n",
              "primary_cleaner.input.sulfate                  4\n",
              "primary_cleaner.input.depressant               5\n",
              "primary_cleaner.input.feed_size                0\n",
              "primary_cleaner.input.xanthate                 4\n",
              "primary_cleaner.state.floatbank8_a_air         0\n",
              "primary_cleaner.state.floatbank8_a_level       0\n",
              "primary_cleaner.state.floatbank8_b_air         0\n",
              "primary_cleaner.state.floatbank8_b_level       0\n",
              "primary_cleaner.state.floatbank8_c_air         0\n",
              "primary_cleaner.state.floatbank8_c_level       0\n",
              "primary_cleaner.state.floatbank8_d_air         0\n",
              "primary_cleaner.state.floatbank8_d_level       0\n",
              "rougher.input.feed_ag                          0\n",
              "rougher.input.feed_pb                          0\n",
              "rougher.input.feed_rate                        3\n",
              "rougher.input.feed_size                        1\n",
              "rougher.input.feed_sol                        21\n",
              "rougher.input.feed_au                          0\n",
              "rougher.input.floatbank10_sulfate              5\n",
              "rougher.input.floatbank10_xanthate             0\n",
              "rougher.input.floatbank11_sulfate              8\n",
              "rougher.input.floatbank11_xanthate            25\n",
              "rougher.state.floatbank10_a_air                0\n",
              "rougher.state.floatbank10_a_level              0\n",
              "rougher.state.floatbank10_b_air                0\n",
              "rougher.state.floatbank10_b_level              0\n",
              "rougher.state.floatbank10_c_air                0\n",
              "rougher.state.floatbank10_c_level              0\n",
              "rougher.state.floatbank10_d_air                0\n",
              "rougher.state.floatbank10_d_level              0\n",
              "rougher.state.floatbank10_e_air                0\n",
              "rougher.state.floatbank10_e_level              0\n",
              "rougher.state.floatbank10_f_air                0\n",
              "rougher.state.floatbank10_f_level              0\n",
              "secondary_cleaner.state.floatbank2_a_air       3\n",
              "secondary_cleaner.state.floatbank2_a_level     0\n",
              "secondary_cleaner.state.floatbank2_b_air       2\n",
              "secondary_cleaner.state.floatbank2_b_level     0\n",
              "secondary_cleaner.state.floatbank3_a_air       9\n",
              "secondary_cleaner.state.floatbank3_a_level     0\n",
              "secondary_cleaner.state.floatbank3_b_air       0\n",
              "secondary_cleaner.state.floatbank3_b_level     0\n",
              "secondary_cleaner.state.floatbank4_a_air       0\n",
              "secondary_cleaner.state.floatbank4_a_level     0\n",
              "secondary_cleaner.state.floatbank4_b_air       0\n",
              "secondary_cleaner.state.floatbank4_b_level     0\n",
              "secondary_cleaner.state.floatbank5_a_air       0\n",
              "secondary_cleaner.state.floatbank5_a_level     0\n",
              "secondary_cleaner.state.floatbank5_b_air       0\n",
              "secondary_cleaner.state.floatbank5_b_level     0\n",
              "secondary_cleaner.state.floatbank6_a_air       0\n",
              "secondary_cleaner.state.floatbank6_a_level     0\n",
              "dtype: int64"
            ]
          },
          "execution_count": 20,
          "metadata": {},
          "output_type": "execute_result"
        }
      ],
      "source": [
        "df_test.isna().sum()"
      ]
    },
    {
      "cell_type": "code",
      "execution_count": null,
      "metadata": {
        "id": "yMJR_iCVTvPt",
        "outputId": "de6787fa-f186-4451-9cb5-633eeaa4dfa3"
      },
      "outputs": [
        {
          "data": {
            "text/plain": [
              "date                                            0\n",
              "final.output.concentrate_ag                     1\n",
              "final.output.concentrate_pb                     1\n",
              "final.output.concentrate_sol                  211\n",
              "final.output.concentrate_au                     0\n",
              "                                             ... \n",
              "secondary_cleaner.state.floatbank5_a_level      1\n",
              "secondary_cleaner.state.floatbank5_b_air        1\n",
              "secondary_cleaner.state.floatbank5_b_level      1\n",
              "secondary_cleaner.state.floatbank6_a_air        2\n",
              "secondary_cleaner.state.floatbank6_a_level      1\n",
              "Length: 87, dtype: int64"
            ]
          },
          "execution_count": 21,
          "metadata": {},
          "output_type": "execute_result"
        }
      ],
      "source": [
        "df_full.isna().sum()"
      ]
    },
    {
      "cell_type": "markdown",
      "metadata": {
        "id": "Gimv_INqTvPt"
      },
      "source": [
        "Так как количество пропусков в каждой из таблиц небольшое (< 10 %), просто их удалим"
      ]
    },
    {
      "cell_type": "code",
      "execution_count": null,
      "metadata": {
        "id": "rnyx4A-ITvPt"
      },
      "outputs": [],
      "source": [
        "# удаляем пропуски в test и full\n",
        "\n",
        "df_test = df_test.dropna()\n",
        "df_full = df_full.dropna()"
      ]
    },
    {
      "cell_type": "code",
      "execution_count": null,
      "metadata": {
        "id": "5R4eTUSmTvPx",
        "outputId": "b46bf149-0a82-4f9c-a166-24b9c91cc785"
      },
      "outputs": [
        {
          "data": {
            "text/plain": [
              "date                                          0\n",
              "final.output.concentrate_ag                   0\n",
              "final.output.concentrate_pb                   0\n",
              "final.output.concentrate_sol                  0\n",
              "final.output.concentrate_au                   0\n",
              "                                             ..\n",
              "secondary_cleaner.state.floatbank5_a_level    0\n",
              "secondary_cleaner.state.floatbank5_b_air      0\n",
              "secondary_cleaner.state.floatbank5_b_level    0\n",
              "secondary_cleaner.state.floatbank6_a_air      0\n",
              "secondary_cleaner.state.floatbank6_a_level    0\n",
              "Length: 87, dtype: int64"
            ]
          },
          "execution_count": 23,
          "metadata": {},
          "output_type": "execute_result"
        }
      ],
      "source": [
        "# проверим\n",
        "\n",
        "df_full.isna().sum()"
      ]
    },
    {
      "cell_type": "code",
      "execution_count": null,
      "metadata": {
        "id": "EexjAu8yTvPx"
      },
      "outputs": [],
      "source": [
        "# заменим значения Nan последним действительным значением\n",
        "\n",
        "df_train = df_train.fillna(method='ffill')\n",
        "df_full = df_full.fillna(method='ffill')"
      ]
    },
    {
      "cell_type": "code",
      "execution_count": null,
      "metadata": {
        "id": "vvhxYrYMTvPx",
        "outputId": "38a7e819-bf35-4dfa-98a0-e221cbb2ef88"
      },
      "outputs": [
        {
          "name": "stdout",
          "output_type": "stream",
          "text": [
            "0\n",
            "0\n",
            "0\n"
          ]
        }
      ],
      "source": [
        "# есть ли явные дубликаты\n",
        "\n",
        "print(df_train['date'].duplicated().sum())\n",
        "print(df_test['date'].duplicated().sum())\n",
        "print(df_full['date'].duplicated().sum())"
      ]
    },
    {
      "cell_type": "code",
      "execution_count": null,
      "metadata": {
        "id": "Xs3KAjbpTvPx",
        "outputId": "57c4d92f-36f6-4dd1-9a9d-0ac572e308ac"
      },
      "outputs": [
        {
          "data": {
            "text/html": [
              "<div>\n",
              "<style scoped>\n",
              "    .dataframe tbody tr th:only-of-type {\n",
              "        vertical-align: middle;\n",
              "    }\n",
              "\n",
              "    .dataframe tbody tr th {\n",
              "        vertical-align: top;\n",
              "    }\n",
              "\n",
              "    .dataframe thead th {\n",
              "        text-align: right;\n",
              "    }\n",
              "</style>\n",
              "<table border=\"1\" class=\"dataframe\">\n",
              "  <thead>\n",
              "    <tr style=\"text-align: right;\">\n",
              "      <th></th>\n",
              "      <th>final.output.concentrate_ag</th>\n",
              "      <th>final.output.concentrate_pb</th>\n",
              "      <th>final.output.concentrate_sol</th>\n",
              "      <th>final.output.concentrate_au</th>\n",
              "      <th>final.output.recovery</th>\n",
              "      <th>final.output.tail_ag</th>\n",
              "      <th>final.output.tail_pb</th>\n",
              "      <th>final.output.tail_sol</th>\n",
              "      <th>final.output.tail_au</th>\n",
              "      <th>primary_cleaner.input.sulfate</th>\n",
              "      <th>...</th>\n",
              "      <th>secondary_cleaner.state.floatbank4_a_air</th>\n",
              "      <th>secondary_cleaner.state.floatbank4_a_level</th>\n",
              "      <th>secondary_cleaner.state.floatbank4_b_air</th>\n",
              "      <th>secondary_cleaner.state.floatbank4_b_level</th>\n",
              "      <th>secondary_cleaner.state.floatbank5_a_air</th>\n",
              "      <th>secondary_cleaner.state.floatbank5_a_level</th>\n",
              "      <th>secondary_cleaner.state.floatbank5_b_air</th>\n",
              "      <th>secondary_cleaner.state.floatbank5_b_level</th>\n",
              "      <th>secondary_cleaner.state.floatbank6_a_air</th>\n",
              "      <th>secondary_cleaner.state.floatbank6_a_level</th>\n",
              "    </tr>\n",
              "  </thead>\n",
              "  <tbody>\n",
              "    <tr>\n",
              "      <th>final.output.concentrate_ag</th>\n",
              "      <td>1.000000</td>\n",
              "      <td>-0.019022</td>\n",
              "      <td>0.329819</td>\n",
              "      <td>-0.212790</td>\n",
              "      <td>0.203587</td>\n",
              "      <td>0.316065</td>\n",
              "      <td>-0.094701</td>\n",
              "      <td>0.005187</td>\n",
              "      <td>0.178873</td>\n",
              "      <td>0.060213</td>\n",
              "      <td>...</td>\n",
              "      <td>0.100152</td>\n",
              "      <td>0.157680</td>\n",
              "      <td>0.050454</td>\n",
              "      <td>-0.029160</td>\n",
              "      <td>0.035294</td>\n",
              "      <td>0.233623</td>\n",
              "      <td>0.030826</td>\n",
              "      <td>0.201705</td>\n",
              "      <td>0.189121</td>\n",
              "      <td>0.054490</td>\n",
              "    </tr>\n",
              "    <tr>\n",
              "      <th>final.output.concentrate_pb</th>\n",
              "      <td>-0.019022</td>\n",
              "      <td>1.000000</td>\n",
              "      <td>-0.065129</td>\n",
              "      <td>0.222211</td>\n",
              "      <td>-0.009772</td>\n",
              "      <td>-0.167963</td>\n",
              "      <td>0.255861</td>\n",
              "      <td>0.073988</td>\n",
              "      <td>0.054701</td>\n",
              "      <td>0.063007</td>\n",
              "      <td>...</td>\n",
              "      <td>-0.009718</td>\n",
              "      <td>-0.041205</td>\n",
              "      <td>0.109560</td>\n",
              "      <td>0.075852</td>\n",
              "      <td>0.102844</td>\n",
              "      <td>-0.104938</td>\n",
              "      <td>0.160763</td>\n",
              "      <td>-0.126335</td>\n",
              "      <td>0.005053</td>\n",
              "      <td>0.085714</td>\n",
              "    </tr>\n",
              "    <tr>\n",
              "      <th>final.output.concentrate_sol</th>\n",
              "      <td>0.329819</td>\n",
              "      <td>-0.065129</td>\n",
              "      <td>1.000000</td>\n",
              "      <td>0.155692</td>\n",
              "      <td>0.279106</td>\n",
              "      <td>0.206967</td>\n",
              "      <td>0.293542</td>\n",
              "      <td>-0.206438</td>\n",
              "      <td>0.232848</td>\n",
              "      <td>0.295282</td>\n",
              "      <td>...</td>\n",
              "      <td>0.123042</td>\n",
              "      <td>0.276755</td>\n",
              "      <td>0.135737</td>\n",
              "      <td>0.118016</td>\n",
              "      <td>0.115142</td>\n",
              "      <td>0.241833</td>\n",
              "      <td>0.097966</td>\n",
              "      <td>0.233269</td>\n",
              "      <td>0.244820</td>\n",
              "      <td>-0.289354</td>\n",
              "    </tr>\n",
              "    <tr>\n",
              "      <th>final.output.concentrate_au</th>\n",
              "      <td>-0.212790</td>\n",
              "      <td>0.222211</td>\n",
              "      <td>0.155692</td>\n",
              "      <td>1.000000</td>\n",
              "      <td>0.187317</td>\n",
              "      <td>0.014546</td>\n",
              "      <td>0.069301</td>\n",
              "      <td>0.039100</td>\n",
              "      <td>-0.023612</td>\n",
              "      <td>0.027021</td>\n",
              "      <td>...</td>\n",
              "      <td>0.011957</td>\n",
              "      <td>-0.052493</td>\n",
              "      <td>-0.018711</td>\n",
              "      <td>-0.000561</td>\n",
              "      <td>-0.008576</td>\n",
              "      <td>-0.109251</td>\n",
              "      <td>-0.026964</td>\n",
              "      <td>-0.080834</td>\n",
              "      <td>-0.129300</td>\n",
              "      <td>-0.047116</td>\n",
              "    </tr>\n",
              "    <tr>\n",
              "      <th>final.output.recovery</th>\n",
              "      <td>0.203587</td>\n",
              "      <td>-0.009772</td>\n",
              "      <td>0.279106</td>\n",
              "      <td>0.187317</td>\n",
              "      <td>1.000000</td>\n",
              "      <td>0.274551</td>\n",
              "      <td>-0.132870</td>\n",
              "      <td>-0.135682</td>\n",
              "      <td>-0.444113</td>\n",
              "      <td>0.380015</td>\n",
              "      <td>...</td>\n",
              "      <td>0.267357</td>\n",
              "      <td>0.071375</td>\n",
              "      <td>0.214002</td>\n",
              "      <td>-0.102008</td>\n",
              "      <td>0.135268</td>\n",
              "      <td>0.041329</td>\n",
              "      <td>0.107690</td>\n",
              "      <td>0.064835</td>\n",
              "      <td>0.004449</td>\n",
              "      <td>-0.047625</td>\n",
              "    </tr>\n",
              "    <tr>\n",
              "      <th>final.output.tail_ag</th>\n",
              "      <td>0.316065</td>\n",
              "      <td>-0.167963</td>\n",
              "      <td>0.206967</td>\n",
              "      <td>0.014546</td>\n",
              "      <td>0.274551</td>\n",
              "      <td>1.000000</td>\n",
              "      <td>0.259728</td>\n",
              "      <td>0.045405</td>\n",
              "      <td>0.350965</td>\n",
              "      <td>0.493772</td>\n",
              "      <td>...</td>\n",
              "      <td>0.237354</td>\n",
              "      <td>0.038632</td>\n",
              "      <td>0.255385</td>\n",
              "      <td>-0.238769</td>\n",
              "      <td>0.062809</td>\n",
              "      <td>-0.012562</td>\n",
              "      <td>0.073801</td>\n",
              "      <td>0.005446</td>\n",
              "      <td>-0.065987</td>\n",
              "      <td>-0.137796</td>\n",
              "    </tr>\n",
              "    <tr>\n",
              "      <th>final.output.tail_pb</th>\n",
              "      <td>-0.094701</td>\n",
              "      <td>0.255861</td>\n",
              "      <td>0.293542</td>\n",
              "      <td>0.069301</td>\n",
              "      <td>-0.132870</td>\n",
              "      <td>0.259728</td>\n",
              "      <td>1.000000</td>\n",
              "      <td>-0.280980</td>\n",
              "      <td>0.619180</td>\n",
              "      <td>0.408101</td>\n",
              "      <td>...</td>\n",
              "      <td>0.229496</td>\n",
              "      <td>0.162964</td>\n",
              "      <td>0.275601</td>\n",
              "      <td>0.287682</td>\n",
              "      <td>0.269927</td>\n",
              "      <td>0.043028</td>\n",
              "      <td>0.261226</td>\n",
              "      <td>0.056954</td>\n",
              "      <td>0.044199</td>\n",
              "      <td>-0.200764</td>\n",
              "    </tr>\n",
              "    <tr>\n",
              "      <th>final.output.tail_sol</th>\n",
              "      <td>0.005187</td>\n",
              "      <td>0.073988</td>\n",
              "      <td>-0.206438</td>\n",
              "      <td>0.039100</td>\n",
              "      <td>-0.135682</td>\n",
              "      <td>0.045405</td>\n",
              "      <td>-0.280980</td>\n",
              "      <td>1.000000</td>\n",
              "      <td>-0.022274</td>\n",
              "      <td>0.018380</td>\n",
              "      <td>...</td>\n",
              "      <td>-0.340872</td>\n",
              "      <td>-0.119241</td>\n",
              "      <td>-0.170546</td>\n",
              "      <td>-0.135139</td>\n",
              "      <td>-0.181716</td>\n",
              "      <td>-0.122067</td>\n",
              "      <td>-0.089343</td>\n",
              "      <td>-0.135204</td>\n",
              "      <td>-0.041832</td>\n",
              "      <td>0.032171</td>\n",
              "    </tr>\n",
              "    <tr>\n",
              "      <th>final.output.tail_au</th>\n",
              "      <td>0.178873</td>\n",
              "      <td>0.054701</td>\n",
              "      <td>0.232848</td>\n",
              "      <td>-0.023612</td>\n",
              "      <td>-0.444113</td>\n",
              "      <td>0.350965</td>\n",
              "      <td>0.619180</td>\n",
              "      <td>-0.022274</td>\n",
              "      <td>1.000000</td>\n",
              "      <td>0.255752</td>\n",
              "      <td>...</td>\n",
              "      <td>-0.077653</td>\n",
              "      <td>0.121019</td>\n",
              "      <td>-0.025805</td>\n",
              "      <td>0.081352</td>\n",
              "      <td>-0.088782</td>\n",
              "      <td>0.082901</td>\n",
              "      <td>-0.053139</td>\n",
              "      <td>0.067886</td>\n",
              "      <td>0.054333</td>\n",
              "      <td>-0.123051</td>\n",
              "    </tr>\n",
              "    <tr>\n",
              "      <th>primary_cleaner.input.sulfate</th>\n",
              "      <td>0.060213</td>\n",
              "      <td>0.063007</td>\n",
              "      <td>0.295282</td>\n",
              "      <td>0.027021</td>\n",
              "      <td>0.380015</td>\n",
              "      <td>0.493772</td>\n",
              "      <td>0.408101</td>\n",
              "      <td>0.018380</td>\n",
              "      <td>0.255752</td>\n",
              "      <td>1.000000</td>\n",
              "      <td>...</td>\n",
              "      <td>0.247309</td>\n",
              "      <td>0.055171</td>\n",
              "      <td>0.250071</td>\n",
              "      <td>-0.077034</td>\n",
              "      <td>0.107195</td>\n",
              "      <td>-0.044549</td>\n",
              "      <td>0.124104</td>\n",
              "      <td>-0.024910</td>\n",
              "      <td>-0.094185</td>\n",
              "      <td>-0.156410</td>\n",
              "    </tr>\n",
              "  </tbody>\n",
              "</table>\n",
              "<p>10 rows × 86 columns</p>\n",
              "</div>"
            ],
            "text/plain": [
              "                               final.output.concentrate_ag  \\\n",
              "final.output.concentrate_ag                       1.000000   \n",
              "final.output.concentrate_pb                      -0.019022   \n",
              "final.output.concentrate_sol                      0.329819   \n",
              "final.output.concentrate_au                      -0.212790   \n",
              "final.output.recovery                             0.203587   \n",
              "final.output.tail_ag                              0.316065   \n",
              "final.output.tail_pb                             -0.094701   \n",
              "final.output.tail_sol                             0.005187   \n",
              "final.output.tail_au                              0.178873   \n",
              "primary_cleaner.input.sulfate                     0.060213   \n",
              "\n",
              "                               final.output.concentrate_pb  \\\n",
              "final.output.concentrate_ag                      -0.019022   \n",
              "final.output.concentrate_pb                       1.000000   \n",
              "final.output.concentrate_sol                     -0.065129   \n",
              "final.output.concentrate_au                       0.222211   \n",
              "final.output.recovery                            -0.009772   \n",
              "final.output.tail_ag                             -0.167963   \n",
              "final.output.tail_pb                              0.255861   \n",
              "final.output.tail_sol                             0.073988   \n",
              "final.output.tail_au                              0.054701   \n",
              "primary_cleaner.input.sulfate                     0.063007   \n",
              "\n",
              "                               final.output.concentrate_sol  \\\n",
              "final.output.concentrate_ag                        0.329819   \n",
              "final.output.concentrate_pb                       -0.065129   \n",
              "final.output.concentrate_sol                       1.000000   \n",
              "final.output.concentrate_au                        0.155692   \n",
              "final.output.recovery                              0.279106   \n",
              "final.output.tail_ag                               0.206967   \n",
              "final.output.tail_pb                               0.293542   \n",
              "final.output.tail_sol                             -0.206438   \n",
              "final.output.tail_au                               0.232848   \n",
              "primary_cleaner.input.sulfate                      0.295282   \n",
              "\n",
              "                               final.output.concentrate_au  \\\n",
              "final.output.concentrate_ag                      -0.212790   \n",
              "final.output.concentrate_pb                       0.222211   \n",
              "final.output.concentrate_sol                      0.155692   \n",
              "final.output.concentrate_au                       1.000000   \n",
              "final.output.recovery                             0.187317   \n",
              "final.output.tail_ag                              0.014546   \n",
              "final.output.tail_pb                              0.069301   \n",
              "final.output.tail_sol                             0.039100   \n",
              "final.output.tail_au                             -0.023612   \n",
              "primary_cleaner.input.sulfate                     0.027021   \n",
              "\n",
              "                               final.output.recovery  final.output.tail_ag  \\\n",
              "final.output.concentrate_ag                 0.203587              0.316065   \n",
              "final.output.concentrate_pb                -0.009772             -0.167963   \n",
              "final.output.concentrate_sol                0.279106              0.206967   \n",
              "final.output.concentrate_au                 0.187317              0.014546   \n",
              "final.output.recovery                       1.000000              0.274551   \n",
              "final.output.tail_ag                        0.274551              1.000000   \n",
              "final.output.tail_pb                       -0.132870              0.259728   \n",
              "final.output.tail_sol                      -0.135682              0.045405   \n",
              "final.output.tail_au                       -0.444113              0.350965   \n",
              "primary_cleaner.input.sulfate               0.380015              0.493772   \n",
              "\n",
              "                               final.output.tail_pb  final.output.tail_sol  \\\n",
              "final.output.concentrate_ag               -0.094701               0.005187   \n",
              "final.output.concentrate_pb                0.255861               0.073988   \n",
              "final.output.concentrate_sol               0.293542              -0.206438   \n",
              "final.output.concentrate_au                0.069301               0.039100   \n",
              "final.output.recovery                     -0.132870              -0.135682   \n",
              "final.output.tail_ag                       0.259728               0.045405   \n",
              "final.output.tail_pb                       1.000000              -0.280980   \n",
              "final.output.tail_sol                     -0.280980               1.000000   \n",
              "final.output.tail_au                       0.619180              -0.022274   \n",
              "primary_cleaner.input.sulfate              0.408101               0.018380   \n",
              "\n",
              "                               final.output.tail_au  \\\n",
              "final.output.concentrate_ag                0.178873   \n",
              "final.output.concentrate_pb                0.054701   \n",
              "final.output.concentrate_sol               0.232848   \n",
              "final.output.concentrate_au               -0.023612   \n",
              "final.output.recovery                     -0.444113   \n",
              "final.output.tail_ag                       0.350965   \n",
              "final.output.tail_pb                       0.619180   \n",
              "final.output.tail_sol                     -0.022274   \n",
              "final.output.tail_au                       1.000000   \n",
              "primary_cleaner.input.sulfate              0.255752   \n",
              "\n",
              "                               primary_cleaner.input.sulfate  ...  \\\n",
              "final.output.concentrate_ag                         0.060213  ...   \n",
              "final.output.concentrate_pb                         0.063007  ...   \n",
              "final.output.concentrate_sol                        0.295282  ...   \n",
              "final.output.concentrate_au                         0.027021  ...   \n",
              "final.output.recovery                               0.380015  ...   \n",
              "final.output.tail_ag                                0.493772  ...   \n",
              "final.output.tail_pb                                0.408101  ...   \n",
              "final.output.tail_sol                               0.018380  ...   \n",
              "final.output.tail_au                                0.255752  ...   \n",
              "primary_cleaner.input.sulfate                       1.000000  ...   \n",
              "\n",
              "                               secondary_cleaner.state.floatbank4_a_air  \\\n",
              "final.output.concentrate_ag                                    0.100152   \n",
              "final.output.concentrate_pb                                   -0.009718   \n",
              "final.output.concentrate_sol                                   0.123042   \n",
              "final.output.concentrate_au                                    0.011957   \n",
              "final.output.recovery                                          0.267357   \n",
              "final.output.tail_ag                                           0.237354   \n",
              "final.output.tail_pb                                           0.229496   \n",
              "final.output.tail_sol                                         -0.340872   \n",
              "final.output.tail_au                                          -0.077653   \n",
              "primary_cleaner.input.sulfate                                  0.247309   \n",
              "\n",
              "                               secondary_cleaner.state.floatbank4_a_level  \\\n",
              "final.output.concentrate_ag                                      0.157680   \n",
              "final.output.concentrate_pb                                     -0.041205   \n",
              "final.output.concentrate_sol                                     0.276755   \n",
              "final.output.concentrate_au                                     -0.052493   \n",
              "final.output.recovery                                            0.071375   \n",
              "final.output.tail_ag                                             0.038632   \n",
              "final.output.tail_pb                                             0.162964   \n",
              "final.output.tail_sol                                           -0.119241   \n",
              "final.output.tail_au                                             0.121019   \n",
              "primary_cleaner.input.sulfate                                    0.055171   \n",
              "\n",
              "                               secondary_cleaner.state.floatbank4_b_air  \\\n",
              "final.output.concentrate_ag                                    0.050454   \n",
              "final.output.concentrate_pb                                    0.109560   \n",
              "final.output.concentrate_sol                                   0.135737   \n",
              "final.output.concentrate_au                                   -0.018711   \n",
              "final.output.recovery                                          0.214002   \n",
              "final.output.tail_ag                                           0.255385   \n",
              "final.output.tail_pb                                           0.275601   \n",
              "final.output.tail_sol                                         -0.170546   \n",
              "final.output.tail_au                                          -0.025805   \n",
              "primary_cleaner.input.sulfate                                  0.250071   \n",
              "\n",
              "                               secondary_cleaner.state.floatbank4_b_level  \\\n",
              "final.output.concentrate_ag                                     -0.029160   \n",
              "final.output.concentrate_pb                                      0.075852   \n",
              "final.output.concentrate_sol                                     0.118016   \n",
              "final.output.concentrate_au                                     -0.000561   \n",
              "final.output.recovery                                           -0.102008   \n",
              "final.output.tail_ag                                            -0.238769   \n",
              "final.output.tail_pb                                             0.287682   \n",
              "final.output.tail_sol                                           -0.135139   \n",
              "final.output.tail_au                                             0.081352   \n",
              "primary_cleaner.input.sulfate                                   -0.077034   \n",
              "\n",
              "                               secondary_cleaner.state.floatbank5_a_air  \\\n",
              "final.output.concentrate_ag                                    0.035294   \n",
              "final.output.concentrate_pb                                    0.102844   \n",
              "final.output.concentrate_sol                                   0.115142   \n",
              "final.output.concentrate_au                                   -0.008576   \n",
              "final.output.recovery                                          0.135268   \n",
              "final.output.tail_ag                                           0.062809   \n",
              "final.output.tail_pb                                           0.269927   \n",
              "final.output.tail_sol                                         -0.181716   \n",
              "final.output.tail_au                                          -0.088782   \n",
              "primary_cleaner.input.sulfate                                  0.107195   \n",
              "\n",
              "                               secondary_cleaner.state.floatbank5_a_level  \\\n",
              "final.output.concentrate_ag                                      0.233623   \n",
              "final.output.concentrate_pb                                     -0.104938   \n",
              "final.output.concentrate_sol                                     0.241833   \n",
              "final.output.concentrate_au                                     -0.109251   \n",
              "final.output.recovery                                            0.041329   \n",
              "final.output.tail_ag                                            -0.012562   \n",
              "final.output.tail_pb                                             0.043028   \n",
              "final.output.tail_sol                                           -0.122067   \n",
              "final.output.tail_au                                             0.082901   \n",
              "primary_cleaner.input.sulfate                                   -0.044549   \n",
              "\n",
              "                               secondary_cleaner.state.floatbank5_b_air  \\\n",
              "final.output.concentrate_ag                                    0.030826   \n",
              "final.output.concentrate_pb                                    0.160763   \n",
              "final.output.concentrate_sol                                   0.097966   \n",
              "final.output.concentrate_au                                   -0.026964   \n",
              "final.output.recovery                                          0.107690   \n",
              "final.output.tail_ag                                           0.073801   \n",
              "final.output.tail_pb                                           0.261226   \n",
              "final.output.tail_sol                                         -0.089343   \n",
              "final.output.tail_au                                          -0.053139   \n",
              "primary_cleaner.input.sulfate                                  0.124104   \n",
              "\n",
              "                               secondary_cleaner.state.floatbank5_b_level  \\\n",
              "final.output.concentrate_ag                                      0.201705   \n",
              "final.output.concentrate_pb                                     -0.126335   \n",
              "final.output.concentrate_sol                                     0.233269   \n",
              "final.output.concentrate_au                                     -0.080834   \n",
              "final.output.recovery                                            0.064835   \n",
              "final.output.tail_ag                                             0.005446   \n",
              "final.output.tail_pb                                             0.056954   \n",
              "final.output.tail_sol                                           -0.135204   \n",
              "final.output.tail_au                                             0.067886   \n",
              "primary_cleaner.input.sulfate                                   -0.024910   \n",
              "\n",
              "                               secondary_cleaner.state.floatbank6_a_air  \\\n",
              "final.output.concentrate_ag                                    0.189121   \n",
              "final.output.concentrate_pb                                    0.005053   \n",
              "final.output.concentrate_sol                                   0.244820   \n",
              "final.output.concentrate_au                                   -0.129300   \n",
              "final.output.recovery                                          0.004449   \n",
              "final.output.tail_ag                                          -0.065987   \n",
              "final.output.tail_pb                                           0.044199   \n",
              "final.output.tail_sol                                         -0.041832   \n",
              "final.output.tail_au                                           0.054333   \n",
              "primary_cleaner.input.sulfate                                 -0.094185   \n",
              "\n",
              "                               secondary_cleaner.state.floatbank6_a_level  \n",
              "final.output.concentrate_ag                                      0.054490  \n",
              "final.output.concentrate_pb                                      0.085714  \n",
              "final.output.concentrate_sol                                    -0.289354  \n",
              "final.output.concentrate_au                                     -0.047116  \n",
              "final.output.recovery                                           -0.047625  \n",
              "final.output.tail_ag                                            -0.137796  \n",
              "final.output.tail_pb                                            -0.200764  \n",
              "final.output.tail_sol                                            0.032171  \n",
              "final.output.tail_au                                            -0.123051  \n",
              "primary_cleaner.input.sulfate                                   -0.156410  \n",
              "\n",
              "[10 rows x 86 columns]"
            ]
          },
          "execution_count": 26,
          "metadata": {},
          "output_type": "execute_result"
        }
      ],
      "source": [
        "# посмотрим на корреляцию в обучающей выборке\n",
        "\n",
        "df_train.corr().head(10)"
      ]
    },
    {
      "cell_type": "code",
      "execution_count": null,
      "metadata": {
        "id": "ZvcJIwWCTvPx",
        "outputId": "5ad58c5c-2f09-4adf-92f6-1b22a1232e8b"
      },
      "outputs": [
        {
          "data": {
            "image/png": "[encoded data removed]",
            "text/plain": [
              "<Figure size 720x720 with 2 Axes>"
            ]
          },
          "metadata": {
            "needs_background": "light"
          },
          "output_type": "display_data"
        }
      ],
      "source": [
        "corr = df_train.corr()\n",
        "fig, ax = plt.subplots(figsize=(10, 10));\n",
        "sns.heatmap(corr, ax=ax);\n",
        "plt.title('Визуализация коэффициентов корреляции между признаками обучающей выборки');"
      ]
    },
    {
      "cell_type": "markdown",
      "metadata": {
        "id": "9TGVeXGOTvPy"
      },
      "source": [
        "### Вывод\n",
        "\n",
        "При подготовке данных я удалила пропуски в таблицах, так как их значение было небольшим, выяснила какие признаки отсутствуют в тестовой выборке, проверила выборки на наличие дубликатов. Ярких сильных взаимосвязей между параметрами (=1.0) нет, исключение на промежуточных этапах такие связи просматриваются (primary_cleaner.state и routher.state). Это объяснимо, скорее всего есть формульные зависимости между признаками."
      ]
    },
    {
      "cell_type": "markdown",
      "metadata": {
        "id": "TLS4AyyYTvPy"
      },
      "source": [
        "## Анализ данных"
      ]
    },
    {
      "cell_type": "markdown",
      "metadata": {
        "id": "TZmtZseFTvPy"
      },
      "source": [
        "###  Как меняется концентрация металлов (Au, Ag, Pb) на различных этапах очистки"
      ]
    },
    {
      "cell_type": "code",
      "execution_count": null,
      "metadata": {
        "id": "l8E8MBjgTvPy"
      },
      "outputs": [],
      "source": [
        "# первичная очистка\n",
        "\n",
        "concetrates_primary=[]\n",
        "concetrates_primary=pd.DataFrame(concetrates_primary)\n",
        "concetrates_primary['primary_cleaner.output.concentrate_ag']=df_full['primary_cleaner.output.concentrate_ag']\n",
        "concetrates_primary['primary_cleaner.output.concentrate_pb']=df_full['primary_cleaner.output.concentrate_pb']\n",
        "concetrates_primary['primary_cleaner.output.concentrate_au']=df_full['primary_cleaner.output.concentrate_au']"
      ]
    },
    {
      "cell_type": "code",
      "execution_count": null,
      "metadata": {
        "id": "2XkgRVJ1TvPy",
        "outputId": "f544e1f9-2e51-4518-f572-fb4f8f19ba0a"
      },
      "outputs": [
        {
          "data": {
            "image/png": "[encoded data removed]",
            "text/plain": [
              "<Figure size 720x720 with 1 Axes>"
            ]
          },
          "metadata": {
            "needs_background": "light"
          },
          "output_type": "display_data"
        }
      ],
      "source": [
        "# построим boxplot для наглядности\n",
        "\n",
        "plt.figure(figsize=(10,10));\n",
        "sns.boxplot(data=concetrates_primary);\n",
        "plt.title('Распределение концентрации Au, Ag, Pb после первой очистки');"
      ]
    },
    {
      "cell_type": "code",
      "execution_count": null,
      "metadata": {
        "id": "rq7U_XDsTvPy"
      },
      "outputs": [],
      "source": [
        "# второй этап очистки\n",
        "\n",
        "concetrates_final=[]\n",
        "concetrates_final=pd.DataFrame(concetrates_final)\n",
        "concetrates_final['final.output.concentrate_ag']=df_full['final.output.concentrate_ag']\n",
        "concetrates_final['final.output.concentrate_pb']=df_full['final.output.concentrate_pb']\n",
        "concetrates_final['final.output.concentrate_au']=df_full['final.output.concentrate_au']"
      ]
    },
    {
      "cell_type": "code",
      "execution_count": null,
      "metadata": {
        "scrolled": false,
        "id": "UM9YmBMiTvPy",
        "outputId": "7e111874-acce-4733-8cc5-3b01d8ef8abd"
      },
      "outputs": [
        {
          "data": {
            "image/png": "[encoded data removed]",
            "text/plain": [
              "<Figure size 720x720 with 1 Axes>"
            ]
          },
          "metadata": {
            "needs_background": "light"
          },
          "output_type": "display_data"
        }
      ],
      "source": [
        "plt.figure(figsize=(10,10));\n",
        "sns.boxplot(data=concetrates_final);\n",
        "plt.title('Распределение концентрации Au, Ag, Pb после второй очистки');"
      ]
    },
    {
      "cell_type": "markdown",
      "metadata": {
        "id": "EgpYYB_3TvPy"
      },
      "source": [
        "Для анализа я построила boxplot.\n",
        "\n",
        "В распределениях концентраций Ag, Au и Pb есть выбросы. Для всех распределений характерно, что межквартильный размах на первом этапе очистки больше, чем на втором. То есть при первичной очистке больше вариативность концентраций, больше разнообразных значений и выбросов.\n",
        "\n",
        "На втором этапе очистки вариативность уменьшилась (значения стали более \"однородными\", разброс снизился).\n",
        "\n",
        "Причём концентрация золота в сырье выросла (от ~32 до 45%), свинца осталась примерно прежней (10%), а серебра уменьшилась.\n",
        "Происходит обогащение руды, т.е. на каждом этапе концентрация золота в сырье (наш целевой признак) увеличивается."
      ]
    },
    {
      "cell_type": "markdown",
      "metadata": {
        "id": "wBHqvN1DTvPz"
      },
      "source": [
        "### Распределения размеров гранул сырья на обучающей и тестовой выборках"
      ]
    },
    {
      "cell_type": "code",
      "execution_count": null,
      "metadata": {
        "id": "0iSEdDASTvPz",
        "outputId": "ed2f5c13-139b-4163-a2b7-022facfa25b4"
      },
      "outputs": [
        {
          "name": "stderr",
          "output_type": "stream",
          "text": [
            "/opt/conda/lib/python3.9/site-packages/seaborn/distributions.py:2557: FutureWarning: `distplot` is a deprecated function and will be removed in a future version. Please adapt your code to use either `displot` (a figure-level function with similar flexibility) or `histplot` (an axes-level function for histograms).\n",
            "  warnings.warn(msg, FutureWarning)\n",
            "/opt/conda/lib/python3.9/site-packages/seaborn/distributions.py:2557: FutureWarning: `distplot` is a deprecated function and will be removed in a future version. Please adapt your code to use either `displot` (a figure-level function with similar flexibility) or `histplot` (an axes-level function for histograms).\n",
            "  warnings.warn(msg, FutureWarning)\n"
          ]
        },
        {
          "data": {
            "image/png": "[encoded data removed]",
            "text/plain": [
              "<Figure size 864x504 with 1 Axes>"
            ]
          },
          "metadata": {
            "needs_background": "light"
          },
          "output_type": "display_data"
        }
      ],
      "source": [
        "# для сравнения построим график\n",
        "\n",
        "plt.figure(figsize=(12, 7))\n",
        "sns.distplot(df_train['primary_cleaner.input.feed_size'], bins=70, label='Обучающая выборка');\n",
        "sns.distplot(df_test['primary_cleaner.input.feed_size'], bins=70, label='Тестовая выборка');\n",
        "plt.title('Распределение размеров гранул сырья на обучающей и тестовой выборках');\n",
        "plt.legend();\n",
        "plt.xlabel('Размер');\n",
        "plt.ylabel('Частота');"
      ]
    },
    {
      "cell_type": "markdown",
      "metadata": {
        "id": "z1oizg8zTvPz"
      },
      "source": [
        "По графику видно, что распределения гранул сырья на обучающей и тестовой выборках совпадают. Это означает, что тестовая выборка является репрезентативной и пригодной для использования, оценка модели будет корректной."
      ]
    },
    {
      "cell_type": "markdown",
      "metadata": {
        "id": "2UhEjhpMTvPz"
      },
      "source": [
        "### Исследую суммарную концентрацию всех веществ на разных стадиях: в сырье, в черновом и финальном концентратах"
      ]
    },
    {
      "cell_type": "code",
      "execution_count": null,
      "metadata": {
        "id": "XLABmQmuTvPz"
      },
      "outputs": [],
      "source": [
        "# после флотации\n",
        "\n",
        "df_full['sum_concentrate_rougher'] = df_full['rougher.output.concentrate_ag'] + df_full['rougher.output.concentrate_pb'] + df_full['rougher.output.concentrate_au']"
      ]
    },
    {
      "cell_type": "code",
      "execution_count": null,
      "metadata": {
        "id": "Vx5w5WDFTvPz"
      },
      "outputs": [],
      "source": [
        "# после первой очистки\n",
        "\n",
        "df_full['sum_concentrate_primary_cleaner'] = df_full['primary_cleaner.output.concentrate_ag'] + df_full['primary_cleaner.output.concentrate_pb'] + df_full['primary_cleaner.output.concentrate_au']"
      ]
    },
    {
      "cell_type": "code",
      "execution_count": null,
      "metadata": {
        "id": "JF6P6iZ2TvPz"
      },
      "outputs": [],
      "source": [
        "# после второй очистки\n",
        "\n",
        "df_full['sum_concentrate_final'] = df_full['final.output.concentrate_ag'] + df_full['final.output.concentrate_pb'] + df_full['final.output.concentrate_au']"
      ]
    },
    {
      "cell_type": "code",
      "execution_count": null,
      "metadata": {
        "scrolled": true,
        "id": "Cta7zpaKTvPz",
        "outputId": "74ff7246-7027-47bc-c45a-ea9f24240f24"
      },
      "outputs": [
        {
          "data": {
            "image/png": "[encoded data removed]",
            "text/plain": [
              "<Figure size 864x504 with 1 Axes>"
            ]
          },
          "metadata": {
            "needs_background": "light"
          },
          "output_type": "display_data"
        }
      ],
      "source": [
        "# для сравнения концентраций построим график\n",
        "\n",
        "plt.figure(figsize=(12, 7));\n",
        "sns.histplot(df_full['sum_concentrate_rougher'], color=\"red\", label='Флотация', kde=True, stat=\"density\", linewidth=0);\n",
        "sns.histplot(df_full['sum_concentrate_primary_cleaner'], color=\"blue\", label='Первичная очистка', kde=True, stat=\"density\", linewidth=0);\n",
        "sns.histplot(df_full['sum_concentrate_final'], color=\"green\", label='Финальная очистка', kde=True, stat=\"density\", linewidth=0)\n",
        "plt.title('Распределение суммарной концентрации Au, Ag, Pb на разных стадиях');\n",
        "plt.legend();\n",
        "plt.xlabel('Концентрация');\n",
        "plt.ylabel('Частота');"
      ]
    },
    {
      "cell_type": "markdown",
      "metadata": {
        "id": "vd0ZIDrHTvPz"
      },
      "source": [
        "\n",
        "\n",
        "1) Много выбросов (длинные хвосты распределения).\n",
        "\n",
        "2) После каждой стадии процесса концентрация золота, серебра и свинца увеличивается."
      ]
    },
    {
      "cell_type": "code",
      "execution_count": null,
      "metadata": {
        "id": "05KmxKwSTvP0"
      },
      "outputs": [],
      "source": [
        "# посмотрим как обстоят дела на обучающей выборке\n",
        "\n",
        "df_train['sum_concentrate_rougher'] = df_train['rougher.output.concentrate_ag'] + df_train['rougher.output.concentrate_pb'] + df_train['rougher.output.concentrate_au']\n",
        "df_train['sum_concentrate_primary_cleaner'] = df_train['primary_cleaner.output.concentrate_ag'] + df_train['primary_cleaner.output.concentrate_pb'] + df_train['primary_cleaner.output.concentrate_au']\n",
        "df_train['sum_concentrate_final'] = df_train['final.output.concentrate_ag'] + df_train['final.output.concentrate_pb'] + df_train['final.output.concentrate_au']"
      ]
    },
    {
      "cell_type": "code",
      "execution_count": null,
      "metadata": {
        "scrolled": true,
        "id": "Ymz_Mf4ETvP0",
        "outputId": "682a7840-f4b3-49f8-a5d9-ea863562c1b3"
      },
      "outputs": [
        {
          "data": {
            "image/png": "[encoded data removed]",
            "text/plain": [
              "<Figure size 864x504 with 1 Axes>"
            ]
          },
          "metadata": {
            "needs_background": "light"
          },
          "output_type": "display_data"
        }
      ],
      "source": [
        "plt.figure(figsize=(12, 7));\n",
        "sns.histplot(df_train['sum_concentrate_rougher'], color=\"red\", label='Флотация', kde=True, stat=\"density\", linewidth=0);\n",
        "sns.histplot(df_train['sum_concentrate_primary_cleaner'], color=\"blue\", label='Первичная очистка', kde=True, stat=\"density\", linewidth=0);\n",
        "sns.histplot(df_train['sum_concentrate_final'], color=\"green\", label='Финальная очистка', kde=True, stat=\"density\", linewidth=0)\n",
        "plt.title('Распределение суммарной концентрации Au, Ag, Pb на обучающей выборке');\n",
        "plt.legend();\n",
        "plt.xlabel('Концентрация');\n",
        "plt.ylabel('Частота');"
      ]
    },
    {
      "cell_type": "markdown",
      "metadata": {
        "id": "XbR9DWjFTvP0"
      },
      "source": [
        "Здесь тоже есть выбросы. Так как на этой выборке мы будем обучать модель, \"отрежем\" концентрации меньше 30%."
      ]
    },
    {
      "cell_type": "code",
      "execution_count": null,
      "metadata": {
        "scrolled": false,
        "id": "EBrvQp8FTvP0"
      },
      "outputs": [],
      "source": [
        "df_train = df_train[(df_train['sum_concentrate_rougher'] > 30) &\n",
        "                  (df_train['sum_concentrate_primary_cleaner'] > 30) &\n",
        "                  (df_train['sum_concentrate_final'] > 30)]\n",
        "\n",
        "df_train = df_train.reset_index()"
      ]
    },
    {
      "cell_type": "code",
      "execution_count": null,
      "metadata": {
        "scrolled": true,
        "id": "rUkLsyN1TvP0",
        "outputId": "0140be6b-b09d-4619-b7f1-3b98d396b2cb"
      },
      "outputs": [
        {
          "data": {
            "image/png": "[encoded data removed]",
            "text/plain": [
              "<Figure size 864x504 with 1 Axes>"
            ]
          },
          "metadata": {
            "needs_background": "light"
          },
          "output_type": "display_data"
        }
      ],
      "source": [
        "plt.figure(figsize=(12, 7));\n",
        "sns.histplot(df_train['sum_concentrate_rougher'], color=\"red\", label='Флотация', stat=\"density\", linewidth=0, kde=True);\n",
        "sns.histplot(df_train['sum_concentrate_primary_cleaner'], color=\"blue\", label='Первичная очистка', stat=\"density\", linewidth=0, kde=True);\n",
        "sns.histplot(df_train['sum_concentrate_final'], color=\"green\", label='Финальная очистка', stat=\"density\", linewidth=0, kde=True)\n",
        "plt.title('Распределение суммарной концентрации Au, Ag, Pb на обучающей выборке после фильтации');\n",
        "plt.legend();\n",
        "plt.xlabel('Концентрация');\n",
        "plt.ylabel('Частота');"
      ]
    },
    {
      "cell_type": "markdown",
      "metadata": {
        "id": "GVcJq2iQTvP0"
      },
      "source": [
        "### Вывод\n",
        "\n",
        "Исследовала изменение суммарных концентраций золота, серебра и свинца на каждом этапе обогащения. После каждого этапа концетрации полезных элементов росли.\n",
        "\n",
        "Выяснила, что распределения гранул сырья на обучающей и тестовой выборках совпадают. Тестовая выборка является репрезентативной.\n",
        "\n",
        "Далее я решила отфильтровать обучающую выборку по суммарной концентрации элементов на каждом этапе (\"отрезать\" концентрации меньше 30%), т.е. убрать выбросы, чтобы модели обучались лучше."
      ]
    },
    {
      "cell_type": "markdown",
      "metadata": {
        "id": "6LQ3BXiiTvP0"
      },
      "source": [
        "## Модель"
      ]
    },
    {
      "cell_type": "markdown",
      "metadata": {
        "id": "R47IlvT6TvP1"
      },
      "source": [
        "Для решения задачи введём новую метрику качества — sMAPE (англ. Symmetric Mean Absolute Percentage Error, «симметричное среднее абсолютное процентное отклонение»).\n",
        "\n",
        "Она похожа на MAE, но выражается не в абсолютных величинах, а в относительных. Почему симметричная? Она одинаково учитывает масштаб и целевого признака, и предсказания.\n",
        "\n",
        "Нужно спрогнозировать сразу две величины:\n",
        "\n",
        "1) эффективность обогащения чернового концентрата rougher.output.recovery;\n",
        "\n",
        "2) эффективность обогащения финального концентрата final.output.recovery."
      ]
    },
    {
      "cell_type": "code",
      "execution_count": null,
      "metadata": {
        "id": "h3HOzUroTvP1"
      },
      "outputs": [],
      "source": [
        "def total_smape(y_true,y_pred):\n",
        "    numerator = np.abs(y_true - y_pred)\n",
        "    denominator = (np.abs(y_true) + np.abs(y_pred))/2\n",
        "    smape = ((numerator/denominator)*100).sum() / len(y_pred)\n",
        "    return 0.25*smape[0] + 0.75*smape[1]"
      ]
    },
    {
      "cell_type": "markdown",
      "metadata": {
        "id": "E7UHCMHLTvP1"
      },
      "source": [
        "### Линейная регрессия"
      ]
    },
    {
      "cell_type": "code",
      "execution_count": null,
      "metadata": {
        "id": "KYXTtBAuTvP1"
      },
      "outputs": [],
      "source": [
        "columns = df_test.drop(['date'], axis=1).columns\n",
        "\n",
        "train_features = df_train[columns]\n",
        "\n",
        "column_target = ['rougher.output.recovery', 'final.output.recovery']\n",
        "\n",
        "train_target  = df_train[column_target]"
      ]
    },
    {
      "cell_type": "code",
      "execution_count": null,
      "metadata": {
        "id": "KH3TAM8nTvP1"
      },
      "outputs": [],
      "source": [
        "df_test_full = df_test.merge(df_full).reset_index()\n",
        "\n",
        "test_features = df_test_full[columns]\n",
        "\n",
        "test_target_rougher = df_test_full['rougher.output.recovery']\n",
        "test_target_final = df_test_full['final.output.recovery']"
      ]
    },
    {
      "cell_type": "code",
      "execution_count": null,
      "metadata": {
        "id": "jXGWJxBhTvP1",
        "outputId": "1b47db0c-45fb-4086-bb05-b94f1565cca7"
      },
      "outputs": [
        {
          "name": "stdout",
          "output_type": "stream",
          "text": [
            "sMAPE линейной регрессии: 8.38\n"
          ]
        }
      ],
      "source": [
        "clf_LR = linear_model.LinearRegression()\n",
        "\n",
        "# для подсчёта sMAPE одного таргета\n",
        "smape_scorer = make_scorer(total_smape, greater_is_better = False)\n",
        "\n",
        "score = np.abs(cross_val_score(clf_LR, train_features, train_target, scoring=smape_scorer, cv=5).mean())\n",
        "\n",
        "#score_final = np.abs(cross_val_score(clf_LR, train_features, train_target_final, scoring=smape_scorer, cv=5).mean())\n",
        "\n",
        "# финальный sMAPE\n",
        "#total_smape = 0.25*score_rougher + 0.75*score_final\n",
        "\n",
        "print(f'sMAPE линейной регрессии: {score:.3}')"
      ]
    },
    {
      "cell_type": "markdown",
      "metadata": {
        "id": "KXaHBJTUTvP2"
      },
      "source": [
        "### Случайный лес"
      ]
    },
    {
      "cell_type": "code",
      "execution_count": null,
      "metadata": {
        "id": "GtR2if6ITvP2"
      },
      "outputs": [],
      "source": [
        "clf_RF = ensemble.RandomForestRegressor()"
      ]
    },
    {
      "cell_type": "code",
      "execution_count": null,
      "metadata": {
        "scrolled": true,
        "id": "6Vx7QOgUTvP2"
      },
      "outputs": [],
      "source": [
        "# параметры, которые важны\n",
        "\n",
        "parameters = {'n_estimators': range(10, 20, 5),\n",
        "             'max_depth': range(1, 10, 1)}"
      ]
    },
    {
      "cell_type": "code",
      "execution_count": null,
      "metadata": {
        "id": "TnKlYG7BTvP2",
        "outputId": "88360aec-0761-45f7-ee75-da16056dbed8"
      },
      "outputs": [
        {
          "data": {
            "text/plain": [
              "{'max_depth': 3, 'n_estimators': 15}"
            ]
          },
          "execution_count": 49,
          "metadata": {},
          "output_type": "execute_result"
        }
      ],
      "source": [
        "smape_scorer = make_scorer(sMAPE, greater_is_better=False)\n",
        "\n",
        "grid = GridSearchCV(clf_RF, parameters, scoring=smape_scorer, cv=5)\n",
        "grid.fit(train_features, train_target_rougher)\n",
        "\n",
        "grid.best_params_"
      ]
    },
    {
      "cell_type": "code",
      "execution_count": null,
      "metadata": {
        "id": "O_s6Wp8DTvP2"
      },
      "outputs": [],
      "source": [
        "# посчитаем sMAPE для этапа rougher\n",
        "\n",
        "clf_RF = ensemble.RandomForestRegressor(max_depth = 3, n_estimators = 15, random_state=12345)\n",
        "\n",
        "score_rougher = np.abs(cross_val_score(clf_RF, train_features, train_target_rougher, scoring=smape_scorer, cv=5).mean())"
      ]
    },
    {
      "cell_type": "code",
      "execution_count": null,
      "metadata": {
        "id": "8WvY1HjaTvP2",
        "outputId": "10027cae-d4be-4a4b-ed07-e2bc1b87a042"
      },
      "outputs": [
        {
          "data": {
            "text/plain": [
              "{'max_depth': 1, 'n_estimators': 10}"
            ]
          },
          "execution_count": 51,
          "metadata": {},
          "output_type": "execute_result"
        }
      ],
      "source": [
        "grid.fit(train_features, train_target_final)\n",
        "\n",
        "grid.best_params_"
      ]
    },
    {
      "cell_type": "code",
      "execution_count": null,
      "metadata": {
        "id": "ZO4ysI-_TvP3"
      },
      "outputs": [],
      "source": [
        "# посчитаем sMAPE для этапа final\n",
        "\n",
        "clf_RF = ensemble.RandomForestRegressor(max_depth = 1, n_estimators = 10, random_state=12345)\n",
        "\n",
        "score_final = np.abs(cross_val_score(clf_RF, train_features, train_target_final, scoring=smape_scorer, cv=5).mean())"
      ]
    },
    {
      "cell_type": "code",
      "execution_count": null,
      "metadata": {
        "id": "78qWQ1s0TvP3",
        "outputId": "b9608cec-8eb5-41f7-e8ea-50d4296d200a"
      },
      "outputs": [
        {
          "name": "stdout",
          "output_type": "stream",
          "text": [
            "sMAPE случайного леса: 7.53\n"
          ]
        }
      ],
      "source": [
        "# итоговый sMAPE\n",
        "\n",
        "total_smape = 0.25*score_rougher + 0.75*score_final\n",
        "\n",
        "print(f'sMAPE случайного леса: {total_smape:.3}')"
      ]
    },
    {
      "cell_type": "markdown",
      "metadata": {
        "id": "yHRgLaRATvP3"
      },
      "source": [
        "### Дерево решений"
      ]
    },
    {
      "cell_type": "code",
      "execution_count": null,
      "metadata": {
        "id": "jTzI3BX2TvP3",
        "outputId": "7a653388-3022-4ce9-cfdc-a322341271a4"
      },
      "outputs": [
        {
          "data": {
            "text/plain": [
              "{'max_depth': 3}"
            ]
          },
          "execution_count": 54,
          "metadata": {},
          "output_type": "execute_result"
        }
      ],
      "source": [
        "clf_DT = tree.DecisionTreeRegressor(random_state=12345)\n",
        "\n",
        "parameters = {'max_depth': range(1, 10, 1)}\n",
        "             #'criterion': 'squared_error', 'friedman_mse', 'absolute_error'}\n",
        "\n",
        "smape_scorer = make_scorer(sMAPE, greater_is_better=False)\n",
        "\n",
        "# сетка\n",
        "grid = GridSearchCV(clf_DT, parameters, scoring=smape_scorer, cv=5)\n",
        "\n",
        "grid.fit(train_features, train_target_rougher)\n",
        "\n",
        "grid.best_params_"
      ]
    },
    {
      "cell_type": "code",
      "execution_count": null,
      "metadata": {
        "id": "67ZSJB2qTvP3"
      },
      "outputs": [],
      "source": [
        "# обучаю по best_parameters\n",
        "\n",
        "clf_DT = tree.DecisionTreeRegressor(max_depth = 3, random_state=12345)\n",
        "\n",
        "score_rougher = np.abs(cross_val_score(clf_RF, train_features, train_target_rougher, scoring=smape_scorer, cv=5).mean())"
      ]
    },
    {
      "cell_type": "code",
      "execution_count": null,
      "metadata": {
        "id": "fEVHWA-bTvP3",
        "outputId": "a64f18b1-6ab3-4c34-e1dc-3226eb54be5d"
      },
      "outputs": [
        {
          "data": {
            "text/plain": [
              "{'max_depth': 1}"
            ]
          },
          "execution_count": 56,
          "metadata": {},
          "output_type": "execute_result"
        }
      ],
      "source": [
        "# подбераю для финальной\n",
        "grid.fit(train_features, train_target_final)\n",
        "\n",
        "grid.best_params_"
      ]
    },
    {
      "cell_type": "code",
      "execution_count": null,
      "metadata": {
        "id": "2q8oOJ2cTvP4"
      },
      "outputs": [],
      "source": [
        "# обучаю по best_parameters\n",
        "\n",
        "clf_DT = tree.DecisionTreeRegressor(max_depth = 1, random_state=12345)\n",
        "\n",
        "score_final = np.abs(cross_val_score(clf_DT, train_features, train_target_final, scoring=smape_scorer, cv=5).mean())"
      ]
    },
    {
      "cell_type": "code",
      "execution_count": null,
      "metadata": {
        "id": "HVSVJmQVTvP4",
        "outputId": "157d4639-af3a-40b7-e1c2-04216401dc11"
      },
      "outputs": [
        {
          "name": "stdout",
          "output_type": "stream",
          "text": [
            "sMAPE случайного леса: 7.81\n"
          ]
        }
      ],
      "source": [
        "# итоговый sMAPE\n",
        "\n",
        "total_smape = 0.25*score_rougher + 0.75*score_final\n",
        "\n",
        "print(f'sMAPE случайного леса: {total_smape:.3}')"
      ]
    },
    {
      "cell_type": "markdown",
      "metadata": {
        "id": "KFfp10oaTvP4"
      },
      "source": [
        "### Тестирую случайный лес"
      ]
    },
    {
      "cell_type": "code",
      "execution_count": null,
      "metadata": {
        "id": "_kqdpRNLTvP4",
        "outputId": "580ffde4-6741-4606-91ed-6c3fdde8f344"
      },
      "outputs": [
        {
          "data": {
            "text/html": [
              "<div>\n",
              "<style scoped>\n",
              "    .dataframe tbody tr th:only-of-type {\n",
              "        vertical-align: middle;\n",
              "    }\n",
              "\n",
              "    .dataframe tbody tr th {\n",
              "        vertical-align: top;\n",
              "    }\n",
              "\n",
              "    .dataframe thead th {\n",
              "        text-align: right;\n",
              "    }\n",
              "</style>\n",
              "<table border=\"1\" class=\"dataframe\">\n",
              "  <thead>\n",
              "    <tr style=\"text-align: right;\">\n",
              "      <th></th>\n",
              "      <th>Линейная регрессия</th>\n",
              "      <th>Случайный лес</th>\n",
              "      <th>Дерево решений</th>\n",
              "    </tr>\n",
              "  </thead>\n",
              "  <tbody>\n",
              "    <tr>\n",
              "      <th>0</th>\n",
              "      <td>8.38</td>\n",
              "      <td>7.53</td>\n",
              "      <td>7.81</td>\n",
              "    </tr>\n",
              "  </tbody>\n",
              "</table>\n",
              "</div>"
            ],
            "text/plain": [
              "   Линейная регрессия  Случайный лес  Дерево решений\n",
              "0                8.38           7.53            7.81"
            ]
          },
          "execution_count": 59,
          "metadata": {},
          "output_type": "execute_result"
        }
      ],
      "source": [
        "scores = pd.DataFrame({'Линейная регрессия': [8.38],\n",
        "                      'Случайный лес': [7.53],\n",
        "                      'Дерево решений': [7.81]})\n",
        "\n",
        "scores"
      ]
    },
    {
      "cell_type": "markdown",
      "metadata": {
        "id": "wCLJSH7_TvP4"
      },
      "source": [
        "По таблице видно, что наименьшая sMAPE у случайного леса, проверю его на тестовой"
      ]
    },
    {
      "cell_type": "code",
      "execution_count": null,
      "metadata": {
        "id": "vMdO1-Y5TvP4",
        "outputId": "27779c12-be62-49b1-a5b5-7f75e1e47f72"
      },
      "outputs": [
        {
          "name": "stdout",
          "output_type": "stream",
          "text": [
            "sMAPE случайного леса на тестовой: 8.54\n"
          ]
        }
      ],
      "source": [
        "clf_RF = ensemble.RandomForestRegressor(max_depth = 3, n_estimators = 15, random_state=12345)\n",
        "\n",
        "score_rougher = np.abs(cross_val_score(clf_RF, test_features, test_target_rougher, scoring=smape_scorer, cv=5).mean())\n",
        "\n",
        "clf_RF = ensemble.RandomForestRegressor(max_depth = 1, n_estimators = 10, random_state=12345)\n",
        "\n",
        "score_final = np.abs(cross_val_score(clf_RF, test_features, test_target_final, scoring=smape_scorer, cv=5).mean())\n",
        "\n",
        "total_smape = 0.25*score_rougher + 0.75*score_final\n",
        "\n",
        "print(f'sMAPE случайного леса на тестовой: {total_smape:.3}')"
      ]
    },
    {
      "cell_type": "markdown",
      "metadata": {
        "id": "l_M6TCZ2TvP5"
      },
      "source": [
        "### Вывод\n",
        "\n"
      ]
    },
    {
      "cell_type": "markdown",
      "metadata": {
        "id": "GZeOLsiMTvP5"
      },
      "source": [
        "Для работы было предоставлено несколько источников данных: обучающая, тестовая и полная выборки. Нужно было обучить и настроить модель, которая могла бы предсказать коэффициент восстановления золота из золотосодержащей руды.\n",
        "В процессе предобработки выяснилось, что не все признаки обучающей выборки актуальны для предсказания, так как в тестовой выборке часть признаков отсутствовала.\n",
        "Я \"очистила\" все три датасета, удалила пропуски, так как это не сильно повредило объёму данных и проанализировала как менялась концентрация полезных элементов (золота, свинаца и серебра) после каждого этапа обогащения. Концентрация всегда росла, что свидетельствует о правильном простроении технологического процесса.\n",
        "Затем, чтобы убедится, что тестовая выборка репрезентативна, я проверила совпадают ли размеры гранул сырья на обучающей и тестовой. Размер гранул совпал.\n",
        "После я отфильтровала выборки от выбросов и приступила к обучению моделей.\n",
        "Глючевой метрикой была sMAPE, поэтому наилучшую модель выбирала по ней (чем метрика меньше, тем модель лучше). В результате сравнения метрики я выбрала случайный лес, на втором месте дерево решений, а на третьем линейная регрессия.\n",
        "При проверке на тестовой выборке случайный лес показал неплохой результат sMAPE=8.77."
      ]
    }
  ],
  "metadata": {
    "ExecuteTimeLog": [
      {
        "duration": 1857,
        "start_time": "2023-02-26T14:58:22.207Z"
      },
      {
        "duration": 3030,
        "start_time": "2023-02-26T15:03:52.948Z"
      },
      {
        "duration": 27,
        "start_time": "2023-02-26T15:07:29.273Z"
      },
      {
        "duration": 25,
        "start_time": "2023-02-26T15:07:30.606Z"
      },
      {
        "duration": 13,
        "start_time": "2023-02-26T15:07:38.059Z"
      },
      {
        "duration": 20,
        "start_time": "2023-02-26T15:07:47.455Z"
      },
      {
        "duration": 3,
        "start_time": "2023-02-26T15:08:53.406Z"
      },
      {
        "duration": 20,
        "start_time": "2023-02-26T15:14:43.214Z"
      },
      {
        "duration": 4,
        "start_time": "2023-02-26T15:14:47.346Z"
      },
      {
        "duration": 4,
        "start_time": "2023-02-26T15:15:56.106Z"
      },
      {
        "duration": 4,
        "start_time": "2023-02-26T15:15:57.198Z"
      },
      {
        "duration": 8,
        "start_time": "2023-02-26T15:15:58.353Z"
      },
      {
        "duration": 8,
        "start_time": "2023-02-26T15:16:16.715Z"
      },
      {
        "duration": 6,
        "start_time": "2023-02-26T15:16:39.679Z"
      },
      {
        "duration": 4,
        "start_time": "2023-02-26T15:16:51.065Z"
      },
      {
        "duration": 5,
        "start_time": "2023-02-26T15:18:05.572Z"
      },
      {
        "duration": 4,
        "start_time": "2023-02-26T15:18:07.040Z"
      },
      {
        "duration": 4,
        "start_time": "2023-02-26T15:18:12.811Z"
      },
      {
        "duration": 5,
        "start_time": "2023-02-26T15:18:13.629Z"
      },
      {
        "duration": 4,
        "start_time": "2023-02-26T15:20:10.452Z"
      },
      {
        "duration": 8,
        "start_time": "2023-02-26T15:20:11.183Z"
      },
      {
        "duration": 8,
        "start_time": "2023-02-26T15:20:13.492Z"
      },
      {
        "duration": 5,
        "start_time": "2023-02-26T15:20:18.138Z"
      },
      {
        "duration": 5,
        "start_time": "2023-02-26T15:20:18.594Z"
      },
      {
        "duration": 5,
        "start_time": "2023-02-26T15:20:29.370Z"
      },
      {
        "duration": 5,
        "start_time": "2023-02-26T15:21:17.533Z"
      },
      {
        "duration": 4,
        "start_time": "2023-02-26T15:21:30.276Z"
      },
      {
        "duration": 2,
        "start_time": "2023-02-26T15:30:40.080Z"
      },
      {
        "duration": 124,
        "start_time": "2023-02-26T15:32:08.620Z"
      },
      {
        "duration": 10,
        "start_time": "2023-02-26T15:32:28.901Z"
      },
      {
        "duration": 3,
        "start_time": "2023-02-26T15:32:39.715Z"
      },
      {
        "duration": 3,
        "start_time": "2023-02-26T15:32:40.169Z"
      },
      {
        "duration": 4,
        "start_time": "2023-02-26T15:32:40.637Z"
      },
      {
        "duration": 3,
        "start_time": "2023-02-26T15:33:18.287Z"
      },
      {
        "duration": 4,
        "start_time": "2023-02-26T15:34:05.567Z"
      },
      {
        "duration": 6,
        "start_time": "2023-02-26T15:34:21.826Z"
      },
      {
        "duration": 5,
        "start_time": "2023-02-26T15:34:48.128Z"
      },
      {
        "duration": 6,
        "start_time": "2023-02-26T15:35:06.775Z"
      },
      {
        "duration": 13,
        "start_time": "2023-02-26T15:36:01.428Z"
      },
      {
        "duration": 7,
        "start_time": "2023-02-26T15:36:09.455Z"
      },
      {
        "duration": 7,
        "start_time": "2023-02-26T15:36:18.495Z"
      },
      {
        "duration": 8,
        "start_time": "2023-02-26T15:36:33.831Z"
      },
      {
        "duration": 13,
        "start_time": "2023-02-26T15:38:26.211Z"
      },
      {
        "duration": 5,
        "start_time": "2023-02-26T15:38:34.636Z"
      },
      {
        "duration": 7,
        "start_time": "2023-02-26T15:38:51.464Z"
      },
      {
        "duration": 7,
        "start_time": "2023-02-26T15:40:14.327Z"
      },
      {
        "duration": 9,
        "start_time": "2023-02-26T15:53:34.705Z"
      },
      {
        "duration": 27,
        "start_time": "2023-02-26T15:54:21.570Z"
      },
      {
        "duration": 8,
        "start_time": "2023-02-26T15:54:47.701Z"
      },
      {
        "duration": 6,
        "start_time": "2023-02-26T15:55:07.025Z"
      },
      {
        "duration": 11,
        "start_time": "2023-02-26T15:55:15.510Z"
      },
      {
        "duration": 11,
        "start_time": "2023-02-26T15:55:27.421Z"
      },
      {
        "duration": 13,
        "start_time": "2023-02-26T15:56:49.277Z"
      },
      {
        "duration": 8,
        "start_time": "2023-02-26T15:57:35.474Z"
      },
      {
        "duration": 9,
        "start_time": "2023-02-26T15:57:42.687Z"
      },
      {
        "duration": 9,
        "start_time": "2023-02-26T15:57:56.993Z"
      },
      {
        "duration": 10,
        "start_time": "2023-02-26T15:59:31.677Z"
      },
      {
        "duration": 9,
        "start_time": "2023-02-26T16:00:07.143Z"
      },
      {
        "duration": 11,
        "start_time": "2023-02-26T16:01:35.623Z"
      },
      {
        "duration": 4,
        "start_time": "2023-02-26T16:01:36.231Z"
      },
      {
        "duration": 4,
        "start_time": "2023-02-26T16:01:36.907Z"
      },
      {
        "duration": 4,
        "start_time": "2023-02-26T16:01:38.571Z"
      },
      {
        "duration": 8,
        "start_time": "2023-02-26T16:01:39.107Z"
      },
      {
        "duration": 8,
        "start_time": "2023-02-26T16:01:42.821Z"
      },
      {
        "duration": 4,
        "start_time": "2023-02-26T16:01:47.028Z"
      },
      {
        "duration": 5,
        "start_time": "2023-02-26T16:01:47.635Z"
      },
      {
        "duration": 5,
        "start_time": "2023-02-26T16:01:48.125Z"
      },
      {
        "duration": 4,
        "start_time": "2023-02-26T16:01:48.532Z"
      },
      {
        "duration": 7,
        "start_time": "2023-02-26T16:01:50.493Z"
      },
      {
        "duration": 10,
        "start_time": "2023-02-26T16:05:17.614Z"
      },
      {
        "duration": 7,
        "start_time": "2023-02-26T16:05:25.070Z"
      },
      {
        "duration": 12,
        "start_time": "2023-02-26T16:05:52.085Z"
      },
      {
        "duration": 10,
        "start_time": "2023-02-26T16:06:02.081Z"
      },
      {
        "duration": 6,
        "start_time": "2023-02-26T16:06:16.964Z"
      },
      {
        "duration": 21,
        "start_time": "2023-02-26T16:09:28.874Z"
      },
      {
        "duration": 10,
        "start_time": "2023-02-26T16:10:00.085Z"
      },
      {
        "duration": 9,
        "start_time": "2023-02-26T16:10:11.187Z"
      },
      {
        "duration": 15,
        "start_time": "2023-02-26T16:11:12.233Z"
      },
      {
        "duration": 1340,
        "start_time": "2023-02-26T16:11:34.354Z"
      },
      {
        "duration": 6,
        "start_time": "2023-02-26T16:12:07.679Z"
      },
      {
        "duration": 11,
        "start_time": "2023-02-26T16:12:39.207Z"
      },
      {
        "duration": 9,
        "start_time": "2023-02-26T16:12:43.754Z"
      },
      {
        "duration": 9,
        "start_time": "2023-02-26T16:12:46.698Z"
      },
      {
        "duration": 41,
        "start_time": "2023-02-26T16:12:55.351Z"
      },
      {
        "duration": 10,
        "start_time": "2023-02-26T16:14:03.334Z"
      },
      {
        "duration": 24,
        "start_time": "2023-02-26T16:14:07.892Z"
      },
      {
        "duration": 6,
        "start_time": "2023-02-26T16:15:09.016Z"
      },
      {
        "duration": 5,
        "start_time": "2023-02-26T16:15:14.382Z"
      },
      {
        "duration": 8,
        "start_time": "2023-02-26T16:15:20.202Z"
      },
      {
        "duration": 5,
        "start_time": "2023-02-26T16:15:24.815Z"
      },
      {
        "duration": 6,
        "start_time": "2023-02-26T16:15:53.100Z"
      },
      {
        "duration": 7,
        "start_time": "2023-02-26T16:19:25.896Z"
      },
      {
        "duration": 9,
        "start_time": "2023-02-26T16:19:45.959Z"
      },
      {
        "duration": 245,
        "start_time": "2023-02-26T16:21:30.335Z"
      },
      {
        "duration": 217,
        "start_time": "2023-02-26T16:22:08.263Z"
      },
      {
        "duration": 5764,
        "start_time": "2023-02-26T16:24:45.540Z"
      },
      {
        "duration": 1020,
        "start_time": "2023-02-26T16:25:31.099Z"
      },
      {
        "duration": 305,
        "start_time": "2023-02-26T16:26:08.798Z"
      },
      {
        "duration": 323,
        "start_time": "2023-02-26T16:26:19.748Z"
      },
      {
        "duration": 333,
        "start_time": "2023-02-26T16:28:50.544Z"
      },
      {
        "duration": 325,
        "start_time": "2023-02-26T16:28:57.608Z"
      },
      {
        "duration": 942,
        "start_time": "2023-02-26T16:29:08.506Z"
      },
      {
        "duration": 373,
        "start_time": "2023-02-26T16:30:30.330Z"
      },
      {
        "duration": 211,
        "start_time": "2023-02-26T16:30:57.025Z"
      },
      {
        "duration": 219,
        "start_time": "2023-02-26T16:31:15.180Z"
      },
      {
        "duration": 214,
        "start_time": "2023-02-26T16:31:26.835Z"
      },
      {
        "duration": 212,
        "start_time": "2023-02-26T16:31:34.003Z"
      },
      {
        "duration": 1028,
        "start_time": "2023-02-26T16:32:40.434Z"
      },
      {
        "duration": 216,
        "start_time": "2023-02-26T16:32:58.701Z"
      },
      {
        "duration": 2060,
        "start_time": "2023-02-26T16:33:07.147Z"
      },
      {
        "duration": 2284,
        "start_time": "2023-02-26T16:34:47.177Z"
      },
      {
        "duration": 2252,
        "start_time": "2023-02-26T16:34:54.915Z"
      },
      {
        "duration": 9,
        "start_time": "2023-02-26T18:33:52.383Z"
      },
      {
        "duration": 8,
        "start_time": "2023-02-26T18:34:02.751Z"
      },
      {
        "duration": 18,
        "start_time": "2023-02-26T18:34:03.341Z"
      },
      {
        "duration": 131,
        "start_time": "2023-02-26T18:34:19.651Z"
      },
      {
        "duration": 142,
        "start_time": "2023-02-26T18:34:23.688Z"
      },
      {
        "duration": 170,
        "start_time": "2023-02-26T18:34:43.078Z"
      },
      {
        "duration": 200,
        "start_time": "2023-02-26T18:34:55.587Z"
      },
      {
        "duration": 406,
        "start_time": "2023-02-26T18:36:03.147Z"
      },
      {
        "duration": 212,
        "start_time": "2023-02-26T18:36:09.599Z"
      },
      {
        "duration": 8,
        "start_time": "2023-02-26T18:37:29.994Z"
      },
      {
        "duration": 202,
        "start_time": "2023-02-26T18:37:56.526Z"
      },
      {
        "duration": 9,
        "start_time": "2023-02-26T18:39:34.810Z"
      },
      {
        "duration": 207,
        "start_time": "2023-02-26T18:39:35.400Z"
      },
      {
        "duration": 9,
        "start_time": "2023-02-26T18:39:36.500Z"
      },
      {
        "duration": 198,
        "start_time": "2023-02-26T18:39:38.329Z"
      },
      {
        "duration": 1427,
        "start_time": "2023-02-26T18:40:46.361Z"
      },
      {
        "duration": 802,
        "start_time": "2023-02-26T18:40:47.790Z"
      },
      {
        "duration": 37,
        "start_time": "2023-02-26T18:40:48.594Z"
      },
      {
        "duration": 33,
        "start_time": "2023-02-26T18:40:48.634Z"
      },
      {
        "duration": 18,
        "start_time": "2023-02-26T18:40:48.669Z"
      },
      {
        "duration": 20,
        "start_time": "2023-02-26T18:40:48.688Z"
      },
      {
        "duration": 43,
        "start_time": "2023-02-26T18:40:48.709Z"
      },
      {
        "duration": 4,
        "start_time": "2023-02-26T18:40:48.754Z"
      },
      {
        "duration": 10,
        "start_time": "2023-02-26T18:40:48.760Z"
      },
      {
        "duration": 13,
        "start_time": "2023-02-26T18:40:48.772Z"
      },
      {
        "duration": 13,
        "start_time": "2023-02-26T18:40:48.787Z"
      },
      {
        "duration": 19,
        "start_time": "2023-02-26T18:40:48.801Z"
      },
      {
        "duration": 11,
        "start_time": "2023-02-26T18:40:48.822Z"
      },
      {
        "duration": 10,
        "start_time": "2023-02-26T18:40:48.835Z"
      },
      {
        "duration": 6,
        "start_time": "2023-02-26T18:40:48.846Z"
      },
      {
        "duration": 6,
        "start_time": "2023-02-26T18:40:48.853Z"
      },
      {
        "duration": 6,
        "start_time": "2023-02-26T18:40:48.860Z"
      },
      {
        "duration": 7,
        "start_time": "2023-02-26T18:40:48.867Z"
      },
      {
        "duration": 8,
        "start_time": "2023-02-26T18:40:48.876Z"
      },
      {
        "duration": 6,
        "start_time": "2023-02-26T18:40:48.886Z"
      },
      {
        "duration": 9,
        "start_time": "2023-02-26T18:40:48.893Z"
      },
      {
        "duration": 52,
        "start_time": "2023-02-26T18:40:48.904Z"
      },
      {
        "duration": 10,
        "start_time": "2023-02-26T18:40:48.958Z"
      },
      {
        "duration": 9,
        "start_time": "2023-02-26T18:40:48.970Z"
      },
      {
        "duration": 242,
        "start_time": "2023-02-26T18:40:48.980Z"
      },
      {
        "duration": 2100,
        "start_time": "2023-02-26T18:40:49.224Z"
      },
      {
        "duration": 8,
        "start_time": "2023-02-26T18:40:51.326Z"
      },
      {
        "duration": 207,
        "start_time": "2023-02-26T18:40:51.336Z"
      },
      {
        "duration": 8,
        "start_time": "2023-02-26T18:40:51.544Z"
      },
      {
        "duration": 215,
        "start_time": "2023-02-26T18:40:51.554Z"
      },
      {
        "duration": 295,
        "start_time": "2023-02-26T18:41:06.921Z"
      },
      {
        "duration": 7,
        "start_time": "2023-02-26T18:41:16.065Z"
      },
      {
        "duration": 210,
        "start_time": "2023-02-26T18:41:17.298Z"
      },
      {
        "duration": 588,
        "start_time": "2023-02-26T19:00:28.237Z"
      },
      {
        "duration": 574,
        "start_time": "2023-02-26T19:01:11.156Z"
      },
      {
        "duration": 564,
        "start_time": "2023-02-26T19:01:19.083Z"
      },
      {
        "duration": 621,
        "start_time": "2023-02-26T19:02:12.673Z"
      },
      {
        "duration": 706,
        "start_time": "2023-02-26T19:02:58.294Z"
      },
      {
        "duration": 623,
        "start_time": "2023-02-26T19:03:06.483Z"
      },
      {
        "duration": 634,
        "start_time": "2023-02-26T19:03:17.409Z"
      },
      {
        "duration": 570,
        "start_time": "2023-02-26T19:03:26.249Z"
      },
      {
        "duration": 663,
        "start_time": "2023-02-26T19:03:46.982Z"
      },
      {
        "duration": 677,
        "start_time": "2023-02-26T19:04:52.861Z"
      },
      {
        "duration": 696,
        "start_time": "2023-02-26T19:05:10.478Z"
      },
      {
        "duration": 701,
        "start_time": "2023-02-26T19:05:21.773Z"
      },
      {
        "duration": 77,
        "start_time": "2023-02-26T19:14:53.534Z"
      },
      {
        "duration": 125,
        "start_time": "2023-02-26T19:15:01.386Z"
      },
      {
        "duration": 4,
        "start_time": "2023-02-26T19:16:18.786Z"
      },
      {
        "duration": 1562,
        "start_time": "2023-02-27T06:45:14.595Z"
      },
      {
        "duration": 1955,
        "start_time": "2023-02-27T06:45:16.159Z"
      },
      {
        "duration": 24,
        "start_time": "2023-02-27T06:45:18.116Z"
      },
      {
        "duration": 20,
        "start_time": "2023-02-27T06:45:18.142Z"
      },
      {
        "duration": 17,
        "start_time": "2023-02-27T06:45:18.164Z"
      },
      {
        "duration": 19,
        "start_time": "2023-02-27T06:45:18.183Z"
      },
      {
        "duration": 43,
        "start_time": "2023-02-27T06:45:18.203Z"
      },
      {
        "duration": 3,
        "start_time": "2023-02-27T06:45:18.248Z"
      },
      {
        "duration": 6,
        "start_time": "2023-02-27T06:45:18.253Z"
      },
      {
        "duration": 6,
        "start_time": "2023-02-27T06:45:18.261Z"
      },
      {
        "duration": 9,
        "start_time": "2023-02-27T06:45:18.269Z"
      },
      {
        "duration": 7,
        "start_time": "2023-02-27T06:45:18.282Z"
      },
      {
        "duration": 6,
        "start_time": "2023-02-27T06:45:18.291Z"
      },
      {
        "duration": 9,
        "start_time": "2023-02-27T06:45:18.299Z"
      },
      {
        "duration": 19,
        "start_time": "2023-02-27T06:45:18.339Z"
      },
      {
        "duration": 32,
        "start_time": "2023-02-27T06:45:18.360Z"
      },
      {
        "duration": 6,
        "start_time": "2023-02-27T06:45:18.394Z"
      },
      {
        "duration": 10,
        "start_time": "2023-02-27T06:45:18.402Z"
      },
      {
        "duration": 17,
        "start_time": "2023-02-27T06:45:18.413Z"
      },
      {
        "duration": 16,
        "start_time": "2023-02-27T06:45:18.431Z"
      },
      {
        "duration": 17,
        "start_time": "2023-02-27T06:45:18.449Z"
      },
      {
        "duration": 18,
        "start_time": "2023-02-27T06:45:18.468Z"
      },
      {
        "duration": 8,
        "start_time": "2023-02-27T06:45:18.488Z"
      },
      {
        "duration": 8,
        "start_time": "2023-02-27T06:45:18.497Z"
      },
      {
        "duration": 220,
        "start_time": "2023-02-27T06:45:18.506Z"
      },
      {
        "duration": 1873,
        "start_time": "2023-02-27T06:45:18.727Z"
      },
      {
        "duration": 7,
        "start_time": "2023-02-27T06:45:20.601Z"
      },
      {
        "duration": 212,
        "start_time": "2023-02-27T06:45:20.610Z"
      },
      {
        "duration": 7,
        "start_time": "2023-02-27T06:45:20.824Z"
      },
      {
        "duration": 181,
        "start_time": "2023-02-27T06:45:20.832Z"
      },
      {
        "duration": 691,
        "start_time": "2023-02-27T06:45:21.015Z"
      },
      {
        "duration": 4,
        "start_time": "2023-02-27T06:48:37.703Z"
      },
      {
        "duration": 4,
        "start_time": "2023-02-27T06:48:38.125Z"
      },
      {
        "duration": 5,
        "start_time": "2023-02-27T06:48:38.857Z"
      },
      {
        "duration": 110,
        "start_time": "2023-02-27T06:52:13.499Z"
      },
      {
        "duration": 774,
        "start_time": "2023-02-27T06:58:14.290Z"
      },
      {
        "duration": 4,
        "start_time": "2023-02-27T06:58:28.073Z"
      },
      {
        "duration": 763,
        "start_time": "2023-02-27T06:58:29.933Z"
      },
      {
        "duration": 685,
        "start_time": "2023-02-27T06:58:48.334Z"
      },
      {
        "duration": 4,
        "start_time": "2023-02-27T06:59:01.075Z"
      },
      {
        "duration": 1199,
        "start_time": "2023-02-27T06:59:34.307Z"
      },
      {
        "duration": 1392,
        "start_time": "2023-02-27T07:02:07.847Z"
      },
      {
        "duration": 1368,
        "start_time": "2023-02-27T07:04:20.012Z"
      },
      {
        "duration": 1350,
        "start_time": "2023-02-27T07:04:34.981Z"
      },
      {
        "duration": 658,
        "start_time": "2023-02-27T07:04:36.334Z"
      },
      {
        "duration": 23,
        "start_time": "2023-02-27T07:04:36.994Z"
      },
      {
        "duration": 32,
        "start_time": "2023-02-27T07:04:37.019Z"
      },
      {
        "duration": 12,
        "start_time": "2023-02-27T07:04:37.052Z"
      },
      {
        "duration": 17,
        "start_time": "2023-02-27T07:04:37.065Z"
      },
      {
        "duration": 15,
        "start_time": "2023-02-27T07:04:37.083Z"
      },
      {
        "duration": 5,
        "start_time": "2023-02-27T07:04:37.099Z"
      },
      {
        "duration": 33,
        "start_time": "2023-02-27T07:04:37.105Z"
      },
      {
        "duration": 6,
        "start_time": "2023-02-27T07:04:37.141Z"
      },
      {
        "duration": 10,
        "start_time": "2023-02-27T07:04:37.148Z"
      },
      {
        "duration": 8,
        "start_time": "2023-02-27T07:04:37.159Z"
      },
      {
        "duration": 5,
        "start_time": "2023-02-27T07:04:37.168Z"
      },
      {
        "duration": 4,
        "start_time": "2023-02-27T07:04:37.175Z"
      },
      {
        "duration": 9,
        "start_time": "2023-02-27T07:04:37.181Z"
      },
      {
        "duration": 5,
        "start_time": "2023-02-27T07:04:37.191Z"
      },
      {
        "duration": 40,
        "start_time": "2023-02-27T07:04:37.198Z"
      },
      {
        "duration": 7,
        "start_time": "2023-02-27T07:04:37.239Z"
      },
      {
        "duration": 10,
        "start_time": "2023-02-27T07:04:37.247Z"
      },
      {
        "duration": 6,
        "start_time": "2023-02-27T07:04:37.258Z"
      },
      {
        "duration": 11,
        "start_time": "2023-02-27T07:04:37.265Z"
      },
      {
        "duration": 18,
        "start_time": "2023-02-27T07:04:37.277Z"
      },
      {
        "duration": 47,
        "start_time": "2023-02-27T07:04:37.296Z"
      },
      {
        "duration": 8,
        "start_time": "2023-02-27T07:04:37.345Z"
      },
      {
        "duration": 215,
        "start_time": "2023-02-27T07:04:37.354Z"
      },
      {
        "duration": 1869,
        "start_time": "2023-02-27T07:04:37.571Z"
      },
      {
        "duration": 9,
        "start_time": "2023-02-27T07:04:39.442Z"
      },
      {
        "duration": 197,
        "start_time": "2023-02-27T07:04:39.454Z"
      },
      {
        "duration": 7,
        "start_time": "2023-02-27T07:04:39.653Z"
      },
      {
        "duration": 198,
        "start_time": "2023-02-27T07:04:39.661Z"
      },
      {
        "duration": 667,
        "start_time": "2023-02-27T07:04:39.861Z"
      },
      {
        "duration": 10,
        "start_time": "2023-02-27T07:04:40.529Z"
      },
      {
        "duration": 14,
        "start_time": "2023-02-27T07:04:40.540Z"
      },
      {
        "duration": 5,
        "start_time": "2023-02-27T07:04:40.556Z"
      },
      {
        "duration": 4,
        "start_time": "2023-02-27T07:04:42.790Z"
      },
      {
        "duration": 1267,
        "start_time": "2023-02-27T07:04:44.463Z"
      },
      {
        "duration": 1198,
        "start_time": "2023-02-27T07:06:06.606Z"
      },
      {
        "duration": 114,
        "start_time": "2023-02-27T07:07:55.519Z"
      },
      {
        "duration": 15,
        "start_time": "2023-02-27T07:08:23.558Z"
      },
      {
        "duration": 49,
        "start_time": "2023-02-27T07:08:46.280Z"
      },
      {
        "duration": 1464,
        "start_time": "2023-02-27T07:08:53.135Z"
      },
      {
        "duration": 25,
        "start_time": "2023-02-27T07:09:49.423Z"
      },
      {
        "duration": 22,
        "start_time": "2023-02-27T07:10:00.516Z"
      },
      {
        "duration": 345,
        "start_time": "2023-02-27T07:12:06.920Z"
      },
      {
        "duration": 824,
        "start_time": "2023-02-27T07:12:59.552Z"
      },
      {
        "duration": 652,
        "start_time": "2023-02-27T07:13:49.359Z"
      },
      {
        "duration": 1220,
        "start_time": "2023-02-27T07:14:44.345Z"
      },
      {
        "duration": 2296,
        "start_time": "2023-02-27T07:15:22.537Z"
      },
      {
        "duration": 54,
        "start_time": "2023-02-27T08:42:15.467Z"
      },
      {
        "duration": 1321,
        "start_time": "2023-02-27T08:43:18.273Z"
      },
      {
        "duration": 1890,
        "start_time": "2023-02-27T08:43:19.596Z"
      },
      {
        "duration": 24,
        "start_time": "2023-02-27T08:43:21.487Z"
      },
      {
        "duration": 16,
        "start_time": "2023-02-27T08:43:21.513Z"
      },
      {
        "duration": 11,
        "start_time": "2023-02-27T08:43:21.531Z"
      },
      {
        "duration": 17,
        "start_time": "2023-02-27T08:43:21.544Z"
      },
      {
        "duration": 15,
        "start_time": "2023-02-27T08:43:21.563Z"
      },
      {
        "duration": 3,
        "start_time": "2023-02-27T08:43:21.580Z"
      },
      {
        "duration": 6,
        "start_time": "2023-02-27T08:43:21.585Z"
      },
      {
        "duration": 5,
        "start_time": "2023-02-27T08:43:21.593Z"
      },
      {
        "duration": 47,
        "start_time": "2023-02-27T08:43:21.599Z"
      },
      {
        "duration": 10,
        "start_time": "2023-02-27T08:43:21.648Z"
      },
      {
        "duration": 6,
        "start_time": "2023-02-27T08:43:21.659Z"
      },
      {
        "duration": 4,
        "start_time": "2023-02-27T08:43:21.668Z"
      },
      {
        "duration": 6,
        "start_time": "2023-02-27T08:43:21.674Z"
      },
      {
        "duration": 6,
        "start_time": "2023-02-27T08:43:21.681Z"
      },
      {
        "duration": 6,
        "start_time": "2023-02-27T08:43:21.689Z"
      },
      {
        "duration": 9,
        "start_time": "2023-02-27T08:43:21.696Z"
      },
      {
        "duration": 36,
        "start_time": "2023-02-27T08:43:21.707Z"
      },
      {
        "duration": 7,
        "start_time": "2023-02-27T08:43:21.744Z"
      },
      {
        "duration": 11,
        "start_time": "2023-02-27T08:43:21.752Z"
      },
      {
        "duration": 19,
        "start_time": "2023-02-27T08:43:21.765Z"
      },
      {
        "duration": 9,
        "start_time": "2023-02-27T08:43:21.785Z"
      },
      {
        "duration": 8,
        "start_time": "2023-02-27T08:43:21.796Z"
      },
      {
        "duration": 213,
        "start_time": "2023-02-27T08:43:21.837Z"
      },
      {
        "duration": 1908,
        "start_time": "2023-02-27T08:43:22.052Z"
      },
      {
        "duration": 9,
        "start_time": "2023-02-27T08:43:23.961Z"
      },
      {
        "duration": 196,
        "start_time": "2023-02-27T08:43:23.971Z"
      },
      {
        "duration": 8,
        "start_time": "2023-02-27T08:43:24.168Z"
      },
      {
        "duration": 202,
        "start_time": "2023-02-27T08:43:24.177Z"
      },
      {
        "duration": 763,
        "start_time": "2023-02-27T08:43:24.381Z"
      },
      {
        "duration": 4,
        "start_time": "2023-02-27T08:43:25.146Z"
      },
      {
        "duration": 7,
        "start_time": "2023-02-27T08:43:25.151Z"
      },
      {
        "duration": 18,
        "start_time": "2023-02-27T08:43:25.160Z"
      },
      {
        "duration": 2398,
        "start_time": "2023-02-27T08:43:25.179Z"
      },
      {
        "duration": 50,
        "start_time": "2023-02-27T08:44:19.960Z"
      },
      {
        "duration": 1374,
        "start_time": "2023-02-27T08:44:27.325Z"
      },
      {
        "duration": 78,
        "start_time": "2023-02-27T08:44:35.013Z"
      },
      {
        "duration": 15,
        "start_time": "2023-02-27T08:45:28.925Z"
      },
      {
        "duration": 4,
        "start_time": "2023-02-27T08:45:36.892Z"
      },
      {
        "duration": 2004,
        "start_time": "2023-02-27T08:45:37.237Z"
      },
      {
        "duration": 22,
        "start_time": "2023-02-27T08:45:39.243Z"
      },
      {
        "duration": 15,
        "start_time": "2023-02-27T08:45:39.267Z"
      },
      {
        "duration": 12,
        "start_time": "2023-02-27T08:45:39.284Z"
      },
      {
        "duration": 19,
        "start_time": "2023-02-27T08:45:39.297Z"
      },
      {
        "duration": 11,
        "start_time": "2023-02-27T08:45:39.337Z"
      },
      {
        "duration": 3,
        "start_time": "2023-02-27T08:45:39.350Z"
      },
      {
        "duration": 8,
        "start_time": "2023-02-27T08:45:39.355Z"
      },
      {
        "duration": 4,
        "start_time": "2023-02-27T08:45:39.364Z"
      },
      {
        "duration": 11,
        "start_time": "2023-02-27T08:45:39.370Z"
      },
      {
        "duration": 14,
        "start_time": "2023-02-27T08:45:39.383Z"
      },
      {
        "duration": 18,
        "start_time": "2023-02-27T08:45:39.399Z"
      },
      {
        "duration": 4,
        "start_time": "2023-02-27T08:45:39.526Z"
      },
      {
        "duration": 5,
        "start_time": "2023-02-27T08:45:39.708Z"
      },
      {
        "duration": 4,
        "start_time": "2023-02-27T08:45:39.886Z"
      },
      {
        "duration": 5,
        "start_time": "2023-02-27T08:45:40.056Z"
      },
      {
        "duration": 6,
        "start_time": "2023-02-27T08:45:40.557Z"
      },
      {
        "duration": 9,
        "start_time": "2023-02-27T08:45:41.070Z"
      },
      {
        "duration": 7,
        "start_time": "2023-02-27T08:45:41.251Z"
      },
      {
        "duration": 10,
        "start_time": "2023-02-27T08:45:41.421Z"
      },
      {
        "duration": 20,
        "start_time": "2023-02-27T08:45:41.764Z"
      },
      {
        "duration": 9,
        "start_time": "2023-02-27T08:45:41.947Z"
      },
      {
        "duration": 9,
        "start_time": "2023-02-27T08:45:42.116Z"
      },
      {
        "duration": 253,
        "start_time": "2023-02-27T08:45:42.286Z"
      },
      {
        "duration": 1858,
        "start_time": "2023-02-27T08:45:42.542Z"
      },
      {
        "duration": 8,
        "start_time": "2023-02-27T08:45:44.402Z"
      },
      {
        "duration": 196,
        "start_time": "2023-02-27T08:45:44.411Z"
      },
      {
        "duration": 7,
        "start_time": "2023-02-27T08:45:44.609Z"
      },
      {
        "duration": 255,
        "start_time": "2023-02-27T08:45:44.617Z"
      },
      {
        "duration": 652,
        "start_time": "2023-02-27T08:45:44.874Z"
      },
      {
        "duration": 11,
        "start_time": "2023-02-27T08:45:45.528Z"
      },
      {
        "duration": 8,
        "start_time": "2023-02-27T08:45:45.540Z"
      },
      {
        "duration": 5,
        "start_time": "2023-02-27T08:45:45.550Z"
      },
      {
        "duration": 2201,
        "start_time": "2023-02-27T08:45:46.293Z"
      },
      {
        "duration": 45,
        "start_time": "2023-02-27T08:48:34.662Z"
      },
      {
        "duration": 8,
        "start_time": "2023-02-27T08:49:00.399Z"
      },
      {
        "duration": 1349,
        "start_time": "2023-02-27T08:49:05.654Z"
      },
      {
        "duration": 1824,
        "start_time": "2023-02-27T08:49:07.005Z"
      },
      {
        "duration": 22,
        "start_time": "2023-02-27T08:49:08.830Z"
      },
      {
        "duration": 16,
        "start_time": "2023-02-27T08:49:08.853Z"
      },
      {
        "duration": 10,
        "start_time": "2023-02-27T08:49:08.871Z"
      },
      {
        "duration": 15,
        "start_time": "2023-02-27T08:49:08.883Z"
      },
      {
        "duration": 38,
        "start_time": "2023-02-27T08:49:08.900Z"
      },
      {
        "duration": 3,
        "start_time": "2023-02-27T08:49:08.940Z"
      },
      {
        "duration": 7,
        "start_time": "2023-02-27T08:49:08.944Z"
      },
      {
        "duration": 4,
        "start_time": "2023-02-27T08:49:08.952Z"
      },
      {
        "duration": 12,
        "start_time": "2023-02-27T08:49:08.958Z"
      },
      {
        "duration": 10,
        "start_time": "2023-02-27T08:49:08.971Z"
      },
      {
        "duration": 5,
        "start_time": "2023-02-27T08:49:08.982Z"
      },
      {
        "duration": 3,
        "start_time": "2023-02-27T08:49:08.990Z"
      },
      {
        "duration": 5,
        "start_time": "2023-02-27T08:49:08.994Z"
      },
      {
        "duration": 5,
        "start_time": "2023-02-27T08:49:09.000Z"
      },
      {
        "duration": 32,
        "start_time": "2023-02-27T08:49:09.006Z"
      },
      {
        "duration": 6,
        "start_time": "2023-02-27T08:49:09.039Z"
      },
      {
        "duration": 9,
        "start_time": "2023-02-27T08:49:09.047Z"
      },
      {
        "duration": 6,
        "start_time": "2023-02-27T08:49:09.057Z"
      },
      {
        "duration": 8,
        "start_time": "2023-02-27T08:49:09.064Z"
      },
      {
        "duration": 18,
        "start_time": "2023-02-27T08:49:09.074Z"
      },
      {
        "duration": 8,
        "start_time": "2023-02-27T08:49:09.093Z"
      },
      {
        "duration": 39,
        "start_time": "2023-02-27T08:49:09.102Z"
      },
      {
        "duration": 211,
        "start_time": "2023-02-27T08:49:09.143Z"
      },
      {
        "duration": 1817,
        "start_time": "2023-02-27T08:49:09.355Z"
      },
      {
        "duration": 8,
        "start_time": "2023-02-27T08:49:11.173Z"
      },
      {
        "duration": 185,
        "start_time": "2023-02-27T08:49:11.182Z"
      },
      {
        "duration": 7,
        "start_time": "2023-02-27T08:49:11.368Z"
      },
      {
        "duration": 183,
        "start_time": "2023-02-27T08:49:11.376Z"
      },
      {
        "duration": 757,
        "start_time": "2023-02-27T08:49:11.561Z"
      },
      {
        "duration": 5,
        "start_time": "2023-02-27T08:49:12.320Z"
      },
      {
        "duration": 12,
        "start_time": "2023-02-27T08:49:12.326Z"
      },
      {
        "duration": 4,
        "start_time": "2023-02-27T08:49:12.340Z"
      },
      {
        "duration": 2103,
        "start_time": "2023-02-27T08:49:12.346Z"
      },
      {
        "duration": 46,
        "start_time": "2023-02-27T08:50:16.430Z"
      },
      {
        "duration": 1412,
        "start_time": "2023-02-27T08:50:21.537Z"
      },
      {
        "duration": 1823,
        "start_time": "2023-02-27T08:50:22.950Z"
      },
      {
        "duration": 27,
        "start_time": "2023-02-27T08:50:24.774Z"
      },
      {
        "duration": 17,
        "start_time": "2023-02-27T08:50:24.802Z"
      },
      {
        "duration": 18,
        "start_time": "2023-02-27T08:50:24.821Z"
      },
      {
        "duration": 17,
        "start_time": "2023-02-27T08:50:24.841Z"
      },
      {
        "duration": 13,
        "start_time": "2023-02-27T08:50:24.860Z"
      },
      {
        "duration": 4,
        "start_time": "2023-02-27T08:50:24.875Z"
      },
      {
        "duration": 13,
        "start_time": "2023-02-27T08:50:24.880Z"
      },
      {
        "duration": 4,
        "start_time": "2023-02-27T08:50:24.895Z"
      },
      {
        "duration": 14,
        "start_time": "2023-02-27T08:50:24.901Z"
      },
      {
        "duration": 9,
        "start_time": "2023-02-27T08:50:24.937Z"
      },
      {
        "duration": 5,
        "start_time": "2023-02-27T08:50:24.947Z"
      },
      {
        "duration": 4,
        "start_time": "2023-02-27T08:50:24.955Z"
      },
      {
        "duration": 9,
        "start_time": "2023-02-27T08:50:24.961Z"
      },
      {
        "duration": 6,
        "start_time": "2023-02-27T08:50:24.971Z"
      },
      {
        "duration": 6,
        "start_time": "2023-02-27T08:50:24.979Z"
      },
      {
        "duration": 8,
        "start_time": "2023-02-27T08:50:24.987Z"
      },
      {
        "duration": 42,
        "start_time": "2023-02-27T08:50:24.996Z"
      },
      {
        "duration": 6,
        "start_time": "2023-02-27T08:50:25.040Z"
      },
      {
        "duration": 10,
        "start_time": "2023-02-27T08:50:25.048Z"
      },
      {
        "duration": 19,
        "start_time": "2023-02-27T08:50:25.059Z"
      },
      {
        "duration": 9,
        "start_time": "2023-02-27T08:50:25.080Z"
      },
      {
        "duration": 8,
        "start_time": "2023-02-27T08:50:25.091Z"
      },
      {
        "duration": 234,
        "start_time": "2023-02-27T08:50:25.100Z"
      },
      {
        "duration": 1947,
        "start_time": "2023-02-27T08:50:25.337Z"
      },
      {
        "duration": 8,
        "start_time": "2023-02-27T08:50:27.285Z"
      },
      {
        "duration": 205,
        "start_time": "2023-02-27T08:50:27.294Z"
      },
      {
        "duration": 7,
        "start_time": "2023-02-27T08:50:27.501Z"
      },
      {
        "duration": 193,
        "start_time": "2023-02-27T08:50:27.509Z"
      },
      {
        "duration": 792,
        "start_time": "2023-02-27T08:50:27.704Z"
      },
      {
        "duration": 5,
        "start_time": "2023-02-27T08:50:28.497Z"
      },
      {
        "duration": 6,
        "start_time": "2023-02-27T08:50:28.503Z"
      },
      {
        "duration": 11,
        "start_time": "2023-02-27T08:50:28.510Z"
      },
      {
        "duration": 2157,
        "start_time": "2023-02-27T08:50:28.522Z"
      },
      {
        "duration": 91,
        "start_time": "2023-02-27T08:50:40.079Z"
      },
      {
        "duration": 247,
        "start_time": "2023-02-27T08:51:20.704Z"
      },
      {
        "duration": 7,
        "start_time": "2023-02-27T08:54:25.664Z"
      },
      {
        "duration": 1993,
        "start_time": "2023-02-27T08:55:40.168Z"
      },
      {
        "duration": 154,
        "start_time": "2023-02-27T08:59:11.538Z"
      },
      {
        "duration": 12152,
        "start_time": "2023-02-27T08:59:29.411Z"
      },
      {
        "duration": 12780,
        "start_time": "2023-02-27T08:59:54.675Z"
      },
      {
        "duration": 201,
        "start_time": "2023-02-27T09:01:31.967Z"
      },
      {
        "duration": 200,
        "start_time": "2023-02-27T09:01:51.539Z"
      },
      {
        "duration": 1383,
        "start_time": "2023-02-27T09:07:53.212Z"
      },
      {
        "duration": 652,
        "start_time": "2023-02-27T09:07:54.597Z"
      },
      {
        "duration": 26,
        "start_time": "2023-02-27T09:07:55.251Z"
      },
      {
        "duration": 19,
        "start_time": "2023-02-27T09:07:55.279Z"
      },
      {
        "duration": 37,
        "start_time": "2023-02-27T09:07:55.300Z"
      },
      {
        "duration": 20,
        "start_time": "2023-02-27T09:07:55.339Z"
      },
      {
        "duration": 16,
        "start_time": "2023-02-27T09:07:55.361Z"
      },
      {
        "duration": 4,
        "start_time": "2023-02-27T09:07:55.379Z"
      },
      {
        "duration": 12,
        "start_time": "2023-02-27T09:07:55.385Z"
      },
      {
        "duration": 38,
        "start_time": "2023-02-27T09:07:55.400Z"
      },
      {
        "duration": 18,
        "start_time": "2023-02-27T09:07:55.440Z"
      },
      {
        "duration": 11,
        "start_time": "2023-02-27T09:07:55.460Z"
      },
      {
        "duration": 8,
        "start_time": "2023-02-27T09:07:55.473Z"
      },
      {
        "duration": 10,
        "start_time": "2023-02-27T09:07:55.483Z"
      },
      {
        "duration": 7,
        "start_time": "2023-02-27T09:07:55.495Z"
      },
      {
        "duration": 7,
        "start_time": "2023-02-27T09:07:55.504Z"
      },
      {
        "duration": 6,
        "start_time": "2023-02-27T09:07:55.537Z"
      },
      {
        "duration": 9,
        "start_time": "2023-02-27T09:07:55.546Z"
      },
      {
        "duration": 13,
        "start_time": "2023-02-27T09:07:55.558Z"
      },
      {
        "duration": 8,
        "start_time": "2023-02-27T09:07:55.573Z"
      },
      {
        "duration": 13,
        "start_time": "2023-02-27T09:07:55.583Z"
      },
      {
        "duration": 64,
        "start_time": "2023-02-27T09:07:55.598Z"
      },
      {
        "duration": 11,
        "start_time": "2023-02-27T09:07:55.664Z"
      },
      {
        "duration": 22,
        "start_time": "2023-02-27T09:07:55.679Z"
      },
      {
        "duration": 37,
        "start_time": "2023-02-27T09:07:55.703Z"
      },
      {
        "duration": 247,
        "start_time": "2023-02-27T09:07:55.743Z"
      },
      {
        "duration": 1980,
        "start_time": "2023-02-27T09:07:55.992Z"
      },
      {
        "duration": 9,
        "start_time": "2023-02-27T09:07:57.976Z"
      },
      {
        "duration": 192,
        "start_time": "2023-02-27T09:07:57.986Z"
      },
      {
        "duration": 8,
        "start_time": "2023-02-27T09:07:58.179Z"
      },
      {
        "duration": 202,
        "start_time": "2023-02-27T09:07:58.188Z"
      },
      {
        "duration": 741,
        "start_time": "2023-02-27T09:07:58.392Z"
      },
      {
        "duration": 4,
        "start_time": "2023-02-27T09:07:59.137Z"
      },
      {
        "duration": 8,
        "start_time": "2023-02-27T09:07:59.143Z"
      },
      {
        "duration": 6,
        "start_time": "2023-02-27T09:07:59.152Z"
      },
      {
        "duration": 2264,
        "start_time": "2023-02-27T09:07:59.160Z"
      },
      {
        "duration": 17,
        "start_time": "2023-02-27T09:08:01.426Z"
      },
      {
        "duration": 2382,
        "start_time": "2023-02-27T09:08:01.445Z"
      },
      {
        "duration": 205,
        "start_time": "2023-02-27T09:08:03.829Z"
      },
      {
        "duration": 12788,
        "start_time": "2023-02-27T09:08:04.037Z"
      },
      {
        "duration": 225,
        "start_time": "2023-02-27T09:08:50.157Z"
      },
      {
        "duration": 12612,
        "start_time": "2023-02-27T09:09:03.895Z"
      },
      {
        "duration": 26,
        "start_time": "2023-02-27T09:09:53.144Z"
      },
      {
        "duration": 2607,
        "start_time": "2023-02-27T09:09:58.623Z"
      },
      {
        "duration": 8,
        "start_time": "2023-02-27T09:10:03.590Z"
      },
      {
        "duration": 1857,
        "start_time": "2023-02-27T09:10:05.861Z"
      },
      {
        "duration": 180,
        "start_time": "2023-02-27T09:10:09.198Z"
      },
      {
        "duration": 164,
        "start_time": "2023-02-27T09:10:13.182Z"
      },
      {
        "duration": 194,
        "start_time": "2023-02-27T09:10:25.553Z"
      },
      {
        "duration": 8,
        "start_time": "2023-02-27T09:10:32.182Z"
      },
      {
        "duration": 3005,
        "start_time": "2023-02-27T09:10:33.534Z"
      },
      {
        "duration": 129,
        "start_time": "2023-02-27T09:10:41.326Z"
      },
      {
        "duration": 127,
        "start_time": "2023-02-27T09:10:55.823Z"
      },
      {
        "duration": 151,
        "start_time": "2023-02-27T09:10:57.783Z"
      },
      {
        "duration": 4196,
        "start_time": "2023-02-27T09:12:02.967Z"
      },
      {
        "duration": 178,
        "start_time": "2023-02-27T09:13:20.927Z"
      },
      {
        "duration": 157,
        "start_time": "2023-02-27T09:13:21.497Z"
      },
      {
        "duration": 370,
        "start_time": "2023-02-27T09:14:09.676Z"
      },
      {
        "duration": 171,
        "start_time": "2023-02-27T09:15:16.928Z"
      },
      {
        "duration": 478,
        "start_time": "2023-02-27T09:15:35.375Z"
      },
      {
        "duration": 166,
        "start_time": "2023-02-27T09:16:26.184Z"
      },
      {
        "duration": 409,
        "start_time": "2023-02-27T09:16:29.071Z"
      },
      {
        "duration": 6,
        "start_time": "2023-02-27T09:17:14.887Z"
      },
      {
        "duration": 5,
        "start_time": "2023-02-27T09:17:21.985Z"
      },
      {
        "duration": 6,
        "start_time": "2023-02-27T09:17:31.280Z"
      },
      {
        "duration": 6,
        "start_time": "2023-02-27T09:17:41.899Z"
      },
      {
        "duration": 7,
        "start_time": "2023-02-27T09:18:03.337Z"
      },
      {
        "duration": 216,
        "start_time": "2023-02-27T09:23:01.172Z"
      },
      {
        "duration": 18653,
        "start_time": "2023-02-27T09:23:10.074Z"
      },
      {
        "duration": 0,
        "start_time": "2023-02-27T09:23:28.730Z"
      },
      {
        "duration": 7,
        "start_time": "2023-02-27T09:23:32.868Z"
      },
      {
        "duration": 5,
        "start_time": "2023-02-27T09:24:15.335Z"
      },
      {
        "duration": 5,
        "start_time": "2023-02-27T09:24:15.865Z"
      },
      {
        "duration": 23,
        "start_time": "2023-02-27T09:24:16.360Z"
      },
      {
        "duration": 217,
        "start_time": "2023-02-27T09:24:22.066Z"
      },
      {
        "duration": 7,
        "start_time": "2023-02-27T09:24:22.474Z"
      },
      {
        "duration": 18243,
        "start_time": "2023-02-27T09:24:35.179Z"
      },
      {
        "duration": 46,
        "start_time": "2023-02-27T09:44:34.985Z"
      },
      {
        "duration": 1399,
        "start_time": "2023-02-27T09:45:00.323Z"
      },
      {
        "duration": 621,
        "start_time": "2023-02-27T09:45:01.724Z"
      },
      {
        "duration": 38,
        "start_time": "2023-02-27T09:45:02.348Z"
      },
      {
        "duration": 28,
        "start_time": "2023-02-27T09:45:02.388Z"
      },
      {
        "duration": 31,
        "start_time": "2023-02-27T09:45:02.419Z"
      },
      {
        "duration": 26,
        "start_time": "2023-02-27T09:45:02.453Z"
      },
      {
        "duration": 32,
        "start_time": "2023-02-27T09:45:02.481Z"
      },
      {
        "duration": 12,
        "start_time": "2023-02-27T09:45:02.515Z"
      },
      {
        "duration": 12,
        "start_time": "2023-02-27T09:45:02.529Z"
      },
      {
        "duration": 7,
        "start_time": "2023-02-27T09:45:02.543Z"
      },
      {
        "duration": 15,
        "start_time": "2023-02-27T09:45:02.552Z"
      },
      {
        "duration": 13,
        "start_time": "2023-02-27T09:45:02.569Z"
      },
      {
        "duration": 6,
        "start_time": "2023-02-27T09:45:02.584Z"
      },
      {
        "duration": 6,
        "start_time": "2023-02-27T09:45:02.594Z"
      },
      {
        "duration": 9,
        "start_time": "2023-02-27T09:45:02.601Z"
      },
      {
        "duration": 28,
        "start_time": "2023-02-27T09:45:02.612Z"
      },
      {
        "duration": 9,
        "start_time": "2023-02-27T09:45:02.642Z"
      },
      {
        "duration": 11,
        "start_time": "2023-02-27T09:45:02.653Z"
      },
      {
        "duration": 15,
        "start_time": "2023-02-27T09:45:02.666Z"
      },
      {
        "duration": 12,
        "start_time": "2023-02-27T09:45:02.682Z"
      },
      {
        "duration": 11,
        "start_time": "2023-02-27T09:45:02.695Z"
      },
      {
        "duration": 47,
        "start_time": "2023-02-27T09:45:02.707Z"
      },
      {
        "duration": 8,
        "start_time": "2023-02-27T09:45:02.756Z"
      },
      {
        "duration": 19,
        "start_time": "2023-02-27T09:45:02.765Z"
      },
      {
        "duration": 10,
        "start_time": "2023-02-27T09:45:02.785Z"
      },
      {
        "duration": 231,
        "start_time": "2023-02-27T09:45:02.797Z"
      },
      {
        "duration": 1838,
        "start_time": "2023-02-27T09:45:03.030Z"
      },
      {
        "duration": 7,
        "start_time": "2023-02-27T09:45:04.869Z"
      },
      {
        "duration": 195,
        "start_time": "2023-02-27T09:45:04.878Z"
      },
      {
        "duration": 7,
        "start_time": "2023-02-27T09:45:05.075Z"
      },
      {
        "duration": 215,
        "start_time": "2023-02-27T09:45:05.083Z"
      },
      {
        "duration": 724,
        "start_time": "2023-02-27T09:45:05.299Z"
      },
      {
        "duration": 12,
        "start_time": "2023-02-27T09:45:06.025Z"
      },
      {
        "duration": 5,
        "start_time": "2023-02-27T09:45:06.039Z"
      },
      {
        "duration": 6,
        "start_time": "2023-02-27T09:45:06.046Z"
      },
      {
        "duration": 2135,
        "start_time": "2023-02-27T09:45:06.053Z"
      },
      {
        "duration": 8,
        "start_time": "2023-02-27T09:45:08.190Z"
      },
      {
        "duration": 2037,
        "start_time": "2023-02-27T09:45:08.199Z"
      },
      {
        "duration": 12,
        "start_time": "2023-02-27T09:45:10.238Z"
      },
      {
        "duration": 7,
        "start_time": "2023-02-27T09:45:13.772Z"
      },
      {
        "duration": 6,
        "start_time": "2023-02-27T09:45:14.987Z"
      },
      {
        "duration": 811,
        "start_time": "2023-02-27T09:45:22.289Z"
      },
      {
        "duration": 1498,
        "start_time": "2023-02-27T09:45:56.069Z"
      },
      {
        "duration": 1471,
        "start_time": "2023-02-27T09:48:02.015Z"
      },
      {
        "duration": 10,
        "start_time": "2023-02-27T16:55:07.597Z"
      },
      {
        "duration": 49,
        "start_time": "2023-02-27T16:57:18.493Z"
      },
      {
        "duration": 6,
        "start_time": "2023-02-27T16:57:37.829Z"
      },
      {
        "duration": 1613,
        "start_time": "2023-02-27T16:57:40.362Z"
      },
      {
        "duration": 3721,
        "start_time": "2023-02-27T16:57:41.978Z"
      },
      {
        "duration": 26,
        "start_time": "2023-02-27T16:57:45.701Z"
      },
      {
        "duration": 19,
        "start_time": "2023-02-27T16:57:45.729Z"
      },
      {
        "duration": 11,
        "start_time": "2023-02-27T16:57:45.750Z"
      },
      {
        "duration": 17,
        "start_time": "2023-02-27T16:57:45.763Z"
      },
      {
        "duration": 14,
        "start_time": "2023-02-27T16:57:45.781Z"
      },
      {
        "duration": 4,
        "start_time": "2023-02-27T16:57:45.797Z"
      },
      {
        "duration": 36,
        "start_time": "2023-02-27T16:57:45.802Z"
      },
      {
        "duration": 4,
        "start_time": "2023-02-27T16:57:45.841Z"
      },
      {
        "duration": 13,
        "start_time": "2023-02-27T16:57:45.846Z"
      },
      {
        "duration": 18,
        "start_time": "2023-02-27T16:57:45.860Z"
      },
      {
        "duration": 6,
        "start_time": "2023-02-27T16:57:45.880Z"
      },
      {
        "duration": 6,
        "start_time": "2023-02-27T16:57:45.888Z"
      },
      {
        "duration": 5,
        "start_time": "2023-02-27T16:57:45.896Z"
      },
      {
        "duration": 6,
        "start_time": "2023-02-27T16:57:45.903Z"
      },
      {
        "duration": 6,
        "start_time": "2023-02-27T16:57:45.937Z"
      },
      {
        "duration": 11,
        "start_time": "2023-02-27T16:57:45.944Z"
      },
      {
        "duration": 35,
        "start_time": "2023-02-27T16:57:45.956Z"
      },
      {
        "duration": 12,
        "start_time": "2023-02-27T16:57:45.993Z"
      },
      {
        "duration": 20,
        "start_time": "2023-02-27T16:57:46.006Z"
      },
      {
        "duration": 20,
        "start_time": "2023-02-27T16:57:46.027Z"
      },
      {
        "duration": 9,
        "start_time": "2023-02-27T16:57:46.049Z"
      },
      {
        "duration": 23,
        "start_time": "2023-02-27T16:57:46.059Z"
      },
      {
        "duration": 9,
        "start_time": "2023-02-27T16:57:46.084Z"
      },
      {
        "duration": 231,
        "start_time": "2023-02-27T16:57:46.094Z"
      },
      {
        "duration": 2048,
        "start_time": "2023-02-27T16:57:46.326Z"
      },
      {
        "duration": 9,
        "start_time": "2023-02-27T16:57:48.379Z"
      },
      {
        "duration": 241,
        "start_time": "2023-02-27T16:57:48.390Z"
      },
      {
        "duration": 10,
        "start_time": "2023-02-27T16:57:48.632Z"
      },
      {
        "duration": 200,
        "start_time": "2023-02-27T16:57:48.643Z"
      },
      {
        "duration": 730,
        "start_time": "2023-02-27T16:57:48.844Z"
      },
      {
        "duration": 5,
        "start_time": "2023-02-27T16:57:49.576Z"
      },
      {
        "duration": 26,
        "start_time": "2023-02-27T16:57:49.583Z"
      },
      {
        "duration": 23,
        "start_time": "2023-02-27T16:57:49.611Z"
      },
      {
        "duration": 2482,
        "start_time": "2023-02-27T16:57:49.636Z"
      },
      {
        "duration": 7,
        "start_time": "2023-02-27T16:57:52.120Z"
      },
      {
        "duration": 2168,
        "start_time": "2023-02-27T16:57:52.136Z"
      },
      {
        "duration": 12,
        "start_time": "2023-02-27T16:57:54.306Z"
      },
      {
        "duration": 1527,
        "start_time": "2023-02-27T16:57:54.320Z"
      },
      {
        "duration": 4,
        "start_time": "2023-02-27T16:57:55.849Z"
      },
      {
        "duration": 6,
        "start_time": "2023-02-27T16:57:55.870Z"
      },
      {
        "duration": 6,
        "start_time": "2023-02-27T16:58:00.327Z"
      },
      {
        "duration": 8,
        "start_time": "2023-02-27T16:59:24.520Z"
      },
      {
        "duration": 8,
        "start_time": "2023-02-27T16:59:27.247Z"
      },
      {
        "duration": 4,
        "start_time": "2023-02-27T17:05:48.753Z"
      },
      {
        "duration": 85,
        "start_time": "2023-02-27T17:09:47.271Z"
      },
      {
        "duration": 11,
        "start_time": "2023-02-27T17:10:37.383Z"
      },
      {
        "duration": 11,
        "start_time": "2023-02-27T17:11:02.865Z"
      },
      {
        "duration": 8,
        "start_time": "2023-02-27T17:11:15.755Z"
      },
      {
        "duration": 988,
        "start_time": "2023-02-27T17:11:16.654Z"
      },
      {
        "duration": 959,
        "start_time": "2023-02-27T17:11:46.387Z"
      },
      {
        "duration": 737,
        "start_time": "2023-02-27T17:14:04.301Z"
      },
      {
        "duration": 9,
        "start_time": "2023-02-27T17:14:52.411Z"
      },
      {
        "duration": 815,
        "start_time": "2023-02-27T17:14:53.322Z"
      },
      {
        "duration": 974,
        "start_time": "2023-02-27T17:15:08.370Z"
      },
      {
        "duration": 131217,
        "start_time": "2023-02-27T17:16:34.503Z"
      },
      {
        "duration": 37,
        "start_time": "2023-02-27T17:18:56.981Z"
      },
      {
        "duration": 67,
        "start_time": "2023-02-27T18:42:43.364Z"
      },
      {
        "duration": 10,
        "start_time": "2023-02-27T18:42:51.691Z"
      },
      {
        "duration": 698,
        "start_time": "2023-02-27T18:42:53.351Z"
      },
      {
        "duration": 8,
        "start_time": "2023-02-27T18:45:25.556Z"
      },
      {
        "duration": 1174,
        "start_time": "2023-02-27T18:45:26.761Z"
      },
      {
        "duration": 1444,
        "start_time": "2023-02-27T18:46:11.866Z"
      },
      {
        "duration": 746,
        "start_time": "2023-02-27T18:46:13.312Z"
      },
      {
        "duration": 28,
        "start_time": "2023-02-27T18:46:14.060Z"
      },
      {
        "duration": 23,
        "start_time": "2023-02-27T18:46:14.091Z"
      },
      {
        "duration": 30,
        "start_time": "2023-02-27T18:46:14.117Z"
      },
      {
        "duration": 19,
        "start_time": "2023-02-27T18:46:14.149Z"
      },
      {
        "duration": 15,
        "start_time": "2023-02-27T18:46:14.170Z"
      },
      {
        "duration": 4,
        "start_time": "2023-02-27T18:46:14.187Z"
      },
      {
        "duration": 10,
        "start_time": "2023-02-27T18:46:14.192Z"
      },
      {
        "duration": 33,
        "start_time": "2023-02-27T18:46:14.204Z"
      },
      {
        "duration": 9,
        "start_time": "2023-02-27T18:46:14.239Z"
      },
      {
        "duration": 10,
        "start_time": "2023-02-27T18:46:14.249Z"
      },
      {
        "duration": 9,
        "start_time": "2023-02-27T18:46:14.261Z"
      },
      {
        "duration": 7,
        "start_time": "2023-02-27T18:46:14.274Z"
      },
      {
        "duration": 10,
        "start_time": "2023-02-27T18:46:14.282Z"
      },
      {
        "duration": 9,
        "start_time": "2023-02-27T18:46:14.293Z"
      },
      {
        "duration": 33,
        "start_time": "2023-02-27T18:46:14.304Z"
      },
      {
        "duration": 8,
        "start_time": "2023-02-27T18:46:14.340Z"
      },
      {
        "duration": 10,
        "start_time": "2023-02-27T18:46:14.350Z"
      },
      {
        "duration": 8,
        "start_time": "2023-02-27T18:46:14.361Z"
      },
      {
        "duration": 10,
        "start_time": "2023-02-27T18:46:14.371Z"
      },
      {
        "duration": 56,
        "start_time": "2023-02-27T18:46:14.384Z"
      },
      {
        "duration": 10,
        "start_time": "2023-02-27T18:46:14.442Z"
      },
      {
        "duration": 37,
        "start_time": "2023-02-27T18:46:14.454Z"
      },
      {
        "duration": 19,
        "start_time": "2023-02-27T18:46:14.494Z"
      },
      {
        "duration": 241,
        "start_time": "2023-02-27T18:46:14.515Z"
      },
      {
        "duration": 2058,
        "start_time": "2023-02-27T18:46:14.758Z"
      },
      {
        "duration": 9,
        "start_time": "2023-02-27T18:46:16.817Z"
      },
      {
        "duration": 232,
        "start_time": "2023-02-27T18:46:16.828Z"
      },
      {
        "duration": 8,
        "start_time": "2023-02-27T18:46:17.063Z"
      },
      {
        "duration": 234,
        "start_time": "2023-02-27T18:46:17.073Z"
      },
      {
        "duration": 807,
        "start_time": "2023-02-27T18:46:17.310Z"
      },
      {
        "duration": 6,
        "start_time": "2023-02-27T18:46:18.118Z"
      },
      {
        "duration": 40,
        "start_time": "2023-02-27T18:46:18.126Z"
      },
      {
        "duration": 49,
        "start_time": "2023-02-27T18:46:18.168Z"
      },
      {
        "duration": 2440,
        "start_time": "2023-02-27T18:46:18.219Z"
      },
      {
        "duration": 8,
        "start_time": "2023-02-27T18:46:20.660Z"
      },
      {
        "duration": 2167,
        "start_time": "2023-02-27T18:46:20.670Z"
      },
      {
        "duration": 13,
        "start_time": "2023-02-27T18:46:22.839Z"
      },
      {
        "duration": 1484,
        "start_time": "2023-02-27T18:46:22.854Z"
      },
      {
        "duration": 5,
        "start_time": "2023-02-27T18:46:24.341Z"
      },
      {
        "duration": 5,
        "start_time": "2023-02-27T18:46:27.632Z"
      },
      {
        "duration": 8,
        "start_time": "2023-02-27T18:46:29.148Z"
      },
      {
        "duration": 1075,
        "start_time": "2023-02-27T18:46:30.663Z"
      },
      {
        "duration": 110,
        "start_time": "2023-02-27T18:47:38.068Z"
      },
      {
        "duration": 11,
        "start_time": "2023-02-27T18:48:10.439Z"
      },
      {
        "duration": 127,
        "start_time": "2023-02-27T18:59:06.666Z"
      },
      {
        "duration": 12,
        "start_time": "2023-02-27T18:59:14.866Z"
      },
      {
        "duration": 7,
        "start_time": "2023-02-27T18:59:40.120Z"
      },
      {
        "duration": 11,
        "start_time": "2023-02-27T18:59:40.874Z"
      },
      {
        "duration": 110070,
        "start_time": "2023-02-27T18:59:41.604Z"
      },
      {
        "duration": 11,
        "start_time": "2023-02-27T19:01:31.676Z"
      },
      {
        "duration": 4,
        "start_time": "2023-02-27T19:08:08.285Z"
      },
      {
        "duration": 11,
        "start_time": "2023-02-27T19:08:13.604Z"
      },
      {
        "duration": 10,
        "start_time": "2023-02-27T19:08:56.289Z"
      },
      {
        "duration": 13,
        "start_time": "2023-02-27T19:09:08.169Z"
      },
      {
        "duration": 3,
        "start_time": "2023-02-27T19:09:30.229Z"
      },
      {
        "duration": 3,
        "start_time": "2023-02-27T19:09:36.565Z"
      },
      {
        "duration": 28,
        "start_time": "2023-02-27T19:09:38.471Z"
      },
      {
        "duration": 3,
        "start_time": "2023-02-27T19:10:10.601Z"
      },
      {
        "duration": 11,
        "start_time": "2023-02-27T19:10:17.438Z"
      },
      {
        "duration": 8,
        "start_time": "2023-02-27T19:10:21.494Z"
      },
      {
        "duration": 3,
        "start_time": "2023-02-27T19:10:22.910Z"
      },
      {
        "duration": 18,
        "start_time": "2023-02-27T19:10:23.606Z"
      },
      {
        "duration": 13,
        "start_time": "2023-02-27T19:13:06.806Z"
      },
      {
        "duration": 3,
        "start_time": "2023-02-27T19:13:33.286Z"
      },
      {
        "duration": 12,
        "start_time": "2023-02-27T19:13:34.439Z"
      },
      {
        "duration": 28,
        "start_time": "2023-02-27T19:13:47.007Z"
      },
      {
        "duration": 12,
        "start_time": "2023-02-27T19:22:03.375Z"
      },
      {
        "duration": 8,
        "start_time": "2023-02-27T19:22:13.136Z"
      },
      {
        "duration": 3,
        "start_time": "2023-02-27T19:22:15.824Z"
      },
      {
        "duration": 82,
        "start_time": "2023-02-27T19:22:16.623Z"
      },
      {
        "duration": 4607,
        "start_time": "2023-02-28T08:05:24.418Z"
      },
      {
        "duration": 5477,
        "start_time": "2023-02-28T08:05:29.029Z"
      },
      {
        "duration": 55,
        "start_time": "2023-02-28T08:05:34.508Z"
      },
      {
        "duration": 73,
        "start_time": "2023-02-28T08:05:34.573Z"
      },
      {
        "duration": 88,
        "start_time": "2023-02-28T08:05:34.651Z"
      },
      {
        "duration": 61,
        "start_time": "2023-02-28T08:05:34.741Z"
      },
      {
        "duration": 67,
        "start_time": "2023-02-28T08:05:34.804Z"
      },
      {
        "duration": 74,
        "start_time": "2023-02-28T08:05:34.873Z"
      },
      {
        "duration": 119,
        "start_time": "2023-02-28T08:05:34.974Z"
      },
      {
        "duration": 128,
        "start_time": "2023-02-28T08:05:35.105Z"
      },
      {
        "duration": 98,
        "start_time": "2023-02-28T08:05:35.236Z"
      },
      {
        "duration": 94,
        "start_time": "2023-02-28T08:05:35.336Z"
      },
      {
        "duration": 79,
        "start_time": "2023-02-28T08:05:35.432Z"
      },
      {
        "duration": 98,
        "start_time": "2023-02-28T08:05:35.513Z"
      },
      {
        "duration": 119,
        "start_time": "2023-02-28T08:05:35.616Z"
      },
      {
        "duration": 71,
        "start_time": "2023-02-28T08:05:35.738Z"
      },
      {
        "duration": 89,
        "start_time": "2023-02-28T08:05:35.813Z"
      },
      {
        "duration": 30,
        "start_time": "2023-02-28T08:05:35.909Z"
      },
      {
        "duration": 122,
        "start_time": "2023-02-28T08:05:35.941Z"
      },
      {
        "duration": 67,
        "start_time": "2023-02-28T08:05:36.065Z"
      },
      {
        "duration": 26,
        "start_time": "2023-02-28T08:05:36.134Z"
      },
      {
        "duration": 94,
        "start_time": "2023-02-28T08:05:36.161Z"
      },
      {
        "duration": 79,
        "start_time": "2023-02-28T08:05:36.257Z"
      },
      {
        "duration": 90,
        "start_time": "2023-02-28T08:05:36.339Z"
      },
      {
        "duration": 30,
        "start_time": "2023-02-28T08:05:36.433Z"
      },
      {
        "duration": 415,
        "start_time": "2023-02-28T08:05:36.465Z"
      },
      {
        "duration": 2737,
        "start_time": "2023-02-28T08:05:36.881Z"
      },
      {
        "duration": 11,
        "start_time": "2023-02-28T08:05:39.625Z"
      },
      {
        "duration": 314,
        "start_time": "2023-02-28T08:05:39.640Z"
      },
      {
        "duration": 13,
        "start_time": "2023-02-28T08:05:39.959Z"
      },
      {
        "duration": 400,
        "start_time": "2023-02-28T08:05:39.974Z"
      },
      {
        "duration": 1139,
        "start_time": "2023-02-28T08:05:40.390Z"
      },
      {
        "duration": 7,
        "start_time": "2023-02-28T08:05:41.532Z"
      },
      {
        "duration": 83,
        "start_time": "2023-02-28T08:05:41.541Z"
      },
      {
        "duration": 17,
        "start_time": "2023-02-28T08:05:41.626Z"
      },
      {
        "duration": 3300,
        "start_time": "2023-02-28T08:05:41.645Z"
      },
      {
        "duration": 25,
        "start_time": "2023-02-28T08:05:44.947Z"
      },
      {
        "duration": 3092,
        "start_time": "2023-02-28T08:05:44.980Z"
      },
      {
        "duration": 15,
        "start_time": "2023-02-28T08:05:48.074Z"
      },
      {
        "duration": 1832,
        "start_time": "2023-02-28T08:05:48.095Z"
      },
      {
        "duration": 4,
        "start_time": "2023-02-28T08:05:49.929Z"
      },
      {
        "duration": 90,
        "start_time": "2023-02-28T08:05:49.936Z"
      },
      {
        "duration": 17,
        "start_time": "2023-02-28T08:05:50.028Z"
      },
      {
        "duration": 13,
        "start_time": "2023-02-28T08:08:38.250Z"
      },
      {
        "duration": 19,
        "start_time": "2023-02-28T08:08:45.841Z"
      },
      {
        "duration": 6,
        "start_time": "2023-02-28T08:09:28.880Z"
      },
      {
        "duration": 205,
        "start_time": "2023-02-28T08:09:55.819Z"
      },
      {
        "duration": 11,
        "start_time": "2023-02-28T08:10:50.443Z"
      },
      {
        "duration": 13,
        "start_time": "2023-02-28T08:10:53.689Z"
      },
      {
        "duration": 32,
        "start_time": "2023-02-28T08:10:54.410Z"
      },
      {
        "duration": 141,
        "start_time": "2023-02-28T08:10:55.779Z"
      },
      {
        "duration": 187,
        "start_time": "2023-02-28T08:19:28.149Z"
      },
      {
        "duration": 391,
        "start_time": "2023-02-28T08:19:37.821Z"
      },
      {
        "duration": 10,
        "start_time": "2023-02-28T08:20:05.618Z"
      },
      {
        "duration": 7,
        "start_time": "2023-02-28T08:20:09.635Z"
      },
      {
        "duration": 10,
        "start_time": "2023-02-28T08:23:29.069Z"
      },
      {
        "duration": 34,
        "start_time": "2023-02-28T08:23:33.544Z"
      },
      {
        "duration": 204,
        "start_time": "2023-02-28T08:23:34.442Z"
      },
      {
        "duration": 4,
        "start_time": "2023-02-28T08:23:58.227Z"
      },
      {
        "duration": 43,
        "start_time": "2023-02-28T08:23:58.923Z"
      },
      {
        "duration": 20,
        "start_time": "2023-02-28T08:24:18.323Z"
      },
      {
        "duration": 19,
        "start_time": "2023-02-28T08:25:09.537Z"
      },
      {
        "duration": 7,
        "start_time": "2023-02-28T08:25:18.108Z"
      },
      {
        "duration": 8,
        "start_time": "2023-02-28T08:25:24.588Z"
      },
      {
        "duration": 9,
        "start_time": "2023-02-28T08:25:26.194Z"
      },
      {
        "duration": 32,
        "start_time": "2023-02-28T08:25:29.073Z"
      },
      {
        "duration": 4,
        "start_time": "2023-02-28T08:28:02.900Z"
      },
      {
        "duration": 33,
        "start_time": "2023-02-28T08:28:03.387Z"
      },
      {
        "duration": 3,
        "start_time": "2023-02-28T08:28:48.412Z"
      },
      {
        "duration": 4,
        "start_time": "2023-02-28T08:28:58.618Z"
      },
      {
        "duration": 30,
        "start_time": "2023-02-28T08:29:01.879Z"
      },
      {
        "duration": 110,
        "start_time": "2023-02-28T08:29:08.619Z"
      },
      {
        "duration": 7,
        "start_time": "2023-02-28T08:30:29.506Z"
      },
      {
        "duration": 5,
        "start_time": "2023-02-28T08:30:34.180Z"
      },
      {
        "duration": 30,
        "start_time": "2023-02-28T08:30:35.081Z"
      },
      {
        "duration": 3,
        "start_time": "2023-02-28T08:31:12.913Z"
      },
      {
        "duration": 17,
        "start_time": "2023-02-28T08:31:14.425Z"
      },
      {
        "duration": 1709,
        "start_time": "2023-02-28T08:31:35.928Z"
      },
      {
        "duration": 913,
        "start_time": "2023-02-28T08:31:37.640Z"
      },
      {
        "duration": 36,
        "start_time": "2023-02-28T08:31:38.556Z"
      },
      {
        "duration": 29,
        "start_time": "2023-02-28T08:31:38.595Z"
      },
      {
        "duration": 27,
        "start_time": "2023-02-28T08:31:38.626Z"
      },
      {
        "duration": 47,
        "start_time": "2023-02-28T08:31:38.655Z"
      },
      {
        "duration": 16,
        "start_time": "2023-02-28T08:31:38.704Z"
      },
      {
        "duration": 4,
        "start_time": "2023-02-28T08:31:38.722Z"
      },
      {
        "duration": 15,
        "start_time": "2023-02-28T08:31:38.727Z"
      },
      {
        "duration": 62,
        "start_time": "2023-02-28T08:31:38.745Z"
      },
      {
        "duration": 34,
        "start_time": "2023-02-28T08:31:38.809Z"
      },
      {
        "duration": 66,
        "start_time": "2023-02-28T08:31:38.844Z"
      },
      {
        "duration": 22,
        "start_time": "2023-02-28T08:31:38.912Z"
      },
      {
        "duration": 62,
        "start_time": "2023-02-28T08:31:38.937Z"
      },
      {
        "duration": 9,
        "start_time": "2023-02-28T08:31:39.001Z"
      },
      {
        "duration": 13,
        "start_time": "2023-02-28T08:31:39.012Z"
      },
      {
        "duration": 18,
        "start_time": "2023-02-28T08:31:39.027Z"
      },
      {
        "duration": 12,
        "start_time": "2023-02-28T08:31:39.047Z"
      },
      {
        "duration": 52,
        "start_time": "2023-02-28T08:31:39.061Z"
      },
      {
        "duration": 6,
        "start_time": "2023-02-28T08:31:39.115Z"
      },
      {
        "duration": 13,
        "start_time": "2023-02-28T08:31:39.123Z"
      },
      {
        "duration": 31,
        "start_time": "2023-02-28T08:31:39.138Z"
      },
      {
        "duration": 38,
        "start_time": "2023-02-28T08:31:39.171Z"
      },
      {
        "duration": 20,
        "start_time": "2023-02-28T08:31:39.210Z"
      },
      {
        "duration": 10,
        "start_time": "2023-02-28T08:31:39.232Z"
      },
      {
        "duration": 340,
        "start_time": "2023-02-28T08:31:39.244Z"
      },
      {
        "duration": 2406,
        "start_time": "2023-02-28T08:31:39.586Z"
      },
      {
        "duration": 9,
        "start_time": "2023-02-28T08:31:41.996Z"
      },
      {
        "duration": 277,
        "start_time": "2023-02-28T08:31:42.007Z"
      },
      {
        "duration": 14,
        "start_time": "2023-02-28T08:31:42.288Z"
      },
      {
        "duration": 254,
        "start_time": "2023-02-28T08:31:42.304Z"
      },
      {
        "duration": 901,
        "start_time": "2023-02-28T08:31:42.572Z"
      },
      {
        "duration": 13,
        "start_time": "2023-02-28T08:31:43.480Z"
      },
      {
        "duration": 18,
        "start_time": "2023-02-28T08:31:43.503Z"
      },
      {
        "duration": 9,
        "start_time": "2023-02-28T08:31:43.524Z"
      },
      {
        "duration": 2884,
        "start_time": "2023-02-28T08:31:43.534Z"
      },
      {
        "duration": 10,
        "start_time": "2023-02-28T08:31:46.421Z"
      },
      {
        "duration": 2677,
        "start_time": "2023-02-28T08:31:46.433Z"
      },
      {
        "duration": 14,
        "start_time": "2023-02-28T08:31:49.111Z"
      },
      {
        "duration": 1689,
        "start_time": "2023-02-28T08:31:49.127Z"
      },
      {
        "duration": 7,
        "start_time": "2023-02-28T08:31:50.820Z"
      },
      {
        "duration": 11,
        "start_time": "2023-02-28T08:31:50.830Z"
      },
      {
        "duration": 11,
        "start_time": "2023-02-28T08:31:55.776Z"
      },
      {
        "duration": 186,
        "start_time": "2023-02-28T08:31:56.385Z"
      },
      {
        "duration": 55,
        "start_time": "2023-02-28T08:32:06.476Z"
      },
      {
        "duration": 43,
        "start_time": "2023-02-28T08:32:20.846Z"
      },
      {
        "duration": 15,
        "start_time": "2023-02-28T08:33:05.823Z"
      },
      {
        "duration": 7,
        "start_time": "2023-02-28T08:33:16.287Z"
      },
      {
        "duration": 3,
        "start_time": "2023-02-28T08:33:20.839Z"
      },
      {
        "duration": 46,
        "start_time": "2023-02-28T08:33:25.047Z"
      },
      {
        "duration": 28,
        "start_time": "2023-02-28T08:43:20.088Z"
      },
      {
        "duration": 76092,
        "start_time": "2023-02-28T08:44:34.748Z"
      },
      {
        "duration": 135725,
        "start_time": "2023-02-28T08:46:12.516Z"
      },
      {
        "duration": 26,
        "start_time": "2023-02-28T08:50:48.566Z"
      },
      {
        "duration": 18,
        "start_time": "2023-02-28T08:51:09.315Z"
      },
      {
        "duration": 21,
        "start_time": "2023-02-28T08:51:24.602Z"
      },
      {
        "duration": 17,
        "start_time": "2023-02-28T08:56:09.642Z"
      },
      {
        "duration": 5,
        "start_time": "2023-02-28T08:56:20.741Z"
      },
      {
        "duration": 6,
        "start_time": "2023-02-28T09:00:32.816Z"
      },
      {
        "duration": 33,
        "start_time": "2023-02-28T09:00:33.648Z"
      },
      {
        "duration": 14,
        "start_time": "2023-02-28T09:01:25.128Z"
      },
      {
        "duration": 1703,
        "start_time": "2023-02-28T09:02:24.033Z"
      },
      {
        "duration": 1050,
        "start_time": "2023-02-28T09:02:25.738Z"
      },
      {
        "duration": 53,
        "start_time": "2023-02-28T09:02:26.804Z"
      },
      {
        "duration": 75,
        "start_time": "2023-02-28T09:02:26.859Z"
      },
      {
        "duration": 45,
        "start_time": "2023-02-28T09:02:26.937Z"
      },
      {
        "duration": 52,
        "start_time": "2023-02-28T09:02:26.987Z"
      },
      {
        "duration": 20,
        "start_time": "2023-02-28T09:02:27.041Z"
      },
      {
        "duration": 78,
        "start_time": "2023-02-28T09:02:27.065Z"
      },
      {
        "duration": 85,
        "start_time": "2023-02-28T09:02:27.146Z"
      },
      {
        "duration": 21,
        "start_time": "2023-02-28T09:02:27.235Z"
      },
      {
        "duration": 72,
        "start_time": "2023-02-28T09:02:27.264Z"
      },
      {
        "duration": 15,
        "start_time": "2023-02-28T09:02:27.338Z"
      },
      {
        "duration": 69,
        "start_time": "2023-02-28T09:02:27.355Z"
      },
      {
        "duration": 17,
        "start_time": "2023-02-28T09:02:27.427Z"
      },
      {
        "duration": 71,
        "start_time": "2023-02-28T09:02:27.445Z"
      },
      {
        "duration": 22,
        "start_time": "2023-02-28T09:02:27.517Z"
      },
      {
        "duration": 71,
        "start_time": "2023-02-28T09:02:27.541Z"
      },
      {
        "duration": 13,
        "start_time": "2023-02-28T09:02:27.614Z"
      },
      {
        "duration": 33,
        "start_time": "2023-02-28T09:02:27.629Z"
      },
      {
        "duration": 55,
        "start_time": "2023-02-28T09:02:27.664Z"
      },
      {
        "duration": 11,
        "start_time": "2023-02-28T09:02:27.720Z"
      },
      {
        "duration": 25,
        "start_time": "2023-02-28T09:02:27.733Z"
      },
      {
        "duration": 15,
        "start_time": "2023-02-28T09:02:27.759Z"
      },
      {
        "duration": 56,
        "start_time": "2023-02-28T09:02:27.775Z"
      },
      {
        "duration": 11,
        "start_time": "2023-02-28T09:02:27.833Z"
      },
      {
        "duration": 353,
        "start_time": "2023-02-28T09:02:27.846Z"
      },
      {
        "duration": 2562,
        "start_time": "2023-02-28T09:02:28.207Z"
      },
      {
        "duration": 12,
        "start_time": "2023-02-28T09:02:30.779Z"
      },
      {
        "duration": 305,
        "start_time": "2023-02-28T09:02:30.794Z"
      },
      {
        "duration": 11,
        "start_time": "2023-02-28T09:02:31.104Z"
      },
      {
        "duration": 358,
        "start_time": "2023-02-28T09:02:31.117Z"
      },
      {
        "duration": 1014,
        "start_time": "2023-02-28T09:02:31.476Z"
      },
      {
        "duration": 8,
        "start_time": "2023-02-28T09:02:32.493Z"
      },
      {
        "duration": 19,
        "start_time": "2023-02-28T09:02:32.507Z"
      },
      {
        "duration": 12,
        "start_time": "2023-02-28T09:02:32.529Z"
      },
      {
        "duration": 3192,
        "start_time": "2023-02-28T09:02:32.543Z"
      },
      {
        "duration": 23,
        "start_time": "2023-02-28T09:02:35.737Z"
      },
      {
        "duration": 2671,
        "start_time": "2023-02-28T09:02:35.768Z"
      },
      {
        "duration": 17,
        "start_time": "2023-02-28T09:02:38.441Z"
      },
      {
        "duration": 1782,
        "start_time": "2023-02-28T09:02:38.459Z"
      },
      {
        "duration": 6,
        "start_time": "2023-02-28T09:02:40.242Z"
      },
      {
        "duration": 47,
        "start_time": "2023-02-28T09:02:40.250Z"
      },
      {
        "duration": 57,
        "start_time": "2023-02-28T09:02:40.299Z"
      },
      {
        "duration": 10,
        "start_time": "2023-02-28T09:02:40.367Z"
      },
      {
        "duration": 205,
        "start_time": "2023-02-28T09:02:40.379Z"
      },
      {
        "duration": 0,
        "start_time": "2023-02-28T09:02:40.591Z"
      },
      {
        "duration": 0,
        "start_time": "2023-02-28T09:02:40.593Z"
      },
      {
        "duration": 0,
        "start_time": "2023-02-28T09:02:40.599Z"
      },
      {
        "duration": 0,
        "start_time": "2023-02-28T09:02:40.603Z"
      },
      {
        "duration": 9,
        "start_time": "2023-02-28T09:03:16.686Z"
      },
      {
        "duration": 18,
        "start_time": "2023-02-28T09:03:20.019Z"
      },
      {
        "duration": 48,
        "start_time": "2023-02-28T09:14:49.463Z"
      },
      {
        "duration": 1686,
        "start_time": "2023-02-28T09:15:28.309Z"
      },
      {
        "duration": 975,
        "start_time": "2023-02-28T09:15:29.997Z"
      },
      {
        "duration": 35,
        "start_time": "2023-02-28T09:15:30.978Z"
      },
      {
        "duration": 37,
        "start_time": "2023-02-28T09:15:31.015Z"
      },
      {
        "duration": 19,
        "start_time": "2023-02-28T09:15:31.055Z"
      },
      {
        "duration": 64,
        "start_time": "2023-02-28T09:15:31.076Z"
      },
      {
        "duration": 48,
        "start_time": "2023-02-28T09:15:31.142Z"
      },
      {
        "duration": 29,
        "start_time": "2023-02-28T09:15:31.192Z"
      },
      {
        "duration": 42,
        "start_time": "2023-02-28T09:15:31.223Z"
      },
      {
        "duration": 61,
        "start_time": "2023-02-28T09:15:31.267Z"
      },
      {
        "duration": 86,
        "start_time": "2023-02-28T09:15:31.330Z"
      },
      {
        "duration": 27,
        "start_time": "2023-02-28T09:15:31.418Z"
      },
      {
        "duration": 66,
        "start_time": "2023-02-28T09:15:31.447Z"
      },
      {
        "duration": 26,
        "start_time": "2023-02-28T09:15:31.517Z"
      },
      {
        "duration": 66,
        "start_time": "2023-02-28T09:15:31.545Z"
      },
      {
        "duration": 26,
        "start_time": "2023-02-28T09:15:31.614Z"
      },
      {
        "duration": 114,
        "start_time": "2023-02-28T09:15:31.642Z"
      },
      {
        "duration": 113,
        "start_time": "2023-02-28T09:15:31.757Z"
      },
      {
        "duration": 51,
        "start_time": "2023-02-28T09:15:31.878Z"
      },
      {
        "duration": 82,
        "start_time": "2023-02-28T09:15:31.931Z"
      },
      {
        "duration": 31,
        "start_time": "2023-02-28T09:15:32.015Z"
      },
      {
        "duration": 73,
        "start_time": "2023-02-28T09:15:32.048Z"
      },
      {
        "duration": 11,
        "start_time": "2023-02-28T09:15:32.123Z"
      },
      {
        "duration": 40,
        "start_time": "2023-02-28T09:15:32.136Z"
      },
      {
        "duration": 36,
        "start_time": "2023-02-28T09:15:32.184Z"
      },
      {
        "duration": 294,
        "start_time": "2023-02-28T09:15:32.222Z"
      },
      {
        "duration": 2483,
        "start_time": "2023-02-28T09:15:32.518Z"
      },
      {
        "duration": 10,
        "start_time": "2023-02-28T09:15:35.002Z"
      },
      {
        "duration": 313,
        "start_time": "2023-02-28T09:15:35.014Z"
      },
      {
        "duration": 8,
        "start_time": "2023-02-28T09:15:35.329Z"
      },
      {
        "duration": 274,
        "start_time": "2023-02-28T09:15:35.338Z"
      },
      {
        "duration": 1110,
        "start_time": "2023-02-28T09:15:35.614Z"
      },
      {
        "duration": 6,
        "start_time": "2023-02-28T09:15:36.726Z"
      },
      {
        "duration": 17,
        "start_time": "2023-02-28T09:15:36.734Z"
      },
      {
        "duration": 90,
        "start_time": "2023-02-28T09:15:36.753Z"
      },
      {
        "duration": 2966,
        "start_time": "2023-02-28T09:15:36.845Z"
      },
      {
        "duration": 12,
        "start_time": "2023-02-28T09:15:39.813Z"
      },
      {
        "duration": 2772,
        "start_time": "2023-02-28T09:15:39.828Z"
      },
      {
        "duration": 17,
        "start_time": "2023-02-28T09:15:42.602Z"
      },
      {
        "duration": 1904,
        "start_time": "2023-02-28T09:15:42.622Z"
      },
      {
        "duration": 6,
        "start_time": "2023-02-28T09:15:44.531Z"
      },
      {
        "duration": 56,
        "start_time": "2023-02-28T09:15:44.551Z"
      },
      {
        "duration": 14,
        "start_time": "2023-02-28T09:16:31.779Z"
      },
      {
        "duration": 197,
        "start_time": "2023-02-28T09:16:33.813Z"
      },
      {
        "duration": 48,
        "start_time": "2023-02-28T09:17:02.988Z"
      },
      {
        "duration": 1656,
        "start_time": "2023-02-28T13:24:26.506Z"
      },
      {
        "duration": 3,
        "start_time": "2023-02-28T13:26:56.512Z"
      },
      {
        "duration": 3012,
        "start_time": "2023-02-28T13:26:56.517Z"
      },
      {
        "duration": 30,
        "start_time": "2023-02-28T13:26:59.531Z"
      },
      {
        "duration": 21,
        "start_time": "2023-02-28T13:26:59.563Z"
      },
      {
        "duration": 14,
        "start_time": "2023-02-28T13:26:59.587Z"
      },
      {
        "duration": 18,
        "start_time": "2023-02-28T13:26:59.603Z"
      },
      {
        "duration": 14,
        "start_time": "2023-02-28T13:26:59.649Z"
      },
      {
        "duration": 3,
        "start_time": "2023-02-28T13:26:59.665Z"
      },
      {
        "duration": 12,
        "start_time": "2023-02-28T13:26:59.670Z"
      },
      {
        "duration": 13,
        "start_time": "2023-02-28T13:26:59.684Z"
      },
      {
        "duration": 11,
        "start_time": "2023-02-28T13:26:59.699Z"
      },
      {
        "duration": 12,
        "start_time": "2023-02-28T13:26:59.712Z"
      },
      {
        "duration": 12,
        "start_time": "2023-02-28T13:26:59.725Z"
      },
      {
        "duration": 4,
        "start_time": "2023-02-28T13:26:59.748Z"
      },
      {
        "duration": 7,
        "start_time": "2023-02-28T13:26:59.754Z"
      },
      {
        "duration": 6,
        "start_time": "2023-02-28T13:26:59.762Z"
      },
      {
        "duration": 9,
        "start_time": "2023-02-28T13:26:59.770Z"
      },
      {
        "duration": 9,
        "start_time": "2023-02-28T13:26:59.780Z"
      },
      {
        "duration": 12,
        "start_time": "2023-02-28T13:26:59.790Z"
      },
      {
        "duration": 7,
        "start_time": "2023-02-28T13:26:59.804Z"
      },
      {
        "duration": 36,
        "start_time": "2023-02-28T13:26:59.813Z"
      },
      {
        "duration": 22,
        "start_time": "2023-02-28T13:26:59.850Z"
      },
      {
        "duration": 9,
        "start_time": "2023-02-28T13:26:59.874Z"
      },
      {
        "duration": 18,
        "start_time": "2023-02-28T13:26:59.884Z"
      },
      {
        "duration": 8,
        "start_time": "2023-02-28T13:26:59.904Z"
      },
      {
        "duration": 230,
        "start_time": "2023-02-28T13:26:59.913Z"
      },
      {
        "duration": 1898,
        "start_time": "2023-02-28T13:27:00.144Z"
      },
      {
        "duration": 9,
        "start_time": "2023-02-28T13:27:02.044Z"
      },
      {
        "duration": 240,
        "start_time": "2023-02-28T13:27:02.055Z"
      },
      {
        "duration": 7,
        "start_time": "2023-02-28T13:27:02.297Z"
      },
      {
        "duration": 247,
        "start_time": "2023-02-28T13:27:02.306Z"
      },
      {
        "duration": 818,
        "start_time": "2023-02-28T13:27:02.554Z"
      },
      {
        "duration": 5,
        "start_time": "2023-02-28T13:27:03.375Z"
      },
      {
        "duration": 9,
        "start_time": "2023-02-28T13:27:03.381Z"
      },
      {
        "duration": 6,
        "start_time": "2023-02-28T13:27:03.392Z"
      },
      {
        "duration": 2246,
        "start_time": "2023-02-28T13:27:03.399Z"
      },
      {
        "duration": 8,
        "start_time": "2023-02-28T13:27:05.647Z"
      },
      {
        "duration": 1980,
        "start_time": "2023-02-28T13:27:05.656Z"
      },
      {
        "duration": 19,
        "start_time": "2023-02-28T13:27:07.638Z"
      },
      {
        "duration": 1410,
        "start_time": "2023-02-28T13:27:07.659Z"
      },
      {
        "duration": 4,
        "start_time": "2023-02-28T13:27:09.072Z"
      },
      {
        "duration": 9,
        "start_time": "2023-02-28T13:27:09.078Z"
      },
      {
        "duration": 5,
        "start_time": "2023-02-28T13:27:09.089Z"
      },
      {
        "duration": 5,
        "start_time": "2023-02-28T13:27:09.095Z"
      },
      {
        "duration": 9,
        "start_time": "2023-02-28T13:27:09.101Z"
      },
      {
        "duration": 150,
        "start_time": "2023-02-28T13:27:13.127Z"
      },
      {
        "duration": 40,
        "start_time": "2023-02-28T13:27:41.667Z"
      },
      {
        "duration": 5,
        "start_time": "2023-02-28T13:27:42.661Z"
      },
      {
        "duration": 5,
        "start_time": "2023-02-28T13:27:45.323Z"
      },
      {
        "duration": 1072,
        "start_time": "2023-02-28T13:27:48.989Z"
      },
      {
        "duration": 1168,
        "start_time": "2023-02-28T13:28:01.482Z"
      },
      {
        "duration": 1363,
        "start_time": "2023-02-28T13:28:22.691Z"
      },
      {
        "duration": 52430,
        "start_time": "2023-02-28T13:28:46.366Z"
      },
      {
        "duration": 1354,
        "start_time": "2023-02-28T13:30:32.404Z"
      },
      {
        "duration": 667,
        "start_time": "2023-02-28T13:30:33.760Z"
      },
      {
        "duration": 32,
        "start_time": "2023-02-28T13:30:34.428Z"
      },
      {
        "duration": 19,
        "start_time": "2023-02-28T13:30:34.462Z"
      },
      {
        "duration": 13,
        "start_time": "2023-02-28T13:30:34.484Z"
      },
      {
        "duration": 17,
        "start_time": "2023-02-28T13:30:34.499Z"
      },
      {
        "duration": 40,
        "start_time": "2023-02-28T13:30:34.518Z"
      },
      {
        "duration": 5,
        "start_time": "2023-02-28T13:30:34.560Z"
      },
      {
        "duration": 7,
        "start_time": "2023-02-28T13:30:34.567Z"
      },
      {
        "duration": 4,
        "start_time": "2023-02-28T13:30:34.575Z"
      },
      {
        "duration": 14,
        "start_time": "2023-02-28T13:30:34.581Z"
      },
      {
        "duration": 7,
        "start_time": "2023-02-28T13:30:34.597Z"
      },
      {
        "duration": 5,
        "start_time": "2023-02-28T13:30:34.606Z"
      },
      {
        "duration": 35,
        "start_time": "2023-02-28T13:30:34.614Z"
      },
      {
        "duration": 4,
        "start_time": "2023-02-28T13:30:34.650Z"
      },
      {
        "duration": 7,
        "start_time": "2023-02-28T13:30:34.655Z"
      },
      {
        "duration": 7,
        "start_time": "2023-02-28T13:30:34.663Z"
      },
      {
        "duration": 7,
        "start_time": "2023-02-28T13:30:34.671Z"
      },
      {
        "duration": 9,
        "start_time": "2023-02-28T13:30:34.680Z"
      },
      {
        "duration": 6,
        "start_time": "2023-02-28T13:30:34.690Z"
      },
      {
        "duration": 11,
        "start_time": "2023-02-28T13:30:34.697Z"
      },
      {
        "duration": 55,
        "start_time": "2023-02-28T13:30:34.709Z"
      },
      {
        "duration": 9,
        "start_time": "2023-02-28T13:30:34.766Z"
      },
      {
        "duration": 18,
        "start_time": "2023-02-28T13:30:34.777Z"
      },
      {
        "duration": 9,
        "start_time": "2023-02-28T13:30:34.797Z"
      },
      {
        "duration": 229,
        "start_time": "2023-02-28T13:30:34.808Z"
      },
      {
        "duration": 1911,
        "start_time": "2023-02-28T13:30:35.039Z"
      },
      {
        "duration": 8,
        "start_time": "2023-02-28T13:30:36.952Z"
      },
      {
        "duration": 189,
        "start_time": "2023-02-28T13:30:36.961Z"
      },
      {
        "duration": 7,
        "start_time": "2023-02-28T13:30:37.152Z"
      },
      {
        "duration": 183,
        "start_time": "2023-02-28T13:30:37.161Z"
      },
      {
        "duration": 685,
        "start_time": "2023-02-28T13:30:37.349Z"
      },
      {
        "duration": 14,
        "start_time": "2023-02-28T13:30:38.036Z"
      },
      {
        "duration": 48,
        "start_time": "2023-02-28T13:30:38.052Z"
      },
      {
        "duration": 27,
        "start_time": "2023-02-28T13:30:38.102Z"
      },
      {
        "duration": 2248,
        "start_time": "2023-02-28T13:30:38.131Z"
      },
      {
        "duration": 8,
        "start_time": "2023-02-28T13:30:40.381Z"
      },
      {
        "duration": 2093,
        "start_time": "2023-02-28T13:30:40.390Z"
      },
      {
        "duration": 13,
        "start_time": "2023-02-28T13:30:42.485Z"
      },
      {
        "duration": 1438,
        "start_time": "2023-02-28T13:30:42.500Z"
      },
      {
        "duration": 6,
        "start_time": "2023-02-28T13:30:43.942Z"
      },
      {
        "duration": 8,
        "start_time": "2023-02-28T13:30:43.950Z"
      },
      {
        "duration": 2,
        "start_time": "2023-02-28T13:30:51.467Z"
      },
      {
        "duration": 7,
        "start_time": "2023-02-28T13:30:52.179Z"
      },
      {
        "duration": 8,
        "start_time": "2023-02-28T13:30:54.628Z"
      },
      {
        "duration": 6,
        "start_time": "2023-02-28T13:30:55.872Z"
      },
      {
        "duration": 1008,
        "start_time": "2023-02-28T13:30:58.042Z"
      },
      {
        "duration": 883,
        "start_time": "2023-02-28T13:31:09.371Z"
      },
      {
        "duration": 1158,
        "start_time": "2023-02-28T13:31:20.892Z"
      },
      {
        "duration": 118,
        "start_time": "2023-02-28T13:34:59.767Z"
      },
      {
        "duration": 17,
        "start_time": "2023-02-28T13:35:06.265Z"
      },
      {
        "duration": 10,
        "start_time": "2023-02-28T13:35:21.122Z"
      },
      {
        "duration": 4,
        "start_time": "2023-02-28T13:35:44.620Z"
      },
      {
        "duration": 2397,
        "start_time": "2023-02-28T13:35:52.064Z"
      },
      {
        "duration": 9409,
        "start_time": "2023-02-28T13:36:03.284Z"
      },
      {
        "duration": 10,
        "start_time": "2023-02-28T13:39:09.946Z"
      },
      {
        "duration": 26,
        "start_time": "2023-02-28T13:39:49.294Z"
      },
      {
        "duration": 12,
        "start_time": "2023-02-28T13:39:59.327Z"
      },
      {
        "duration": 4,
        "start_time": "2023-02-28T13:40:44.503Z"
      },
      {
        "duration": 1708,
        "start_time": "2023-02-28T13:42:16.060Z"
      },
      {
        "duration": 8,
        "start_time": "2023-02-28T13:42:31.087Z"
      },
      {
        "duration": 15,
        "start_time": "2023-02-28T13:43:17.245Z"
      },
      {
        "duration": 166,
        "start_time": "2023-02-28T13:44:00.184Z"
      },
      {
        "duration": 5,
        "start_time": "2023-02-28T13:44:44.003Z"
      },
      {
        "duration": 158,
        "start_time": "2023-02-28T13:46:08.593Z"
      },
      {
        "duration": 220,
        "start_time": "2023-02-28T13:46:23.033Z"
      },
      {
        "duration": 221,
        "start_time": "2023-02-28T13:46:56.728Z"
      },
      {
        "duration": 2051,
        "start_time": "2023-03-10T07:54:12.211Z"
      },
      {
        "duration": 72,
        "start_time": "2023-03-10T07:54:21.128Z"
      },
      {
        "duration": 4549,
        "start_time": "2023-03-10T07:54:23.196Z"
      },
      {
        "duration": 22,
        "start_time": "2023-03-10T07:54:27.747Z"
      },
      {
        "duration": 18,
        "start_time": "2023-03-10T07:54:27.771Z"
      },
      {
        "duration": 18,
        "start_time": "2023-03-10T07:54:32.423Z"
      },
      {
        "duration": 16,
        "start_time": "2023-03-10T07:54:33.244Z"
      },
      {
        "duration": 14,
        "start_time": "2023-03-10T07:54:43.944Z"
      },
      {
        "duration": 3,
        "start_time": "2023-03-10T07:54:46.862Z"
      },
      {
        "duration": 4,
        "start_time": "2023-03-10T07:54:48.574Z"
      },
      {
        "duration": 3,
        "start_time": "2023-03-10T07:54:50.407Z"
      },
      {
        "duration": 7,
        "start_time": "2023-03-10T07:54:53.167Z"
      },
      {
        "duration": 9,
        "start_time": "2023-03-10T07:54:56.665Z"
      },
      {
        "duration": 5,
        "start_time": "2023-03-10T07:54:57.678Z"
      },
      {
        "duration": 4,
        "start_time": "2023-03-10T07:54:58.471Z"
      },
      {
        "duration": 4,
        "start_time": "2023-03-10T07:54:59.153Z"
      },
      {
        "duration": 4,
        "start_time": "2023-03-10T07:54:59.863Z"
      },
      {
        "duration": 6,
        "start_time": "2023-03-10T07:55:03.431Z"
      },
      {
        "duration": 6,
        "start_time": "2023-03-10T07:55:18.247Z"
      },
      {
        "duration": 9,
        "start_time": "2023-03-10T07:55:32.903Z"
      },
      {
        "duration": 8,
        "start_time": "2023-03-10T07:55:33.699Z"
      },
      {
        "duration": 11,
        "start_time": "2023-03-10T07:55:37.404Z"
      },
      {
        "duration": 18,
        "start_time": "2023-03-10T07:55:43.133Z"
      },
      {
        "duration": 12,
        "start_time": "2023-03-10T07:55:43.803Z"
      },
      {
        "duration": 21,
        "start_time": "2023-03-10T07:55:50.934Z"
      },
      {
        "duration": 13,
        "start_time": "2023-03-10T07:55:52.516Z"
      },
      {
        "duration": 243,
        "start_time": "2023-03-10T07:55:57.132Z"
      },
      {
        "duration": 2384,
        "start_time": "2023-03-10T07:55:58.566Z"
      },
      {
        "duration": 10,
        "start_time": "2023-03-10T07:56:09.730Z"
      },
      {
        "duration": 238,
        "start_time": "2023-03-10T07:56:12.407Z"
      },
      {
        "duration": 14,
        "start_time": "2023-03-10T07:56:16.611Z"
      },
      {
        "duration": 240,
        "start_time": "2023-03-10T07:56:17.404Z"
      },
      {
        "duration": 750,
        "start_time": "2023-03-10T07:56:40.515Z"
      },
      {
        "duration": 3,
        "start_time": "2023-03-10T07:57:25.225Z"
      },
      {
        "duration": 5,
        "start_time": "2023-03-10T07:57:26.257Z"
      },
      {
        "duration": 5,
        "start_time": "2023-03-10T07:57:28.471Z"
      },
      {
        "duration": 2647,
        "start_time": "2023-03-10T07:57:28.759Z"
      },
      {
        "duration": 18,
        "start_time": "2023-03-10T07:57:39.715Z"
      },
      {
        "duration": 2503,
        "start_time": "2023-03-10T07:57:41.461Z"
      },
      {
        "duration": 18,
        "start_time": "2023-03-10T07:57:51.603Z"
      },
      {
        "duration": 1752,
        "start_time": "2023-03-10T07:57:52.922Z"
      },
      {
        "duration": 40,
        "start_time": "2023-03-10T08:05:18.469Z"
      },
      {
        "duration": 6,
        "start_time": "2023-03-10T08:05:27.703Z"
      },
      {
        "duration": 5,
        "start_time": "2023-03-10T08:06:54.536Z"
      },
      {
        "duration": 6,
        "start_time": "2023-03-10T08:07:27.232Z"
      },
      {
        "duration": 3,
        "start_time": "2023-03-10T08:08:01.306Z"
      },
      {
        "duration": 5,
        "start_time": "2023-03-10T08:08:05.465Z"
      },
      {
        "duration": 3,
        "start_time": "2023-03-10T08:08:56.260Z"
      },
      {
        "duration": 71,
        "start_time": "2023-03-10T08:09:34.452Z"
      },
      {
        "duration": 18,
        "start_time": "2023-03-10T08:09:51.100Z"
      },
      {
        "duration": 4,
        "start_time": "2023-03-10T08:10:35.704Z"
      },
      {
        "duration": 3,
        "start_time": "2023-03-10T08:10:37.833Z"
      },
      {
        "duration": 18,
        "start_time": "2023-03-10T08:10:41.102Z"
      },
      {
        "duration": 4,
        "start_time": "2023-03-10T08:12:23.426Z"
      },
      {
        "duration": 14,
        "start_time": "2023-03-10T08:12:53.657Z"
      },
      {
        "duration": 5,
        "start_time": "2023-03-10T08:13:21.829Z"
      },
      {
        "duration": 73,
        "start_time": "2023-03-10T08:15:22.098Z"
      },
      {
        "duration": 3,
        "start_time": "2023-03-10T08:16:00.451Z"
      },
      {
        "duration": 3,
        "start_time": "2023-03-10T08:16:11.646Z"
      },
      {
        "duration": 12,
        "start_time": "2023-03-10T08:16:12.563Z"
      },
      {
        "duration": 7,
        "start_time": "2023-03-10T08:16:35.138Z"
      },
      {
        "duration": 141,
        "start_time": "2023-03-10T08:16:36.036Z"
      },
      {
        "duration": 4,
        "start_time": "2023-03-10T08:17:03.407Z"
      },
      {
        "duration": 2,
        "start_time": "2023-03-10T08:17:05.615Z"
      },
      {
        "duration": 12,
        "start_time": "2023-03-10T08:17:06.597Z"
      },
      {
        "duration": 12,
        "start_time": "2023-03-10T08:17:44.035Z"
      },
      {
        "duration": 128,
        "start_time": "2023-03-10T08:19:18.638Z"
      },
      {
        "duration": 1394,
        "start_time": "2023-03-10T08:19:49.655Z"
      },
      {
        "duration": 646,
        "start_time": "2023-03-10T08:19:51.050Z"
      },
      {
        "duration": 24,
        "start_time": "2023-03-10T08:19:51.697Z"
      },
      {
        "duration": 17,
        "start_time": "2023-03-10T08:19:51.723Z"
      },
      {
        "duration": 13,
        "start_time": "2023-03-10T08:19:51.741Z"
      },
      {
        "duration": 35,
        "start_time": "2023-03-10T08:19:51.755Z"
      },
      {
        "duration": 11,
        "start_time": "2023-03-10T08:19:51.792Z"
      },
      {
        "duration": 5,
        "start_time": "2023-03-10T08:19:51.805Z"
      },
      {
        "duration": 6,
        "start_time": "2023-03-10T08:19:51.811Z"
      },
      {
        "duration": 11,
        "start_time": "2023-03-10T08:19:51.819Z"
      },
      {
        "duration": 11,
        "start_time": "2023-03-10T08:19:51.831Z"
      },
      {
        "duration": 11,
        "start_time": "2023-03-10T08:19:51.844Z"
      },
      {
        "duration": 10,
        "start_time": "2023-03-10T08:19:51.857Z"
      },
      {
        "duration": 12,
        "start_time": "2023-03-10T08:19:51.868Z"
      },
      {
        "duration": 3,
        "start_time": "2023-03-10T08:19:51.882Z"
      },
      {
        "duration": 7,
        "start_time": "2023-03-10T08:19:51.887Z"
      },
      {
        "duration": 7,
        "start_time": "2023-03-10T08:19:51.896Z"
      },
      {
        "duration": 8,
        "start_time": "2023-03-10T08:19:51.905Z"
      },
      {
        "duration": 10,
        "start_time": "2023-03-10T08:19:51.915Z"
      },
      {
        "duration": 6,
        "start_time": "2023-03-10T08:19:51.927Z"
      },
      {
        "duration": 12,
        "start_time": "2023-03-10T08:19:51.934Z"
      },
      {
        "duration": 47,
        "start_time": "2023-03-10T08:19:51.947Z"
      },
      {
        "duration": 8,
        "start_time": "2023-03-10T08:19:51.996Z"
      },
      {
        "duration": 16,
        "start_time": "2023-03-10T08:19:52.005Z"
      },
      {
        "duration": 8,
        "start_time": "2023-03-10T08:19:52.022Z"
      },
      {
        "duration": 259,
        "start_time": "2023-03-10T08:19:52.032Z"
      },
      {
        "duration": 1786,
        "start_time": "2023-03-10T08:19:52.292Z"
      },
      {
        "duration": 7,
        "start_time": "2023-03-10T08:19:54.081Z"
      },
      {
        "duration": 176,
        "start_time": "2023-03-10T08:19:54.089Z"
      },
      {
        "duration": 14,
        "start_time": "2023-03-10T08:19:54.266Z"
      },
      {
        "duration": 145,
        "start_time": "2023-03-10T08:19:54.281Z"
      },
      {
        "duration": 700,
        "start_time": "2023-03-10T08:19:54.427Z"
      },
      {
        "duration": 4,
        "start_time": "2023-03-10T08:19:55.129Z"
      },
      {
        "duration": 17,
        "start_time": "2023-03-10T08:19:55.134Z"
      },
      {
        "duration": 9,
        "start_time": "2023-03-10T08:19:55.153Z"
      },
      {
        "duration": 2065,
        "start_time": "2023-03-10T08:19:55.163Z"
      },
      {
        "duration": 6,
        "start_time": "2023-03-10T08:19:57.230Z"
      },
      {
        "duration": 1889,
        "start_time": "2023-03-10T08:19:57.237Z"
      },
      {
        "duration": 12,
        "start_time": "2023-03-10T08:19:59.128Z"
      },
      {
        "duration": 1244,
        "start_time": "2023-03-10T08:19:59.141Z"
      },
      {
        "duration": 3,
        "start_time": "2023-03-10T08:20:00.387Z"
      },
      {
        "duration": 40,
        "start_time": "2023-03-10T08:20:00.392Z"
      },
      {
        "duration": 6,
        "start_time": "2023-03-10T08:20:01.463Z"
      },
      {
        "duration": 125,
        "start_time": "2023-03-10T08:20:02.151Z"
      },
      {
        "duration": 6,
        "start_time": "2023-03-10T08:20:03.985Z"
      },
      {
        "duration": 2,
        "start_time": "2023-03-10T08:20:04.414Z"
      },
      {
        "duration": 112,
        "start_time": "2023-03-10T08:20:05.238Z"
      },
      {
        "duration": 8,
        "start_time": "2023-03-10T08:21:52.406Z"
      },
      {
        "duration": 8,
        "start_time": "2023-03-10T08:22:01.326Z"
      },
      {
        "duration": 4,
        "start_time": "2023-03-10T08:22:24.414Z"
      },
      {
        "duration": 2,
        "start_time": "2023-03-10T08:22:39.606Z"
      },
      {
        "duration": 4,
        "start_time": "2023-03-10T08:22:41.144Z"
      },
      {
        "duration": 73,
        "start_time": "2023-03-10T08:22:45.212Z"
      },
      {
        "duration": 133,
        "start_time": "2023-03-10T08:26:31.853Z"
      },
      {
        "duration": 16,
        "start_time": "2023-03-10T08:26:33.810Z"
      },
      {
        "duration": 144,
        "start_time": "2023-03-10T08:26:54.118Z"
      },
      {
        "duration": 3,
        "start_time": "2023-03-10T08:27:04.849Z"
      },
      {
        "duration": 2,
        "start_time": "2023-03-10T08:27:37.169Z"
      },
      {
        "duration": 4,
        "start_time": "2023-03-10T08:27:37.561Z"
      },
      {
        "duration": 16,
        "start_time": "2023-03-10T08:27:42.193Z"
      },
      {
        "duration": 16,
        "start_time": "2023-03-10T08:29:54.234Z"
      },
      {
        "duration": 8,
        "start_time": "2023-03-10T08:30:38.491Z"
      },
      {
        "duration": 14,
        "start_time": "2023-03-10T08:30:54.693Z"
      },
      {
        "duration": 9,
        "start_time": "2023-03-10T08:34:12.827Z"
      },
      {
        "duration": 9,
        "start_time": "2023-03-10T08:34:20.602Z"
      },
      {
        "duration": 9,
        "start_time": "2023-03-10T08:34:21.035Z"
      },
      {
        "duration": 20,
        "start_time": "2023-03-10T08:34:39.794Z"
      },
      {
        "duration": 16,
        "start_time": "2023-03-10T08:34:50.956Z"
      },
      {
        "duration": 2,
        "start_time": "2023-03-10T08:38:02.309Z"
      },
      {
        "duration": 4,
        "start_time": "2023-03-10T08:38:03.556Z"
      },
      {
        "duration": 15,
        "start_time": "2023-03-10T08:38:06.269Z"
      },
      {
        "duration": 15,
        "start_time": "2023-03-10T08:40:48.426Z"
      },
      {
        "duration": 14,
        "start_time": "2023-03-10T08:41:14.541Z"
      },
      {
        "duration": 747,
        "start_time": "2023-03-10T08:42:00.839Z"
      },
      {
        "duration": 50,
        "start_time": "2023-03-10T08:42:51.430Z"
      },
      {
        "duration": 7,
        "start_time": "2023-03-10T08:42:54.630Z"
      },
      {
        "duration": 5,
        "start_time": "2023-03-10T08:44:05.214Z"
      },
      {
        "duration": 2,
        "start_time": "2023-03-10T08:44:06.846Z"
      },
      {
        "duration": 4,
        "start_time": "2023-03-10T08:44:07.847Z"
      },
      {
        "duration": 30,
        "start_time": "2023-03-10T08:44:09.559Z"
      },
      {
        "duration": 8,
        "start_time": "2023-03-10T08:44:10.142Z"
      },
      {
        "duration": 1166,
        "start_time": "2023-03-10T08:44:11.318Z"
      },
      {
        "duration": 1529,
        "start_time": "2023-03-10T08:44:20.551Z"
      },
      {
        "duration": 1058,
        "start_time": "2023-03-10T08:44:36.127Z"
      },
      {
        "duration": 82,
        "start_time": "2023-03-10T08:48:57.200Z"
      },
      {
        "duration": 908,
        "start_time": "2023-03-10T08:49:19.272Z"
      },
      {
        "duration": 50,
        "start_time": "2023-03-13T06:56:20.946Z"
      },
      {
        "duration": 5,
        "start_time": "2023-03-13T06:58:22.295Z"
      },
      {
        "duration": 7,
        "start_time": "2023-03-13T07:08:31.454Z"
      },
      {
        "duration": 7,
        "start_time": "2023-03-13T07:13:56.896Z"
      },
      {
        "duration": 7,
        "start_time": "2023-03-13T07:14:49.026Z"
      },
      {
        "duration": 8,
        "start_time": "2023-03-13T07:20:08.397Z"
      },
      {
        "duration": 9,
        "start_time": "2023-03-13T07:20:49.028Z"
      },
      {
        "duration": 1681,
        "start_time": "2023-03-13T07:29:20.531Z"
      },
      {
        "duration": 2507,
        "start_time": "2023-03-13T07:29:22.214Z"
      },
      {
        "duration": 23,
        "start_time": "2023-03-13T07:29:24.723Z"
      },
      {
        "duration": 18,
        "start_time": "2023-03-13T07:29:24.748Z"
      },
      {
        "duration": 13,
        "start_time": "2023-03-13T07:29:24.768Z"
      },
      {
        "duration": 20,
        "start_time": "2023-03-13T07:29:24.782Z"
      },
      {
        "duration": 12,
        "start_time": "2023-03-13T07:29:24.803Z"
      },
      {
        "duration": 3,
        "start_time": "2023-03-13T07:29:24.817Z"
      },
      {
        "duration": 10,
        "start_time": "2023-03-13T07:29:24.822Z"
      },
      {
        "duration": 7,
        "start_time": "2023-03-13T07:29:24.857Z"
      },
      {
        "duration": 12,
        "start_time": "2023-03-13T07:29:24.865Z"
      },
      {
        "duration": 11,
        "start_time": "2023-03-13T07:29:24.879Z"
      },
      {
        "duration": 7,
        "start_time": "2023-03-13T07:29:24.891Z"
      },
      {
        "duration": 6,
        "start_time": "2023-03-13T07:29:24.902Z"
      },
      {
        "duration": 7,
        "start_time": "2023-03-13T07:29:24.909Z"
      },
      {
        "duration": 8,
        "start_time": "2023-03-13T07:29:24.917Z"
      },
      {
        "duration": 31,
        "start_time": "2023-03-13T07:29:24.927Z"
      },
      {
        "duration": 18,
        "start_time": "2023-03-13T07:29:24.960Z"
      },
      {
        "duration": 28,
        "start_time": "2023-03-13T07:29:24.980Z"
      },
      {
        "duration": 15,
        "start_time": "2023-03-13T07:29:25.009Z"
      },
      {
        "duration": 33,
        "start_time": "2023-03-13T07:29:25.025Z"
      },
      {
        "duration": 31,
        "start_time": "2023-03-13T07:29:25.059Z"
      },
      {
        "duration": 11,
        "start_time": "2023-03-13T07:29:25.091Z"
      },
      {
        "duration": 44,
        "start_time": "2023-03-13T07:29:25.104Z"
      },
      {
        "duration": 9,
        "start_time": "2023-03-13T07:29:25.149Z"
      },
      {
        "duration": 362,
        "start_time": "2023-03-13T07:29:25.159Z"
      },
      {
        "duration": 2097,
        "start_time": "2023-03-13T07:29:25.523Z"
      },
      {
        "duration": 8,
        "start_time": "2023-03-13T07:29:27.622Z"
      },
      {
        "duration": 157,
        "start_time": "2023-03-13T07:29:27.631Z"
      },
      {
        "duration": 8,
        "start_time": "2023-03-13T07:29:27.791Z"
      },
      {
        "duration": 169,
        "start_time": "2023-03-13T07:29:27.800Z"
      },
      {
        "duration": 792,
        "start_time": "2023-03-13T07:29:27.972Z"
      },
      {
        "duration": 4,
        "start_time": "2023-03-13T07:29:28.766Z"
      },
      {
        "duration": 18,
        "start_time": "2023-03-13T07:29:28.772Z"
      },
      {
        "duration": 7,
        "start_time": "2023-03-13T07:29:28.792Z"
      },
      {
        "duration": 2506,
        "start_time": "2023-03-13T07:29:28.800Z"
      },
      {
        "duration": 9,
        "start_time": "2023-03-13T07:29:31.308Z"
      },
      {
        "duration": 2266,
        "start_time": "2023-03-13T07:29:31.318Z"
      },
      {
        "duration": 14,
        "start_time": "2023-03-13T07:29:33.586Z"
      },
      {
        "duration": 1574,
        "start_time": "2023-03-13T07:29:33.602Z"
      },
      {
        "duration": 4,
        "start_time": "2023-03-13T07:29:38.926Z"
      },
      {
        "duration": 6,
        "start_time": "2023-03-13T07:29:41.471Z"
      },
      {
        "duration": 148,
        "start_time": "2023-03-13T07:29:43.798Z"
      },
      {
        "duration": 8,
        "start_time": "2023-03-13T07:29:47.652Z"
      },
      {
        "duration": 82,
        "start_time": "2023-03-13T07:31:25.864Z"
      },
      {
        "duration": 16,
        "start_time": "2023-03-13T07:33:21.025Z"
      },
      {
        "duration": 3586,
        "start_time": "2023-03-13T07:34:25.483Z"
      },
      {
        "duration": 3677,
        "start_time": "2023-03-13T07:35:02.082Z"
      },
      {
        "duration": 5,
        "start_time": "2023-03-13T07:38:52.954Z"
      },
      {
        "duration": 4,
        "start_time": "2023-03-13T07:39:01.039Z"
      },
      {
        "duration": 3819,
        "start_time": "2023-03-13T07:39:10.749Z"
      },
      {
        "duration": 13,
        "start_time": "2023-03-13T08:35:31.308Z"
      },
      {
        "duration": 4,
        "start_time": "2023-03-13T08:35:34.133Z"
      },
      {
        "duration": 696,
        "start_time": "2023-03-13T08:35:34.139Z"
      },
      {
        "duration": 30,
        "start_time": "2023-03-13T08:35:34.837Z"
      },
      {
        "duration": 17,
        "start_time": "2023-03-13T08:35:34.869Z"
      },
      {
        "duration": 13,
        "start_time": "2023-03-13T08:35:34.889Z"
      },
      {
        "duration": 18,
        "start_time": "2023-03-13T08:35:34.904Z"
      },
      {
        "duration": 10,
        "start_time": "2023-03-13T08:35:34.957Z"
      },
      {
        "duration": 16,
        "start_time": "2023-03-13T08:35:34.969Z"
      },
      {
        "duration": 8,
        "start_time": "2023-03-13T08:35:34.987Z"
      },
      {
        "duration": 5,
        "start_time": "2023-03-13T08:35:34.997Z"
      },
      {
        "duration": 18,
        "start_time": "2023-03-13T08:35:35.004Z"
      },
      {
        "duration": 11,
        "start_time": "2023-03-13T08:35:35.023Z"
      },
      {
        "duration": 15,
        "start_time": "2023-03-13T08:35:35.035Z"
      },
      {
        "duration": 5,
        "start_time": "2023-03-13T08:35:35.056Z"
      },
      {
        "duration": 8,
        "start_time": "2023-03-13T08:35:35.062Z"
      },
      {
        "duration": 12,
        "start_time": "2023-03-13T08:35:35.072Z"
      },
      {
        "duration": 9,
        "start_time": "2023-03-13T08:35:35.085Z"
      },
      {
        "duration": 12,
        "start_time": "2023-03-13T08:35:35.096Z"
      },
      {
        "duration": 17,
        "start_time": "2023-03-13T08:35:35.110Z"
      },
      {
        "duration": 7,
        "start_time": "2023-03-13T08:35:35.129Z"
      },
      {
        "duration": 28,
        "start_time": "2023-03-13T08:35:35.138Z"
      },
      {
        "duration": 16,
        "start_time": "2023-03-13T08:35:35.168Z"
      },
      {
        "duration": 9,
        "start_time": "2023-03-13T08:35:35.185Z"
      },
      {
        "duration": 13,
        "start_time": "2023-03-13T08:35:35.196Z"
      },
      {
        "duration": 10,
        "start_time": "2023-03-13T08:35:35.211Z"
      },
      {
        "duration": 288,
        "start_time": "2023-03-13T08:35:35.256Z"
      },
      {
        "duration": 2168,
        "start_time": "2023-03-13T08:35:35.546Z"
      },
      {
        "duration": 8,
        "start_time": "2023-03-13T08:35:37.716Z"
      },
      {
        "duration": 173,
        "start_time": "2023-03-13T08:35:37.726Z"
      },
      {
        "duration": 7,
        "start_time": "2023-03-13T08:35:37.901Z"
      },
      {
        "duration": 169,
        "start_time": "2023-03-13T08:35:37.909Z"
      },
      {
        "duration": 702,
        "start_time": "2023-03-13T08:35:38.079Z"
      },
      {
        "duration": 4,
        "start_time": "2023-03-13T08:35:38.784Z"
      },
      {
        "duration": 10,
        "start_time": "2023-03-13T08:35:38.790Z"
      },
      {
        "duration": 18,
        "start_time": "2023-03-13T08:35:38.801Z"
      },
      {
        "duration": 2402,
        "start_time": "2023-03-13T08:35:38.820Z"
      },
      {
        "duration": 8,
        "start_time": "2023-03-13T08:35:41.224Z"
      },
      {
        "duration": 2101,
        "start_time": "2023-03-13T08:35:41.233Z"
      },
      {
        "duration": 11,
        "start_time": "2023-03-13T08:35:43.336Z"
      },
      {
        "duration": 1634,
        "start_time": "2023-03-13T08:35:43.357Z"
      },
      {
        "duration": 4,
        "start_time": "2023-03-13T08:35:44.994Z"
      },
      {
        "duration": 29,
        "start_time": "2023-03-13T08:35:45.000Z"
      },
      {
        "duration": 170,
        "start_time": "2023-03-13T08:35:45.031Z"
      },
      {
        "duration": 3,
        "start_time": "2023-03-13T08:35:45.203Z"
      },
      {
        "duration": 13,
        "start_time": "2023-03-13T08:35:45.208Z"
      },
      {
        "duration": 25,
        "start_time": "2023-03-13T08:35:45.224Z"
      },
      {
        "duration": 12,
        "start_time": "2023-03-13T08:35:48.559Z"
      },
      {
        "duration": 12,
        "start_time": "2023-03-13T08:35:56.584Z"
      },
      {
        "duration": 3466,
        "start_time": "2023-03-13T08:36:06.304Z"
      },
      {
        "duration": 13,
        "start_time": "2023-03-13T08:38:03.681Z"
      },
      {
        "duration": 13,
        "start_time": "2023-03-13T08:38:13.089Z"
      },
      {
        "duration": 3444,
        "start_time": "2023-03-13T08:38:20.321Z"
      },
      {
        "duration": 4,
        "start_time": "2023-03-13T08:39:07.370Z"
      },
      {
        "duration": 3,
        "start_time": "2023-03-13T08:39:18.073Z"
      },
      {
        "duration": 2,
        "start_time": "2023-03-13T08:40:56.473Z"
      },
      {
        "duration": 3,
        "start_time": "2023-03-13T08:46:19.264Z"
      },
      {
        "duration": 3,
        "start_time": "2023-03-13T08:46:20.098Z"
      },
      {
        "duration": 4,
        "start_time": "2023-03-13T08:52:41.853Z"
      },
      {
        "duration": 677,
        "start_time": "2023-03-13T08:52:41.859Z"
      },
      {
        "duration": 29,
        "start_time": "2023-03-13T08:52:42.538Z"
      },
      {
        "duration": 23,
        "start_time": "2023-03-13T08:52:42.569Z"
      },
      {
        "duration": 12,
        "start_time": "2023-03-13T08:52:42.594Z"
      },
      {
        "duration": 17,
        "start_time": "2023-03-13T08:52:42.607Z"
      },
      {
        "duration": 35,
        "start_time": "2023-03-13T08:52:42.627Z"
      },
      {
        "duration": 4,
        "start_time": "2023-03-13T08:52:42.664Z"
      },
      {
        "duration": 11,
        "start_time": "2023-03-13T08:52:42.669Z"
      },
      {
        "duration": 6,
        "start_time": "2023-03-13T08:52:42.682Z"
      },
      {
        "duration": 10,
        "start_time": "2023-03-13T08:52:42.689Z"
      },
      {
        "duration": 10,
        "start_time": "2023-03-13T08:52:42.701Z"
      },
      {
        "duration": 9,
        "start_time": "2023-03-13T08:52:42.712Z"
      },
      {
        "duration": 8,
        "start_time": "2023-03-13T08:52:42.723Z"
      },
      {
        "duration": 5,
        "start_time": "2023-03-13T08:52:42.732Z"
      },
      {
        "duration": 5,
        "start_time": "2023-03-13T08:52:42.757Z"
      },
      {
        "duration": 7,
        "start_time": "2023-03-13T08:52:42.764Z"
      },
      {
        "duration": 8,
        "start_time": "2023-03-13T08:52:42.772Z"
      },
      {
        "duration": 29,
        "start_time": "2023-03-13T08:52:42.781Z"
      },
      {
        "duration": 7,
        "start_time": "2023-03-13T08:52:42.812Z"
      },
      {
        "duration": 16,
        "start_time": "2023-03-13T08:52:42.821Z"
      },
      {
        "duration": 20,
        "start_time": "2023-03-13T08:52:42.856Z"
      },
      {
        "duration": 9,
        "start_time": "2023-03-13T08:52:42.878Z"
      },
      {
        "duration": 15,
        "start_time": "2023-03-13T08:52:42.888Z"
      },
      {
        "duration": 9,
        "start_time": "2023-03-13T08:52:42.907Z"
      },
      {
        "duration": 241,
        "start_time": "2023-03-13T08:52:42.917Z"
      },
      {
        "duration": 1985,
        "start_time": "2023-03-13T08:52:43.159Z"
      },
      {
        "duration": 15,
        "start_time": "2023-03-13T08:52:45.145Z"
      },
      {
        "duration": 173,
        "start_time": "2023-03-13T08:52:45.161Z"
      },
      {
        "duration": 10,
        "start_time": "2023-03-13T08:52:45.335Z"
      },
      {
        "duration": 204,
        "start_time": "2023-03-13T08:52:45.346Z"
      },
      {
        "duration": 733,
        "start_time": "2023-03-13T08:52:45.553Z"
      },
      {
        "duration": 5,
        "start_time": "2023-03-13T08:52:46.287Z"
      },
      {
        "duration": 20,
        "start_time": "2023-03-13T08:52:46.293Z"
      },
      {
        "duration": 9,
        "start_time": "2023-03-13T08:52:46.315Z"
      },
      {
        "duration": 1470,
        "start_time": "2023-03-13T08:53:04.616Z"
      },
      {
        "duration": 661,
        "start_time": "2023-03-13T08:53:06.088Z"
      },
      {
        "duration": 26,
        "start_time": "2023-03-13T08:53:06.751Z"
      },
      {
        "duration": 48,
        "start_time": "2023-03-13T08:53:06.779Z"
      },
      {
        "duration": 26,
        "start_time": "2023-03-13T08:53:06.829Z"
      },
      {
        "duration": 30,
        "start_time": "2023-03-13T08:53:06.857Z"
      },
      {
        "duration": 13,
        "start_time": "2023-03-13T08:53:06.889Z"
      },
      {
        "duration": 8,
        "start_time": "2023-03-13T08:53:06.903Z"
      },
      {
        "duration": 32,
        "start_time": "2023-03-13T08:53:06.913Z"
      },
      {
        "duration": 18,
        "start_time": "2023-03-13T08:53:06.947Z"
      },
      {
        "duration": 25,
        "start_time": "2023-03-13T08:53:06.967Z"
      },
      {
        "duration": 11,
        "start_time": "2023-03-13T08:53:06.994Z"
      },
      {
        "duration": 26,
        "start_time": "2023-03-13T08:53:07.007Z"
      },
      {
        "duration": 16,
        "start_time": "2023-03-13T08:53:07.036Z"
      },
      {
        "duration": 23,
        "start_time": "2023-03-13T08:53:07.054Z"
      },
      {
        "duration": 14,
        "start_time": "2023-03-13T08:53:07.079Z"
      },
      {
        "duration": 17,
        "start_time": "2023-03-13T08:53:07.096Z"
      },
      {
        "duration": 29,
        "start_time": "2023-03-13T08:53:07.115Z"
      },
      {
        "duration": 22,
        "start_time": "2023-03-13T08:53:07.146Z"
      },
      {
        "duration": 14,
        "start_time": "2023-03-13T08:53:07.170Z"
      },
      {
        "duration": 16,
        "start_time": "2023-03-13T08:53:07.186Z"
      },
      {
        "duration": 22,
        "start_time": "2023-03-13T08:53:07.204Z"
      },
      {
        "duration": 8,
        "start_time": "2023-03-13T08:53:07.228Z"
      },
      {
        "duration": 34,
        "start_time": "2023-03-13T08:53:07.237Z"
      },
      {
        "duration": 16,
        "start_time": "2023-03-13T08:53:07.272Z"
      },
      {
        "duration": 234,
        "start_time": "2023-03-13T08:53:07.290Z"
      },
      {
        "duration": 2006,
        "start_time": "2023-03-13T08:53:07.526Z"
      },
      {
        "duration": 7,
        "start_time": "2023-03-13T08:53:09.534Z"
      },
      {
        "duration": 161,
        "start_time": "2023-03-13T08:53:09.543Z"
      },
      {
        "duration": 7,
        "start_time": "2023-03-13T08:53:09.706Z"
      },
      {
        "duration": 167,
        "start_time": "2023-03-13T08:53:09.715Z"
      },
      {
        "duration": 781,
        "start_time": "2023-03-13T08:53:09.883Z"
      },
      {
        "duration": 5,
        "start_time": "2023-03-13T08:53:10.666Z"
      },
      {
        "duration": 8,
        "start_time": "2023-03-13T08:53:10.672Z"
      },
      {
        "duration": 8,
        "start_time": "2023-03-13T08:53:10.681Z"
      },
      {
        "duration": 2390,
        "start_time": "2023-03-13T08:53:10.690Z"
      },
      {
        "duration": 8,
        "start_time": "2023-03-13T08:53:13.082Z"
      },
      {
        "duration": 2187,
        "start_time": "2023-03-13T08:53:13.091Z"
      },
      {
        "duration": 14,
        "start_time": "2023-03-13T08:53:15.280Z"
      },
      {
        "duration": 1521,
        "start_time": "2023-03-13T08:53:15.295Z"
      },
      {
        "duration": 4,
        "start_time": "2023-03-13T08:53:16.820Z"
      },
      {
        "duration": 13,
        "start_time": "2023-03-13T08:53:16.825Z"
      },
      {
        "duration": 157,
        "start_time": "2023-03-13T08:53:16.840Z"
      },
      {
        "duration": 2,
        "start_time": "2023-03-13T08:53:16.999Z"
      },
      {
        "duration": 10,
        "start_time": "2023-03-13T08:53:17.003Z"
      },
      {
        "duration": 3450,
        "start_time": "2023-03-13T08:53:17.015Z"
      },
      {
        "duration": 90,
        "start_time": "2023-03-13T08:53:20.467Z"
      },
      {
        "duration": 97,
        "start_time": "2023-03-13T08:53:20.560Z"
      },
      {
        "duration": 1448,
        "start_time": "2023-03-13T08:57:39.140Z"
      },
      {
        "duration": 667,
        "start_time": "2023-03-13T08:57:40.591Z"
      },
      {
        "duration": 27,
        "start_time": "2023-03-13T08:57:41.260Z"
      },
      {
        "duration": 22,
        "start_time": "2023-03-13T08:57:41.289Z"
      },
      {
        "duration": 14,
        "start_time": "2023-03-13T08:57:41.314Z"
      },
      {
        "duration": 19,
        "start_time": "2023-03-13T08:57:41.356Z"
      },
      {
        "duration": 13,
        "start_time": "2023-03-13T08:57:41.377Z"
      },
      {
        "duration": 4,
        "start_time": "2023-03-13T08:57:41.392Z"
      },
      {
        "duration": 9,
        "start_time": "2023-03-13T08:57:41.397Z"
      },
      {
        "duration": 6,
        "start_time": "2023-03-13T08:57:41.408Z"
      },
      {
        "duration": 14,
        "start_time": "2023-03-13T08:57:41.416Z"
      },
      {
        "duration": 31,
        "start_time": "2023-03-13T08:57:41.432Z"
      },
      {
        "duration": 6,
        "start_time": "2023-03-13T08:57:41.465Z"
      },
      {
        "duration": 5,
        "start_time": "2023-03-13T08:57:41.473Z"
      },
      {
        "duration": 7,
        "start_time": "2023-03-13T08:57:41.479Z"
      },
      {
        "duration": 8,
        "start_time": "2023-03-13T08:57:41.488Z"
      },
      {
        "duration": 10,
        "start_time": "2023-03-13T08:57:41.497Z"
      },
      {
        "duration": 11,
        "start_time": "2023-03-13T08:57:41.509Z"
      },
      {
        "duration": 36,
        "start_time": "2023-03-13T08:57:41.522Z"
      },
      {
        "duration": 6,
        "start_time": "2023-03-13T08:57:41.560Z"
      },
      {
        "duration": 14,
        "start_time": "2023-03-13T08:57:41.568Z"
      },
      {
        "duration": 19,
        "start_time": "2023-03-13T08:57:41.584Z"
      },
      {
        "duration": 10,
        "start_time": "2023-03-13T08:57:41.605Z"
      },
      {
        "duration": 47,
        "start_time": "2023-03-13T08:57:41.616Z"
      },
      {
        "duration": 9,
        "start_time": "2023-03-13T08:57:41.665Z"
      },
      {
        "duration": 224,
        "start_time": "2023-03-13T08:57:41.676Z"
      },
      {
        "duration": 1986,
        "start_time": "2023-03-13T08:57:41.902Z"
      },
      {
        "duration": 8,
        "start_time": "2023-03-13T08:57:43.890Z"
      },
      {
        "duration": 165,
        "start_time": "2023-03-13T08:57:43.900Z"
      },
      {
        "duration": 7,
        "start_time": "2023-03-13T08:57:44.067Z"
      },
      {
        "duration": 173,
        "start_time": "2023-03-13T08:57:44.076Z"
      },
      {
        "duration": 730,
        "start_time": "2023-03-13T08:57:44.250Z"
      },
      {
        "duration": 4,
        "start_time": "2023-03-13T08:57:44.982Z"
      },
      {
        "duration": 6,
        "start_time": "2023-03-13T08:57:44.988Z"
      },
      {
        "duration": 5,
        "start_time": "2023-03-13T08:57:44.996Z"
      },
      {
        "duration": 2369,
        "start_time": "2023-03-13T08:57:45.003Z"
      },
      {
        "duration": 8,
        "start_time": "2023-03-13T08:57:47.374Z"
      },
      {
        "duration": 2170,
        "start_time": "2023-03-13T08:57:47.383Z"
      },
      {
        "duration": 14,
        "start_time": "2023-03-13T08:57:49.556Z"
      },
      {
        "duration": 1471,
        "start_time": "2023-03-13T08:57:49.572Z"
      },
      {
        "duration": 4,
        "start_time": "2023-03-13T08:57:51.047Z"
      },
      {
        "duration": 6,
        "start_time": "2023-03-13T08:57:51.057Z"
      },
      {
        "duration": 159,
        "start_time": "2023-03-13T08:57:51.065Z"
      },
      {
        "duration": 2,
        "start_time": "2023-03-13T08:57:51.226Z"
      },
      {
        "duration": 12,
        "start_time": "2023-03-13T08:57:51.230Z"
      },
      {
        "duration": 3714,
        "start_time": "2023-03-13T08:57:51.244Z"
      },
      {
        "duration": 6,
        "start_time": "2023-03-13T08:57:54.961Z"
      },
      {
        "duration": 8,
        "start_time": "2023-03-13T08:57:55.058Z"
      },
      {
        "duration": 915234,
        "start_time": "2023-03-13T08:57:55.068Z"
      },
      {
        "duration": 5,
        "start_time": "2023-03-13T09:13:10.304Z"
      },
      {
        "duration": 9,
        "start_time": "2023-03-13T09:13:10.311Z"
      },
      {
        "duration": 1485,
        "start_time": "2023-03-13T09:13:37.747Z"
      },
      {
        "duration": 692,
        "start_time": "2023-03-13T09:13:39.234Z"
      },
      {
        "duration": 29,
        "start_time": "2023-03-13T09:13:39.928Z"
      },
      {
        "duration": 19,
        "start_time": "2023-03-13T09:13:39.959Z"
      },
      {
        "duration": 12,
        "start_time": "2023-03-13T09:13:39.979Z"
      },
      {
        "duration": 16,
        "start_time": "2023-03-13T09:13:39.993Z"
      },
      {
        "duration": 12,
        "start_time": "2023-03-13T09:13:40.011Z"
      },
      {
        "duration": 32,
        "start_time": "2023-03-13T09:13:40.025Z"
      },
      {
        "duration": 23,
        "start_time": "2023-03-13T09:13:40.059Z"
      },
      {
        "duration": 20,
        "start_time": "2023-03-13T09:13:40.084Z"
      },
      {
        "duration": 23,
        "start_time": "2023-03-13T09:13:40.106Z"
      },
      {
        "duration": 21,
        "start_time": "2023-03-13T09:13:40.130Z"
      },
      {
        "duration": 9,
        "start_time": "2023-03-13T09:13:40.153Z"
      },
      {
        "duration": 9,
        "start_time": "2023-03-13T09:13:40.164Z"
      },
      {
        "duration": 13,
        "start_time": "2023-03-13T09:13:40.174Z"
      },
      {
        "duration": 12,
        "start_time": "2023-03-13T09:13:40.188Z"
      },
      {
        "duration": 11,
        "start_time": "2023-03-13T09:13:40.201Z"
      },
      {
        "duration": 11,
        "start_time": "2023-03-13T09:13:40.214Z"
      },
      {
        "duration": 23,
        "start_time": "2023-03-13T09:13:40.226Z"
      },
      {
        "duration": 6,
        "start_time": "2023-03-13T09:13:40.251Z"
      },
      {
        "duration": 18,
        "start_time": "2023-03-13T09:13:40.259Z"
      },
      {
        "duration": 19,
        "start_time": "2023-03-13T09:13:40.279Z"
      },
      {
        "duration": 12,
        "start_time": "2023-03-13T09:13:40.300Z"
      },
      {
        "duration": 17,
        "start_time": "2023-03-13T09:13:40.314Z"
      },
      {
        "duration": 8,
        "start_time": "2023-03-13T09:13:40.333Z"
      },
      {
        "duration": 222,
        "start_time": "2023-03-13T09:13:40.342Z"
      },
      {
        "duration": 1994,
        "start_time": "2023-03-13T09:13:40.566Z"
      },
      {
        "duration": 9,
        "start_time": "2023-03-13T09:13:42.564Z"
      },
      {
        "duration": 200,
        "start_time": "2023-03-13T09:13:42.575Z"
      },
      {
        "duration": 9,
        "start_time": "2023-03-13T09:13:42.776Z"
      },
      {
        "duration": 190,
        "start_time": "2023-03-13T09:13:42.787Z"
      },
      {
        "duration": 801,
        "start_time": "2023-03-13T09:13:42.979Z"
      },
      {
        "duration": 5,
        "start_time": "2023-03-13T09:13:43.782Z"
      },
      {
        "duration": 8,
        "start_time": "2023-03-13T09:13:43.789Z"
      },
      {
        "duration": 7,
        "start_time": "2023-03-13T09:13:43.798Z"
      },
      {
        "duration": 2654,
        "start_time": "2023-03-13T09:13:43.806Z"
      },
      {
        "duration": 8,
        "start_time": "2023-03-13T09:13:46.462Z"
      },
      {
        "duration": 2084,
        "start_time": "2023-03-13T09:13:46.471Z"
      },
      {
        "duration": 14,
        "start_time": "2023-03-13T09:13:48.557Z"
      },
      {
        "duration": 1490,
        "start_time": "2023-03-13T09:13:48.573Z"
      },
      {
        "duration": 5,
        "start_time": "2023-03-13T09:13:50.065Z"
      },
      {
        "duration": 13,
        "start_time": "2023-03-13T09:13:50.071Z"
      },
      {
        "duration": 159,
        "start_time": "2023-03-13T09:13:50.086Z"
      },
      {
        "duration": 2,
        "start_time": "2023-03-13T09:13:50.247Z"
      },
      {
        "duration": 18,
        "start_time": "2023-03-13T09:13:50.251Z"
      },
      {
        "duration": 3695,
        "start_time": "2023-03-13T09:13:50.271Z"
      },
      {
        "duration": 90,
        "start_time": "2023-03-13T09:13:53.968Z"
      },
      {
        "duration": 123,
        "start_time": "2023-03-13T09:13:54.060Z"
      },
      {
        "duration": 1659,
        "start_time": "2023-03-13T19:05:49.927Z"
      },
      {
        "duration": 2661,
        "start_time": "2023-03-13T19:05:51.588Z"
      },
      {
        "duration": 28,
        "start_time": "2023-03-13T19:05:54.251Z"
      },
      {
        "duration": 20,
        "start_time": "2023-03-13T19:05:54.281Z"
      },
      {
        "duration": 13,
        "start_time": "2023-03-13T19:05:54.303Z"
      },
      {
        "duration": 18,
        "start_time": "2023-03-13T19:05:54.318Z"
      },
      {
        "duration": 14,
        "start_time": "2023-03-13T19:05:54.337Z"
      },
      {
        "duration": 4,
        "start_time": "2023-03-13T19:05:54.352Z"
      },
      {
        "duration": 34,
        "start_time": "2023-03-13T19:05:54.357Z"
      },
      {
        "duration": 6,
        "start_time": "2023-03-13T19:05:54.393Z"
      },
      {
        "duration": 10,
        "start_time": "2023-03-13T19:05:54.400Z"
      },
      {
        "duration": 11,
        "start_time": "2023-03-13T19:05:54.412Z"
      },
      {
        "duration": 11,
        "start_time": "2023-03-13T19:05:54.425Z"
      },
      {
        "duration": 10,
        "start_time": "2023-03-13T19:05:54.440Z"
      },
      {
        "duration": 19,
        "start_time": "2023-03-13T19:05:54.453Z"
      },
      {
        "duration": 4,
        "start_time": "2023-03-13T19:05:54.489Z"
      },
      {
        "duration": 7,
        "start_time": "2023-03-13T19:05:54.495Z"
      },
      {
        "duration": 13,
        "start_time": "2023-03-13T19:05:54.504Z"
      },
      {
        "duration": 20,
        "start_time": "2023-03-13T19:05:54.519Z"
      },
      {
        "duration": 8,
        "start_time": "2023-03-13T19:05:54.541Z"
      },
      {
        "duration": 9,
        "start_time": "2023-03-13T19:05:54.551Z"
      },
      {
        "duration": 52,
        "start_time": "2023-03-13T19:05:54.562Z"
      },
      {
        "duration": 11,
        "start_time": "2023-03-13T19:05:54.616Z"
      },
      {
        "duration": 18,
        "start_time": "2023-03-13T19:05:54.629Z"
      },
      {
        "duration": 9,
        "start_time": "2023-03-13T19:05:54.649Z"
      },
      {
        "duration": 249,
        "start_time": "2023-03-13T19:05:54.660Z"
      },
      {
        "duration": 2111,
        "start_time": "2023-03-13T19:05:54.911Z"
      },
      {
        "duration": 11,
        "start_time": "2023-03-13T19:05:57.024Z"
      },
      {
        "duration": 162,
        "start_time": "2023-03-13T19:05:57.036Z"
      },
      {
        "duration": 7,
        "start_time": "2023-03-13T19:05:57.200Z"
      },
      {
        "duration": 177,
        "start_time": "2023-03-13T19:05:57.208Z"
      },
      {
        "duration": 843,
        "start_time": "2023-03-13T19:05:57.390Z"
      },
      {
        "duration": 5,
        "start_time": "2023-03-13T19:05:58.235Z"
      },
      {
        "duration": 7,
        "start_time": "2023-03-13T19:05:58.242Z"
      },
      {
        "duration": 6,
        "start_time": "2023-03-13T19:05:58.250Z"
      },
      {
        "duration": 2461,
        "start_time": "2023-03-13T19:05:58.257Z"
      },
      {
        "duration": 8,
        "start_time": "2023-03-13T19:06:00.720Z"
      },
      {
        "duration": 2275,
        "start_time": "2023-03-13T19:06:00.730Z"
      },
      {
        "duration": 14,
        "start_time": "2023-03-13T19:06:03.007Z"
      },
      {
        "duration": 1676,
        "start_time": "2023-03-13T19:06:03.023Z"
      },
      {
        "duration": 5,
        "start_time": "2023-03-13T19:06:04.703Z"
      },
      {
        "duration": 12,
        "start_time": "2023-03-13T19:06:04.709Z"
      },
      {
        "duration": 3973,
        "start_time": "2023-03-13T19:06:04.723Z"
      },
      {
        "duration": 4,
        "start_time": "2023-03-13T19:06:08.697Z"
      },
      {
        "duration": 109,
        "start_time": "2023-03-13T19:06:08.702Z"
      },
      {
        "duration": 0,
        "start_time": "2023-03-13T19:09:31.740Z"
      },
      {
        "duration": 819236,
        "start_time": "2023-03-13T19:10:33.686Z"
      },
      {
        "duration": 4,
        "start_time": "2023-03-13T19:29:56.619Z"
      },
      {
        "duration": 4,
        "start_time": "2023-03-13T19:30:10.684Z"
      },
      {
        "duration": 2,
        "start_time": "2023-03-13T19:30:12.382Z"
      },
      {
        "duration": 30949,
        "start_time": "2023-03-13T19:30:14.883Z"
      },
      {
        "duration": 5,
        "start_time": "2023-03-13T19:31:33.689Z"
      },
      {
        "duration": 5,
        "start_time": "2023-03-13T19:31:38.703Z"
      },
      {
        "duration": 5,
        "start_time": "2023-03-13T19:31:49.329Z"
      },
      {
        "duration": 5,
        "start_time": "2023-03-13T19:32:58.982Z"
      },
      {
        "duration": 7,
        "start_time": "2023-03-13T19:33:04.529Z"
      },
      {
        "duration": 29870,
        "start_time": "2023-03-13T19:33:19.923Z"
      },
      {
        "duration": 6,
        "start_time": "2023-03-13T19:33:53.224Z"
      },
      {
        "duration": 861,
        "start_time": "2023-03-13T19:40:39.407Z"
      },
      {
        "duration": 870,
        "start_time": "2023-03-13T19:41:09.509Z"
      },
      {
        "duration": 70,
        "start_time": "2023-03-13T19:45:24.643Z"
      },
      {
        "duration": 29999,
        "start_time": "2023-03-13T19:45:35.428Z"
      },
      {
        "duration": 6737,
        "start_time": "2023-03-13T19:57:52.294Z"
      },
      {
        "duration": 17,
        "start_time": "2023-03-13T19:58:18.021Z"
      },
      {
        "duration": 55,
        "start_time": "2023-03-13T19:59:43.100Z"
      },
      {
        "duration": 13,
        "start_time": "2023-03-13T20:01:58.957Z"
      },
      {
        "duration": 304,
        "start_time": "2023-03-13T20:07:32.702Z"
      },
      {
        "duration": 25,
        "start_time": "2023-03-13T20:07:46.247Z"
      },
      {
        "duration": 13,
        "start_time": "2023-03-13T20:19:14.136Z"
      },
      {
        "duration": 313,
        "start_time": "2023-03-13T20:19:23.089Z"
      },
      {
        "duration": 20,
        "start_time": "2023-03-13T20:19:23.848Z"
      },
      {
        "duration": 6,
        "start_time": "2023-03-13T20:19:27.102Z"
      },
      {
        "duration": 27082,
        "start_time": "2023-03-13T20:19:30.679Z"
      },
      {
        "duration": 1645,
        "start_time": "2023-03-15T17:51:50.730Z"
      },
      {
        "duration": 2032,
        "start_time": "2023-03-15T17:51:52.378Z"
      },
      {
        "duration": 29,
        "start_time": "2023-03-15T17:51:54.412Z"
      },
      {
        "duration": 21,
        "start_time": "2023-03-15T17:51:54.444Z"
      },
      {
        "duration": 12,
        "start_time": "2023-03-15T17:51:54.467Z"
      },
      {
        "duration": 45,
        "start_time": "2023-03-15T17:51:54.481Z"
      },
      {
        "duration": 13,
        "start_time": "2023-03-15T17:51:54.528Z"
      },
      {
        "duration": 3,
        "start_time": "2023-03-15T17:51:54.543Z"
      },
      {
        "duration": 12,
        "start_time": "2023-03-15T17:51:54.548Z"
      },
      {
        "duration": 3,
        "start_time": "2023-03-15T17:51:54.561Z"
      },
      {
        "duration": 9,
        "start_time": "2023-03-15T17:51:54.565Z"
      },
      {
        "duration": 14,
        "start_time": "2023-03-15T17:51:54.575Z"
      },
      {
        "duration": 5,
        "start_time": "2023-03-15T17:51:54.590Z"
      },
      {
        "duration": 30,
        "start_time": "2023-03-15T17:51:54.598Z"
      },
      {
        "duration": 6,
        "start_time": "2023-03-15T17:51:54.630Z"
      },
      {
        "duration": 12,
        "start_time": "2023-03-15T17:51:54.638Z"
      },
      {
        "duration": 5,
        "start_time": "2023-03-15T17:51:54.652Z"
      },
      {
        "duration": 7,
        "start_time": "2023-03-15T17:51:54.659Z"
      },
      {
        "duration": 45,
        "start_time": "2023-03-15T17:51:54.668Z"
      },
      {
        "duration": 6,
        "start_time": "2023-03-15T17:51:54.715Z"
      },
      {
        "duration": 14,
        "start_time": "2023-03-15T17:51:54.724Z"
      },
      {
        "duration": 19,
        "start_time": "2023-03-15T17:51:54.740Z"
      },
      {
        "duration": 8,
        "start_time": "2023-03-15T17:51:54.761Z"
      },
      {
        "duration": 18,
        "start_time": "2023-03-15T17:51:54.771Z"
      },
      {
        "duration": 35,
        "start_time": "2023-03-15T17:51:54.790Z"
      },
      {
        "duration": 215,
        "start_time": "2023-03-15T17:51:54.826Z"
      },
      {
        "duration": 1937,
        "start_time": "2023-03-15T17:51:55.043Z"
      },
      {
        "duration": 8,
        "start_time": "2023-03-15T17:51:56.982Z"
      },
      {
        "duration": 154,
        "start_time": "2023-03-15T17:51:56.991Z"
      },
      {
        "duration": 9,
        "start_time": "2023-03-15T17:51:57.147Z"
      },
      {
        "duration": 159,
        "start_time": "2023-03-15T17:51:57.157Z"
      },
      {
        "duration": 700,
        "start_time": "2023-03-15T17:51:57.318Z"
      },
      {
        "duration": 5,
        "start_time": "2023-03-15T17:51:58.023Z"
      },
      {
        "duration": 6,
        "start_time": "2023-03-15T17:51:58.029Z"
      },
      {
        "duration": 4,
        "start_time": "2023-03-15T17:51:58.036Z"
      },
      {
        "duration": 2264,
        "start_time": "2023-03-15T17:51:58.042Z"
      },
      {
        "duration": 15,
        "start_time": "2023-03-15T17:52:00.308Z"
      },
      {
        "duration": 2141,
        "start_time": "2023-03-15T17:52:00.325Z"
      },
      {
        "duration": 14,
        "start_time": "2023-03-15T17:52:02.469Z"
      },
      {
        "duration": 1496,
        "start_time": "2023-03-15T17:52:02.484Z"
      },
      {
        "duration": 4,
        "start_time": "2023-03-15T17:52:03.984Z"
      },
      {
        "duration": 3,
        "start_time": "2023-03-15T17:52:29.651Z"
      },
      {
        "duration": 4,
        "start_time": "2023-03-15T17:52:31.183Z"
      },
      {
        "duration": 110,
        "start_time": "2023-03-15T17:54:03.739Z"
      },
      {
        "duration": 4,
        "start_time": "2023-03-15T17:54:37.909Z"
      },
      {
        "duration": 4,
        "start_time": "2023-03-15T17:54:41.431Z"
      },
      {
        "duration": 9,
        "start_time": "2023-03-15T17:56:04.043Z"
      },
      {
        "duration": 5,
        "start_time": "2023-03-15T17:56:11.024Z"
      },
      {
        "duration": 5,
        "start_time": "2023-03-15T17:56:31.446Z"
      },
      {
        "duration": 6,
        "start_time": "2023-03-15T17:56:45.760Z"
      },
      {
        "duration": 20,
        "start_time": "2023-03-15T17:57:01.263Z"
      },
      {
        "duration": 33,
        "start_time": "2023-03-15T17:58:20.391Z"
      },
      {
        "duration": 20,
        "start_time": "2023-03-15T17:58:37.157Z"
      },
      {
        "duration": 23,
        "start_time": "2023-03-15T17:58:47.940Z"
      },
      {
        "duration": 10,
        "start_time": "2023-03-15T17:59:45.573Z"
      },
      {
        "duration": 10,
        "start_time": "2023-03-15T17:59:50.365Z"
      },
      {
        "duration": 1751,
        "start_time": "2023-03-15T17:59:51.104Z"
      },
      {
        "duration": 7,
        "start_time": "2023-03-15T18:00:03.329Z"
      },
      {
        "duration": 26,
        "start_time": "2023-03-15T18:00:20.791Z"
      },
      {
        "duration": 11,
        "start_time": "2023-03-15T18:00:45.720Z"
      },
      {
        "duration": 8,
        "start_time": "2023-03-15T18:00:48.417Z"
      },
      {
        "duration": 5,
        "start_time": "2023-03-15T18:00:49.990Z"
      },
      {
        "duration": 34,
        "start_time": "2023-03-15T18:01:02.248Z"
      },
      {
        "duration": 10,
        "start_time": "2023-03-15T18:01:21.811Z"
      },
      {
        "duration": 8,
        "start_time": "2023-03-15T18:01:25.112Z"
      },
      {
        "duration": 7,
        "start_time": "2023-03-15T18:01:25.877Z"
      },
      {
        "duration": 299,
        "start_time": "2023-03-15T18:08:56.225Z"
      },
      {
        "duration": 289,
        "start_time": "2023-03-15T18:11:12.353Z"
      },
      {
        "duration": 324,
        "start_time": "2023-03-15T18:12:15.062Z"
      },
      {
        "duration": 1445,
        "start_time": "2023-03-16T07:45:43.324Z"
      },
      {
        "duration": 3,
        "start_time": "2023-03-16T07:45:47.561Z"
      },
      {
        "duration": 3,
        "start_time": "2023-03-16T07:45:51.820Z"
      },
      {
        "duration": 4,
        "start_time": "2023-03-16T07:46:58.076Z"
      },
      {
        "duration": 3210,
        "start_time": "2023-03-16T07:47:00.725Z"
      },
      {
        "duration": 24,
        "start_time": "2023-03-16T07:47:03.937Z"
      },
      {
        "duration": 18,
        "start_time": "2023-03-16T07:47:06.276Z"
      },
      {
        "duration": 4,
        "start_time": "2023-03-16T07:47:23.275Z"
      },
      {
        "duration": 619,
        "start_time": "2023-03-16T07:47:23.281Z"
      },
      {
        "duration": 17,
        "start_time": "2023-03-16T07:47:23.901Z"
      },
      {
        "duration": 29,
        "start_time": "2023-03-16T07:47:23.920Z"
      },
      {
        "duration": 13,
        "start_time": "2023-03-16T07:47:23.952Z"
      },
      {
        "duration": 34,
        "start_time": "2023-03-16T07:47:23.980Z"
      },
      {
        "duration": 14,
        "start_time": "2023-03-16T07:47:24.016Z"
      },
      {
        "duration": 4,
        "start_time": "2023-03-16T07:47:24.032Z"
      },
      {
        "duration": 34,
        "start_time": "2023-03-16T07:47:24.037Z"
      },
      {
        "duration": 16,
        "start_time": "2023-03-16T07:47:24.072Z"
      },
      {
        "duration": 46,
        "start_time": "2023-03-16T07:47:24.089Z"
      },
      {
        "duration": 39,
        "start_time": "2023-03-16T07:47:24.136Z"
      },
      {
        "duration": 13,
        "start_time": "2023-03-16T07:47:24.177Z"
      },
      {
        "duration": 11,
        "start_time": "2023-03-16T07:47:24.193Z"
      },
      {
        "duration": 23,
        "start_time": "2023-03-16T07:47:24.206Z"
      },
      {
        "duration": 22,
        "start_time": "2023-03-16T07:47:24.230Z"
      },
      {
        "duration": 16,
        "start_time": "2023-03-16T07:47:24.253Z"
      },
      {
        "duration": 20,
        "start_time": "2023-03-16T07:47:24.271Z"
      },
      {
        "duration": 25,
        "start_time": "2023-03-16T07:47:24.293Z"
      },
      {
        "duration": 15,
        "start_time": "2023-03-16T07:47:24.320Z"
      },
      {
        "duration": 21,
        "start_time": "2023-03-16T07:47:24.336Z"
      },
      {
        "duration": 20,
        "start_time": "2023-03-16T07:47:24.359Z"
      },
      {
        "duration": 11,
        "start_time": "2023-03-16T07:47:24.381Z"
      },
      {
        "duration": 15,
        "start_time": "2023-03-16T07:47:24.394Z"
      },
      {
        "duration": 26,
        "start_time": "2023-03-16T07:47:24.411Z"
      },
      {
        "duration": 250,
        "start_time": "2023-03-16T07:47:24.438Z"
      },
      {
        "duration": 2036,
        "start_time": "2023-03-16T07:47:24.690Z"
      },
      {
        "duration": 8,
        "start_time": "2023-03-16T07:47:26.729Z"
      },
      {
        "duration": 215,
        "start_time": "2023-03-16T07:47:26.739Z"
      },
      {
        "duration": 9,
        "start_time": "2023-03-16T07:47:26.956Z"
      },
      {
        "duration": 165,
        "start_time": "2023-03-16T07:47:26.966Z"
      },
      {
        "duration": 785,
        "start_time": "2023-03-16T07:47:27.132Z"
      },
      {
        "duration": 5,
        "start_time": "2023-03-16T07:47:27.919Z"
      },
      {
        "duration": 6,
        "start_time": "2023-03-16T07:47:27.926Z"
      },
      {
        "duration": 7,
        "start_time": "2023-03-16T07:47:27.934Z"
      },
      {
        "duration": 2081,
        "start_time": "2023-03-16T07:47:27.942Z"
      },
      {
        "duration": 7,
        "start_time": "2023-03-16T07:47:30.025Z"
      },
      {
        "duration": 2491,
        "start_time": "2023-03-16T07:47:30.034Z"
      },
      {
        "duration": 14,
        "start_time": "2023-03-16T07:47:32.526Z"
      },
      {
        "duration": 1508,
        "start_time": "2023-03-16T07:47:32.542Z"
      },
      {
        "duration": 6,
        "start_time": "2023-03-16T07:47:34.055Z"
      },
      {
        "duration": 37,
        "start_time": "2023-03-16T07:47:34.064Z"
      },
      {
        "duration": 6,
        "start_time": "2023-03-16T07:48:00.441Z"
      },
      {
        "duration": 276,
        "start_time": "2023-03-16T07:48:06.597Z"
      },
      {
        "duration": 449,
        "start_time": "2023-03-16T07:51:13.481Z"
      },
      {
        "duration": 187,
        "start_time": "2023-03-16T07:52:54.495Z"
      },
      {
        "duration": 1601,
        "start_time": "2023-03-16T07:57:26.449Z"
      },
      {
        "duration": 263,
        "start_time": "2023-03-16T07:58:00.610Z"
      },
      {
        "duration": 276,
        "start_time": "2023-03-16T07:58:14.146Z"
      },
      {
        "duration": 1389,
        "start_time": "2023-03-16T07:58:44.526Z"
      },
      {
        "duration": 627,
        "start_time": "2023-03-16T07:58:45.917Z"
      },
      {
        "duration": 37,
        "start_time": "2023-03-16T07:58:46.546Z"
      },
      {
        "duration": 18,
        "start_time": "2023-03-16T07:58:46.584Z"
      },
      {
        "duration": 12,
        "start_time": "2023-03-16T07:58:46.605Z"
      },
      {
        "duration": 18,
        "start_time": "2023-03-16T07:58:46.618Z"
      },
      {
        "duration": 13,
        "start_time": "2023-03-16T07:58:46.637Z"
      },
      {
        "duration": 30,
        "start_time": "2023-03-16T07:58:46.651Z"
      },
      {
        "duration": 6,
        "start_time": "2023-03-16T07:58:46.683Z"
      },
      {
        "duration": 5,
        "start_time": "2023-03-16T07:58:46.691Z"
      },
      {
        "duration": 10,
        "start_time": "2023-03-16T07:58:46.697Z"
      },
      {
        "duration": 7,
        "start_time": "2023-03-16T07:58:46.709Z"
      },
      {
        "duration": 8,
        "start_time": "2023-03-16T07:58:46.718Z"
      },
      {
        "duration": 5,
        "start_time": "2023-03-16T07:58:46.730Z"
      },
      {
        "duration": 9,
        "start_time": "2023-03-16T07:58:46.737Z"
      },
      {
        "duration": 40,
        "start_time": "2023-03-16T07:58:46.747Z"
      },
      {
        "duration": 8,
        "start_time": "2023-03-16T07:58:46.788Z"
      },
      {
        "duration": 15,
        "start_time": "2023-03-16T07:58:46.798Z"
      },
      {
        "duration": 15,
        "start_time": "2023-03-16T07:58:46.814Z"
      },
      {
        "duration": 10,
        "start_time": "2023-03-16T07:58:46.831Z"
      },
      {
        "duration": 12,
        "start_time": "2023-03-16T07:58:46.843Z"
      },
      {
        "duration": 38,
        "start_time": "2023-03-16T07:58:46.856Z"
      },
      {
        "duration": 8,
        "start_time": "2023-03-16T07:58:46.896Z"
      },
      {
        "duration": 15,
        "start_time": "2023-03-16T07:58:46.905Z"
      },
      {
        "duration": 11,
        "start_time": "2023-03-16T07:58:46.922Z"
      },
      {
        "duration": 258,
        "start_time": "2023-03-16T07:58:46.935Z"
      },
      {
        "duration": 1779,
        "start_time": "2023-03-16T07:58:47.195Z"
      },
      {
        "duration": 8,
        "start_time": "2023-03-16T07:58:48.976Z"
      },
      {
        "duration": 155,
        "start_time": "2023-03-16T07:58:48.985Z"
      },
      {
        "duration": 10,
        "start_time": "2023-03-16T07:58:49.142Z"
      },
      {
        "duration": 172,
        "start_time": "2023-03-16T07:58:49.153Z"
      },
      {
        "duration": 594,
        "start_time": "2023-03-16T07:58:49.327Z"
      },
      {
        "duration": 4,
        "start_time": "2023-03-16T07:58:49.922Z"
      },
      {
        "duration": 6,
        "start_time": "2023-03-16T07:58:49.927Z"
      },
      {
        "duration": 6,
        "start_time": "2023-03-16T07:58:49.934Z"
      },
      {
        "duration": 2011,
        "start_time": "2023-03-16T07:58:49.942Z"
      },
      {
        "duration": 8,
        "start_time": "2023-03-16T07:58:51.954Z"
      },
      {
        "duration": 1857,
        "start_time": "2023-03-16T07:58:51.964Z"
      },
      {
        "duration": 17,
        "start_time": "2023-03-16T07:58:53.823Z"
      },
      {
        "duration": 1180,
        "start_time": "2023-03-16T07:58:53.842Z"
      },
      {
        "duration": 4,
        "start_time": "2023-03-16T07:58:55.025Z"
      },
      {
        "duration": 11,
        "start_time": "2023-03-16T07:58:55.030Z"
      },
      {
        "duration": 6,
        "start_time": "2023-03-16T07:58:57.331Z"
      },
      {
        "duration": 1486,
        "start_time": "2023-03-16T07:58:57.966Z"
      },
      {
        "duration": 303,
        "start_time": "2023-03-16T08:00:36.477Z"
      },
      {
        "duration": 9,
        "start_time": "2023-03-16T08:00:53.025Z"
      },
      {
        "duration": 12,
        "start_time": "2023-03-16T08:01:02.226Z"
      },
      {
        "duration": 4,
        "start_time": "2023-03-16T08:01:10.638Z"
      },
      {
        "duration": 7,
        "start_time": "2023-03-16T08:03:13.739Z"
      },
      {
        "duration": 260,
        "start_time": "2023-03-16T08:03:14.575Z"
      },
      {
        "duration": 1866,
        "start_time": "2023-03-16T08:03:25.731Z"
      },
      {
        "duration": 4,
        "start_time": "2023-03-16T08:03:45.206Z"
      },
      {
        "duration": 6,
        "start_time": "2023-03-16T08:08:42.402Z"
      },
      {
        "duration": 279,
        "start_time": "2023-03-16T08:08:43.192Z"
      },
      {
        "duration": 9,
        "start_time": "2023-03-16T08:08:48.522Z"
      },
      {
        "duration": 3688,
        "start_time": "2023-03-16T08:08:58.506Z"
      },
      {
        "duration": 4,
        "start_time": "2023-03-16T08:09:04.514Z"
      },
      {
        "duration": 7,
        "start_time": "2023-03-16T08:19:50.807Z"
      },
      {
        "duration": 6,
        "start_time": "2023-03-16T08:20:38.016Z"
      },
      {
        "duration": 291,
        "start_time": "2023-03-16T08:20:38.337Z"
      },
      {
        "duration": 3,
        "start_time": "2023-03-16T08:27:47.907Z"
      },
      {
        "duration": 8,
        "start_time": "2023-03-16T08:27:54.480Z"
      },
      {
        "duration": 266,
        "start_time": "2023-03-16T08:27:54.846Z"
      },
      {
        "duration": 307,
        "start_time": "2023-03-16T08:28:24.687Z"
      },
      {
        "duration": 19,
        "start_time": "2023-03-16T08:28:40.775Z"
      },
      {
        "duration": 1136,
        "start_time": "2023-03-16T08:29:29.348Z"
      },
      {
        "duration": 5,
        "start_time": "2023-03-16T08:29:37.404Z"
      },
      {
        "duration": 1468,
        "start_time": "2023-03-16T08:29:51.214Z"
      },
      {
        "duration": 4,
        "start_time": "2023-03-16T08:29:53.438Z"
      },
      {
        "duration": 1171,
        "start_time": "2023-03-16T08:30:07.611Z"
      },
      {
        "duration": 4,
        "start_time": "2023-03-16T08:30:09.524Z"
      },
      {
        "duration": 1194,
        "start_time": "2023-03-16T08:30:31.999Z"
      },
      {
        "duration": 6,
        "start_time": "2023-03-16T08:30:33.281Z"
      },
      {
        "duration": 2473,
        "start_time": "2023-03-16T08:32:49.726Z"
      },
      {
        "duration": 82,
        "start_time": "2023-03-16T08:32:52.203Z"
      },
      {
        "duration": 3362,
        "start_time": "2023-03-16T08:35:29.537Z"
      },
      {
        "duration": 4,
        "start_time": "2023-03-16T08:35:36.575Z"
      },
      {
        "duration": 86,
        "start_time": "2023-03-16T08:39:15.099Z"
      },
      {
        "duration": 5896,
        "start_time": "2023-03-16T08:39:22.195Z"
      },
      {
        "duration": 3757,
        "start_time": "2023-03-16T08:39:50.636Z"
      },
      {
        "duration": 6,
        "start_time": "2023-03-16T08:40:06.548Z"
      },
      {
        "duration": 4,
        "start_time": "2023-03-16T08:40:27.499Z"
      },
      {
        "duration": 3647,
        "start_time": "2023-03-16T08:40:38.947Z"
      },
      {
        "duration": 3450,
        "start_time": "2023-03-16T08:41:47.535Z"
      },
      {
        "duration": 3968,
        "start_time": "2023-03-16T08:42:03.735Z"
      },
      {
        "duration": 4659,
        "start_time": "2023-03-16T08:42:17.223Z"
      },
      {
        "duration": 3447,
        "start_time": "2023-03-16T08:42:28.151Z"
      },
      {
        "duration": 4,
        "start_time": "2023-03-16T08:42:31.600Z"
      },
      {
        "duration": 3894,
        "start_time": "2023-03-16T08:42:40.295Z"
      },
      {
        "duration": 4368,
        "start_time": "2023-03-16T08:42:58.822Z"
      },
      {
        "duration": 4020,
        "start_time": "2023-03-16T08:44:15.796Z"
      },
      {
        "duration": 3,
        "start_time": "2023-03-16T08:45:22.709Z"
      },
      {
        "duration": 3,
        "start_time": "2023-03-16T08:48:36.035Z"
      },
      {
        "duration": 19,
        "start_time": "2023-03-16T08:48:46.375Z"
      },
      {
        "duration": 3,
        "start_time": "2023-03-16T08:48:51.499Z"
      },
      {
        "duration": 10,
        "start_time": "2023-03-16T08:48:51.994Z"
      },
      {
        "duration": 10,
        "start_time": "2023-03-16T08:49:15.599Z"
      },
      {
        "duration": 3,
        "start_time": "2023-03-16T08:49:17.597Z"
      },
      {
        "duration": 8,
        "start_time": "2023-03-16T08:49:17.946Z"
      },
      {
        "duration": 4,
        "start_time": "2023-03-16T08:49:39.311Z"
      },
      {
        "duration": 10,
        "start_time": "2023-03-16T08:49:47.279Z"
      },
      {
        "duration": 17,
        "start_time": "2023-03-16T08:49:47.780Z"
      },
      {
        "duration": 14,
        "start_time": "2023-03-16T08:50:54.483Z"
      },
      {
        "duration": 15,
        "start_time": "2023-03-16T08:50:55.094Z"
      },
      {
        "duration": 1562,
        "start_time": "2023-03-16T08:51:13.680Z"
      },
      {
        "duration": 779,
        "start_time": "2023-03-16T08:51:15.246Z"
      },
      {
        "duration": 76,
        "start_time": "2023-03-16T08:51:16.027Z"
      },
      {
        "duration": 24,
        "start_time": "2023-03-16T08:51:16.104Z"
      },
      {
        "duration": 16,
        "start_time": "2023-03-16T08:51:16.131Z"
      },
      {
        "duration": 53,
        "start_time": "2023-03-16T08:51:16.149Z"
      },
      {
        "duration": 15,
        "start_time": "2023-03-16T08:51:16.204Z"
      },
      {
        "duration": 9,
        "start_time": "2023-03-16T08:51:16.222Z"
      },
      {
        "duration": 10,
        "start_time": "2023-03-16T08:51:16.233Z"
      },
      {
        "duration": 17,
        "start_time": "2023-03-16T08:51:16.244Z"
      },
      {
        "duration": 15,
        "start_time": "2023-03-16T08:51:16.263Z"
      },
      {
        "duration": 39,
        "start_time": "2023-03-16T08:51:16.279Z"
      },
      {
        "duration": 21,
        "start_time": "2023-03-16T08:51:16.321Z"
      },
      {
        "duration": 16,
        "start_time": "2023-03-16T08:51:16.346Z"
      },
      {
        "duration": 5,
        "start_time": "2023-03-16T08:51:16.363Z"
      },
      {
        "duration": 49,
        "start_time": "2023-03-16T08:51:16.370Z"
      },
      {
        "duration": 11,
        "start_time": "2023-03-16T08:51:16.421Z"
      },
      {
        "duration": 76,
        "start_time": "2023-03-16T08:51:16.434Z"
      },
      {
        "duration": 30,
        "start_time": "2023-03-16T08:51:16.512Z"
      },
      {
        "duration": 14,
        "start_time": "2023-03-16T08:51:16.543Z"
      },
      {
        "duration": 15,
        "start_time": "2023-03-16T08:51:16.559Z"
      },
      {
        "duration": 55,
        "start_time": "2023-03-16T08:51:16.576Z"
      },
      {
        "duration": 17,
        "start_time": "2023-03-16T08:51:16.633Z"
      },
      {
        "duration": 20,
        "start_time": "2023-03-16T08:51:16.651Z"
      },
      {
        "duration": 39,
        "start_time": "2023-03-16T08:51:16.673Z"
      },
      {
        "duration": 376,
        "start_time": "2023-03-16T08:51:16.713Z"
      },
      {
        "duration": 1916,
        "start_time": "2023-03-16T08:51:17.090Z"
      },
      {
        "duration": 7,
        "start_time": "2023-03-16T08:51:19.008Z"
      },
      {
        "duration": 170,
        "start_time": "2023-03-16T08:51:19.017Z"
      },
      {
        "duration": 8,
        "start_time": "2023-03-16T08:51:19.188Z"
      },
      {
        "duration": 167,
        "start_time": "2023-03-16T08:51:19.198Z"
      },
      {
        "duration": 668,
        "start_time": "2023-03-16T08:51:19.367Z"
      },
      {
        "duration": 5,
        "start_time": "2023-03-16T08:51:20.037Z"
      },
      {
        "duration": 26,
        "start_time": "2023-03-16T08:51:20.044Z"
      },
      {
        "duration": 28,
        "start_time": "2023-03-16T08:51:20.072Z"
      },
      {
        "duration": 2094,
        "start_time": "2023-03-16T08:51:20.102Z"
      },
      {
        "duration": 7,
        "start_time": "2023-03-16T08:51:22.197Z"
      },
      {
        "duration": 1869,
        "start_time": "2023-03-16T08:51:22.205Z"
      },
      {
        "duration": 32,
        "start_time": "2023-03-16T08:51:24.075Z"
      },
      {
        "duration": 1228,
        "start_time": "2023-03-16T08:51:24.109Z"
      },
      {
        "duration": 2,
        "start_time": "2023-03-16T08:51:25.341Z"
      },
      {
        "duration": 10,
        "start_time": "2023-03-16T08:51:25.345Z"
      },
      {
        "duration": 311,
        "start_time": "2023-03-16T08:51:25.357Z"
      },
      {
        "duration": 119,
        "start_time": "2023-03-16T08:51:25.670Z"
      },
      {
        "duration": 0,
        "start_time": "2023-03-16T08:51:25.790Z"
      },
      {
        "duration": 9,
        "start_time": "2023-03-16T08:51:57.377Z"
      },
      {
        "duration": 280,
        "start_time": "2023-03-16T08:51:57.963Z"
      },
      {
        "duration": 4381,
        "start_time": "2023-03-16T08:51:59.914Z"
      },
      {
        "duration": 5,
        "start_time": "2023-03-16T08:52:08.326Z"
      },
      {
        "duration": 9,
        "start_time": "2023-03-16T08:52:09.000Z"
      },
      {
        "duration": 4,
        "start_time": "2023-03-16T09:01:51.868Z"
      },
      {
        "duration": 13,
        "start_time": "2023-03-16T09:07:26.830Z"
      },
      {
        "duration": 113,
        "start_time": "2023-03-16T09:07:26.992Z"
      },
      {
        "duration": 4,
        "start_time": "2023-03-16T09:07:35.051Z"
      },
      {
        "duration": 14,
        "start_time": "2023-03-16T09:07:35.640Z"
      },
      {
        "duration": 139433,
        "start_time": "2023-03-16T09:08:04.929Z"
      },
      {
        "duration": 141488,
        "start_time": "2023-03-16T09:11:33.359Z"
      },
      {
        "duration": 3,
        "start_time": "2023-03-16T09:13:54.848Z"
      },
      {
        "duration": 102,
        "start_time": "2023-03-16T09:16:43.099Z"
      },
      {
        "duration": 136,
        "start_time": "2023-03-16T09:17:15.106Z"
      },
      {
        "duration": 9452,
        "start_time": "2023-03-16T09:17:25.086Z"
      },
      {
        "duration": 1464,
        "start_time": "2023-03-16T09:17:41.350Z"
      },
      {
        "duration": 3,
        "start_time": "2023-03-16T09:17:47.199Z"
      },
      {
        "duration": 105,
        "start_time": "2023-03-16T10:03:41.249Z"
      },
      {
        "duration": 135,
        "start_time": "2023-03-16T10:03:57.450Z"
      },
      {
        "duration": 378,
        "start_time": "2023-03-16T10:04:07.791Z"
      },
      {
        "duration": 94,
        "start_time": "2023-03-16T10:05:26.374Z"
      },
      {
        "duration": 99,
        "start_time": "2023-03-16T10:05:56.377Z"
      },
      {
        "duration": 12041,
        "start_time": "2023-03-16T10:06:08.464Z"
      },
      {
        "duration": 1940,
        "start_time": "2023-03-16T10:06:28.818Z"
      },
      {
        "duration": 11928,
        "start_time": "2023-03-16T10:06:32.034Z"
      },
      {
        "duration": 334,
        "start_time": "2023-03-16T10:06:56.411Z"
      },
      {
        "duration": 5,
        "start_time": "2023-03-16T10:07:05.532Z"
      },
      {
        "duration": 15,
        "start_time": "2023-03-16T10:15:04.731Z"
      },
      {
        "duration": 12,
        "start_time": "2023-03-16T10:15:20.428Z"
      },
      {
        "duration": 16,
        "start_time": "2023-03-16T10:15:26.102Z"
      },
      {
        "duration": 4,
        "start_time": "2023-03-16T10:16:44.723Z"
      },
      {
        "duration": 9,
        "start_time": "2023-03-16T10:16:54.019Z"
      },
      {
        "duration": 5642,
        "start_time": "2023-03-16T10:21:02.914Z"
      },
      {
        "duration": 11,
        "start_time": "2023-03-16T10:22:28.407Z"
      },
      {
        "duration": 5,
        "start_time": "2023-03-16T10:22:38.842Z"
      },
      {
        "duration": 9,
        "start_time": "2023-03-16T10:24:20.917Z"
      },
      {
        "duration": 3,
        "start_time": "2023-03-16T10:24:27.300Z"
      },
      {
        "duration": 5,
        "start_time": "2023-03-16T10:24:34.119Z"
      },
      {
        "duration": 41,
        "start_time": "2023-03-16T10:25:15.518Z"
      },
      {
        "duration": 5890,
        "start_time": "2023-03-16T10:26:29.502Z"
      },
      {
        "duration": 5798,
        "start_time": "2023-03-16T10:26:40.073Z"
      },
      {
        "duration": 5984,
        "start_time": "2023-03-16T10:27:09.418Z"
      },
      {
        "duration": 7085,
        "start_time": "2023-03-16T10:27:23.434Z"
      },
      {
        "duration": 50,
        "start_time": "2023-03-16T10:27:31.842Z"
      },
      {
        "duration": 6988,
        "start_time": "2023-03-16T10:27:39.674Z"
      },
      {
        "duration": 44,
        "start_time": "2023-03-16T10:27:47.402Z"
      },
      {
        "duration": 4,
        "start_time": "2023-03-16T10:27:58.162Z"
      },
      {
        "duration": 11566,
        "start_time": "2023-03-16T10:28:34.158Z"
      },
      {
        "duration": 1889,
        "start_time": "2023-03-16T10:29:59.566Z"
      },
      {
        "duration": 1095,
        "start_time": "2023-03-16T10:30:01.458Z"
      },
      {
        "duration": 46,
        "start_time": "2023-03-16T10:30:02.559Z"
      },
      {
        "duration": 92,
        "start_time": "2023-03-16T10:30:02.607Z"
      },
      {
        "duration": 75,
        "start_time": "2023-03-16T10:30:02.703Z"
      },
      {
        "duration": 89,
        "start_time": "2023-03-16T10:30:02.788Z"
      },
      {
        "duration": 69,
        "start_time": "2023-03-16T10:30:02.879Z"
      },
      {
        "duration": 61,
        "start_time": "2023-03-16T10:30:02.951Z"
      },
      {
        "duration": 23,
        "start_time": "2023-03-16T10:30:03.018Z"
      },
      {
        "duration": 28,
        "start_time": "2023-03-16T10:30:03.043Z"
      },
      {
        "duration": 80,
        "start_time": "2023-03-16T10:30:03.078Z"
      },
      {
        "duration": 82,
        "start_time": "2023-03-16T10:30:03.169Z"
      },
      {
        "duration": 22,
        "start_time": "2023-03-16T10:30:03.254Z"
      },
      {
        "duration": 92,
        "start_time": "2023-03-16T10:30:03.284Z"
      },
      {
        "duration": 181,
        "start_time": "2023-03-16T10:30:03.378Z"
      },
      {
        "duration": 70,
        "start_time": "2023-03-16T10:30:03.561Z"
      },
      {
        "duration": 14,
        "start_time": "2023-03-16T10:30:03.633Z"
      },
      {
        "duration": 23,
        "start_time": "2023-03-16T10:30:03.651Z"
      },
      {
        "duration": 28,
        "start_time": "2023-03-16T10:30:03.676Z"
      },
      {
        "duration": 62,
        "start_time": "2023-03-16T10:30:03.708Z"
      },
      {
        "duration": 96,
        "start_time": "2023-03-16T10:30:03.772Z"
      },
      {
        "duration": 132,
        "start_time": "2023-03-16T10:30:03.875Z"
      },
      {
        "duration": 32,
        "start_time": "2023-03-16T10:30:04.015Z"
      },
      {
        "duration": 66,
        "start_time": "2023-03-16T10:30:04.057Z"
      },
      {
        "duration": 15,
        "start_time": "2023-03-16T10:30:04.135Z"
      },
      {
        "duration": 559,
        "start_time": "2023-03-16T10:30:04.153Z"
      },
      {
        "duration": 2944,
        "start_time": "2023-03-16T10:30:04.714Z"
      },
      {
        "duration": 9,
        "start_time": "2023-03-16T10:30:07.659Z"
      },
      {
        "duration": 272,
        "start_time": "2023-03-16T10:30:07.670Z"
      },
      {
        "duration": 17,
        "start_time": "2023-03-16T10:30:07.946Z"
      },
      {
        "duration": 240,
        "start_time": "2023-03-16T10:30:07.968Z"
      },
      {
        "duration": 1000,
        "start_time": "2023-03-16T10:30:08.213Z"
      },
      {
        "duration": 4,
        "start_time": "2023-03-16T10:30:09.216Z"
      },
      {
        "duration": 115,
        "start_time": "2023-03-16T10:30:09.223Z"
      },
      {
        "duration": 20,
        "start_time": "2023-03-16T10:30:09.340Z"
      },
      {
        "duration": 3228,
        "start_time": "2023-03-16T10:30:09.362Z"
      },
      {
        "duration": 38,
        "start_time": "2023-03-16T10:30:12.599Z"
      },
      {
        "duration": 3066,
        "start_time": "2023-03-16T10:30:12.650Z"
      },
      {
        "duration": 26,
        "start_time": "2023-03-16T10:30:15.718Z"
      },
      {
        "duration": 2109,
        "start_time": "2023-03-16T10:30:15.753Z"
      },
      {
        "duration": 11,
        "start_time": "2023-03-16T10:30:17.876Z"
      },
      {
        "duration": 84,
        "start_time": "2023-03-16T10:30:17.892Z"
      },
      {
        "duration": 615,
        "start_time": "2023-03-16T10:30:17.981Z"
      },
      {
        "duration": 227,
        "start_time": "2023-03-16T10:30:18.610Z"
      },
      {
        "duration": 0,
        "start_time": "2023-03-16T10:30:18.839Z"
      },
      {
        "duration": 0,
        "start_time": "2023-03-16T10:30:18.840Z"
      },
      {
        "duration": 0,
        "start_time": "2023-03-16T10:30:18.845Z"
      },
      {
        "duration": 0,
        "start_time": "2023-03-16T10:30:18.849Z"
      },
      {
        "duration": 0,
        "start_time": "2023-03-16T10:30:18.850Z"
      },
      {
        "duration": 0,
        "start_time": "2023-03-16T10:30:18.851Z"
      },
      {
        "duration": 0,
        "start_time": "2023-03-16T10:30:18.852Z"
      },
      {
        "duration": 0,
        "start_time": "2023-03-16T10:30:18.853Z"
      },
      {
        "duration": 0,
        "start_time": "2023-03-16T10:30:18.854Z"
      },
      {
        "duration": 0,
        "start_time": "2023-03-16T10:30:18.855Z"
      },
      {
        "duration": 0,
        "start_time": "2023-03-16T10:30:18.856Z"
      },
      {
        "duration": 0,
        "start_time": "2023-03-16T10:30:18.860Z"
      },
      {
        "duration": 0,
        "start_time": "2023-03-16T10:30:18.862Z"
      },
      {
        "duration": 0,
        "start_time": "2023-03-16T10:30:18.863Z"
      },
      {
        "duration": 0,
        "start_time": "2023-03-16T10:30:18.864Z"
      },
      {
        "duration": 3995,
        "start_time": "2023-03-16T10:32:08.316Z"
      },
      {
        "duration": 4749,
        "start_time": "2023-03-16T10:32:16.236Z"
      },
      {
        "duration": 3,
        "start_time": "2023-03-16T10:32:24.556Z"
      },
      {
        "duration": 7,
        "start_time": "2023-03-16T10:32:24.951Z"
      },
      {
        "duration": 166017,
        "start_time": "2023-03-16T10:32:29.730Z"
      },
      {
        "duration": 7092,
        "start_time": "2023-03-16T10:36:02.233Z"
      },
      {
        "duration": 153152,
        "start_time": "2023-03-16T10:36:17.249Z"
      },
      {
        "duration": 1594,
        "start_time": "2023-03-16T10:38:56.208Z"
      },
      {
        "duration": 3,
        "start_time": "2023-03-16T10:38:59.725Z"
      },
      {
        "duration": 9660,
        "start_time": "2023-03-16T10:39:39.925Z"
      },
      {
        "duration": 1483,
        "start_time": "2023-03-16T10:39:57.377Z"
      },
      {
        "duration": 9563,
        "start_time": "2023-03-16T10:40:05.913Z"
      },
      {
        "duration": 256,
        "start_time": "2023-03-16T10:40:20.295Z"
      },
      {
        "duration": 4,
        "start_time": "2023-03-16T10:40:23.876Z"
      },
      {
        "duration": 8,
        "start_time": "2023-03-16T10:40:27.836Z"
      },
      {
        "duration": 5450,
        "start_time": "2023-03-16T10:40:29.205Z"
      },
      {
        "duration": 32,
        "start_time": "2023-03-16T10:40:40.199Z"
      },
      {
        "duration": 3569,
        "start_time": "2023-03-16T10:41:48.565Z"
      },
      {
        "duration": 36,
        "start_time": "2023-03-16T10:41:55.262Z"
      },
      {
        "duration": 28,
        "start_time": "2023-03-16T10:42:54.195Z"
      },
      {
        "duration": 1618,
        "start_time": "2023-03-16T12:44:35.741Z"
      },
      {
        "duration": 2031,
        "start_time": "2023-03-16T12:44:37.361Z"
      },
      {
        "duration": 23,
        "start_time": "2023-03-16T12:44:39.393Z"
      },
      {
        "duration": 17,
        "start_time": "2023-03-16T12:44:39.418Z"
      },
      {
        "duration": 19,
        "start_time": "2023-03-16T12:44:39.438Z"
      },
      {
        "duration": 17,
        "start_time": "2023-03-16T12:44:39.458Z"
      },
      {
        "duration": 12,
        "start_time": "2023-03-16T12:44:39.476Z"
      },
      {
        "duration": 4,
        "start_time": "2023-03-16T12:44:39.490Z"
      },
      {
        "duration": 5,
        "start_time": "2023-03-16T12:44:39.495Z"
      },
      {
        "duration": 4,
        "start_time": "2023-03-16T12:44:39.501Z"
      },
      {
        "duration": 38,
        "start_time": "2023-03-16T12:44:39.507Z"
      },
      {
        "duration": 14,
        "start_time": "2023-03-16T12:44:39.547Z"
      },
      {
        "duration": 5,
        "start_time": "2023-03-16T12:44:39.563Z"
      },
      {
        "duration": 5,
        "start_time": "2023-03-16T12:44:39.571Z"
      },
      {
        "duration": 4,
        "start_time": "2023-03-16T12:44:39.578Z"
      },
      {
        "duration": 5,
        "start_time": "2023-03-16T12:44:39.584Z"
      },
      {
        "duration": 5,
        "start_time": "2023-03-16T12:44:39.591Z"
      },
      {
        "duration": 6,
        "start_time": "2023-03-16T12:44:39.597Z"
      },
      {
        "duration": 12,
        "start_time": "2023-03-16T12:44:39.604Z"
      },
      {
        "duration": 44,
        "start_time": "2023-03-16T12:44:39.617Z"
      },
      {
        "duration": 11,
        "start_time": "2023-03-16T12:44:39.662Z"
      },
      {
        "duration": 27,
        "start_time": "2023-03-16T12:44:39.675Z"
      },
      {
        "duration": 7,
        "start_time": "2023-03-16T12:44:39.704Z"
      },
      {
        "duration": 13,
        "start_time": "2023-03-16T12:44:39.713Z"
      },
      {
        "duration": 28,
        "start_time": "2023-03-16T12:44:39.728Z"
      },
      {
        "duration": 249,
        "start_time": "2023-03-16T12:44:39.757Z"
      },
      {
        "duration": 1925,
        "start_time": "2023-03-16T12:44:40.008Z"
      },
      {
        "duration": 7,
        "start_time": "2023-03-16T12:44:41.935Z"
      },
      {
        "duration": 156,
        "start_time": "2023-03-16T12:44:41.943Z"
      },
      {
        "duration": 7,
        "start_time": "2023-03-16T12:44:42.100Z"
      },
      {
        "duration": 161,
        "start_time": "2023-03-16T12:44:42.108Z"
      },
      {
        "duration": 657,
        "start_time": "2023-03-16T12:44:42.270Z"
      },
      {
        "duration": 4,
        "start_time": "2023-03-16T12:44:42.928Z"
      },
      {
        "duration": 6,
        "start_time": "2023-03-16T12:44:42.934Z"
      },
      {
        "duration": 13,
        "start_time": "2023-03-16T12:44:42.942Z"
      },
      {
        "duration": 2031,
        "start_time": "2023-03-16T12:44:42.957Z"
      },
      {
        "duration": 7,
        "start_time": "2023-03-16T12:44:44.990Z"
      },
      {
        "duration": 2040,
        "start_time": "2023-03-16T12:44:44.998Z"
      },
      {
        "duration": 24,
        "start_time": "2023-03-16T12:44:47.039Z"
      },
      {
        "duration": 1383,
        "start_time": "2023-03-16T12:44:47.064Z"
      },
      {
        "duration": 2,
        "start_time": "2023-03-16T12:44:48.457Z"
      },
      {
        "duration": 5,
        "start_time": "2023-03-16T12:44:48.461Z"
      },
      {
        "duration": 7,
        "start_time": "2023-03-16T12:45:00.642Z"
      },
      {
        "duration": 120,
        "start_time": "2023-03-16T12:45:17.698Z"
      },
      {
        "duration": 1473,
        "start_time": "2023-03-16T12:45:32.489Z"
      }
    ],
    "kernelspec": {
      "display_name": "Python 3 (ipykernel)",
      "language": "python",
      "name": "python3"
    },
    "language_info": {
      "codemirror_mode": {
        "name": "ipython",
        "version": 3
      },
      "file_extension": ".py",
      "mimetype": "text/x-python",
      "name": "python",
      "nbconvert_exporter": "python",
      "pygments_lexer": "ipython3",
      "version": "3.9.5"
    },
    "toc": {
      "base_numbering": 1,
      "nav_menu": {},
      "number_sections": true,
      "sideBar": true,
      "skip_h1_title": true,
      "title_cell": "Содержание",
      "title_sidebar": "Contents",
      "toc_cell": true,
      "toc_position": {
        "height": "calc(100% - 180px)",
        "left": "10px",
        "top": "150px",
        "width": "253px"
      },
      "toc_section_display": true,
      "toc_window_display": true
    },
    "colab": {
      "provenance": []
    }
  },
  "nbformat": 4,
  "nbformat_minor": 0
}